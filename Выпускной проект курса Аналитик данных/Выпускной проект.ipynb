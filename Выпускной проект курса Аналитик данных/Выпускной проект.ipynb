{
 "cells": [
  {
   "cell_type": "markdown",
   "metadata": {},
   "source": [
    "## Анализ товарного ассортимента"
   ]
  },
  {
   "cell_type": "markdown",
   "metadata": {},
   "source": [
    "Задача проекта - анализ ассортимента товаров интернет-магазина «Пока все ещё тут». Анализ должен включать:\n",
    "* исследовательский анализ данных;\n",
    "* анализ ассортимента;\n",
    "* проверку статистических гипотез.\n",
    "\n",
    "Цель проекта - определить, какие товары входят в основной и дполнительный ассортимент, чтобы заказчик мог оптимизировать свои закупки.\n",
    "\n",
    "Все необходимые данные хранятся в файле `ecommerce_dataset.csv`.\n",
    "\n",
    "Датасет включает следующие колонки:\n",
    "- `date` — дата заказа;\n",
    "- `customer_id` — идентификатор покупателя;\n",
    "- `order_id` — идентификатор заказа;\n",
    "- `product` — наименование товара;\n",
    "- `quantity` — количество товара в заказе;\n",
    "- `price` — цена товара."
   ]
  },
  {
   "cell_type": "markdown",
   "metadata": {},
   "source": [
    "### Материалы:\n",
    "* [Презентация](https://disk.yandex.ru/i/yShLNBoVkIoqaA)\n",
    "* [Дашборд](https://public.tableau.com/views/-_16251703147780/Dashboard1?:language=en-US&:display_count=n&:origin=viz_share_link) (Набор №2)"
   ]
  },
  {
   "cell_type": "markdown",
   "metadata": {},
   "source": [
    "### План проекта\n",
    "#### 1. [Предобработка данных](#data)\n",
    "#### 2. [Исследовательский анализ данных](#eda)\n",
    "#### 3. [Категоризация товаров](#category)\n",
    "#### 4. [Деление товаров на ассортименты](#assor)\n",
    "#### 5. [Проверка гипотез](#check)\n",
    "#### 6. [Вывод](#conclusion)"
   ]
  },
  {
   "cell_type": "markdown",
   "metadata": {},
   "source": [
    "Загрузим необходимые библиотеки и сам датасет"
   ]
  },
  {
   "cell_type": "code",
   "execution_count": 1,
   "metadata": {},
   "outputs": [],
   "source": [
    "import pandas as pd\n",
    "import seaborn as sns\n",
    "import matplotlib.pyplot as plt\n",
    "from sklearn.preprocessing import MinMaxScaler\n",
    "from scipy import stats as st"
   ]
  },
  {
   "cell_type": "code",
   "execution_count": 2,
   "metadata": {},
   "outputs": [],
   "source": [
    "df = pd.read_csv('/datasets/ecommerce_dataset.csv')"
   ]
  },
  {
   "cell_type": "markdown",
   "metadata": {},
   "source": [
    "### Предобработка данных\n",
    "<a id=\"data\"></a>"
   ]
  },
  {
   "cell_type": "code",
   "execution_count": 3,
   "metadata": {},
   "outputs": [
    {
     "name": "stdout",
     "output_type": "stream",
     "text": [
      "<class 'pandas.core.frame.DataFrame'>\n",
      "RangeIndex: 6737 entries, 0 to 6736\n",
      "Data columns (total 6 columns):\n",
      "date           6737 non-null int64\n",
      "customer_id    6737 non-null object\n",
      "order_id       6737 non-null int64\n",
      "product        6737 non-null object\n",
      "quantity       6737 non-null int64\n",
      "price          6737 non-null float64\n",
      "dtypes: float64(1), int64(3), object(2)\n",
      "memory usage: 315.9+ KB\n"
     ]
    }
   ],
   "source": [
    "df.info()"
   ]
  },
  {
   "cell_type": "markdown",
   "metadata": {},
   "source": [
    "Пропусков нет."
   ]
  },
  {
   "cell_type": "code",
   "execution_count": 4,
   "metadata": {},
   "outputs": [
    {
     "data": {
      "text/plain": [
       "0"
      ]
     },
     "execution_count": 4,
     "metadata": {},
     "output_type": "execute_result"
    }
   ],
   "source": [
    "df.duplicated().sum()"
   ]
  },
  {
   "cell_type": "markdown",
   "metadata": {},
   "source": [
    "Полных дубликатов нет."
   ]
  },
  {
   "cell_type": "code",
   "execution_count": 5,
   "metadata": {},
   "outputs": [
    {
     "data": {
      "text/html": [
       "<div>\n",
       "<style scoped>\n",
       "    .dataframe tbody tr th:only-of-type {\n",
       "        vertical-align: middle;\n",
       "    }\n",
       "\n",
       "    .dataframe tbody tr th {\n",
       "        vertical-align: top;\n",
       "    }\n",
       "\n",
       "    .dataframe thead th {\n",
       "        text-align: right;\n",
       "    }\n",
       "</style>\n",
       "<table border=\"1\" class=\"dataframe\">\n",
       "  <thead>\n",
       "    <tr style=\"text-align: right;\">\n",
       "      <th></th>\n",
       "      <th>date</th>\n",
       "      <th>customer_id</th>\n",
       "      <th>order_id</th>\n",
       "      <th>product</th>\n",
       "      <th>quantity</th>\n",
       "      <th>price</th>\n",
       "    </tr>\n",
       "  </thead>\n",
       "  <tbody>\n",
       "    <tr>\n",
       "      <td>0</td>\n",
       "      <td>2018100100</td>\n",
       "      <td>ee47d746-6d2f-4d3c-9622-c31412542920</td>\n",
       "      <td>68477</td>\n",
       "      <td>Комнатное растение в горшке Алое Вера, d12, h30</td>\n",
       "      <td>1</td>\n",
       "      <td>142.0</td>\n",
       "    </tr>\n",
       "    <tr>\n",
       "      <td>1</td>\n",
       "      <td>2018100100</td>\n",
       "      <td>ee47d746-6d2f-4d3c-9622-c31412542920</td>\n",
       "      <td>68477</td>\n",
       "      <td>Комнатное растение в горшке Кофе Арабика, d12,...</td>\n",
       "      <td>1</td>\n",
       "      <td>194.0</td>\n",
       "    </tr>\n",
       "    <tr>\n",
       "      <td>2</td>\n",
       "      <td>2018100100</td>\n",
       "      <td>ee47d746-6d2f-4d3c-9622-c31412542920</td>\n",
       "      <td>68477</td>\n",
       "      <td>Радермахера d-12 см h-20 см</td>\n",
       "      <td>1</td>\n",
       "      <td>112.0</td>\n",
       "    </tr>\n",
       "    <tr>\n",
       "      <td>3</td>\n",
       "      <td>2018100100</td>\n",
       "      <td>ee47d746-6d2f-4d3c-9622-c31412542920</td>\n",
       "      <td>68477</td>\n",
       "      <td>Хризолидокарпус Лутесценс d-9 см</td>\n",
       "      <td>1</td>\n",
       "      <td>179.0</td>\n",
       "    </tr>\n",
       "    <tr>\n",
       "      <td>4</td>\n",
       "      <td>2018100100</td>\n",
       "      <td>ee47d746-6d2f-4d3c-9622-c31412542920</td>\n",
       "      <td>68477</td>\n",
       "      <td>Циперус Зумула d-12 см h-25 см</td>\n",
       "      <td>1</td>\n",
       "      <td>112.0</td>\n",
       "    </tr>\n",
       "  </tbody>\n",
       "</table>\n",
       "</div>"
      ],
      "text/plain": [
       "         date                           customer_id  order_id  \\\n",
       "0  2018100100  ee47d746-6d2f-4d3c-9622-c31412542920     68477   \n",
       "1  2018100100  ee47d746-6d2f-4d3c-9622-c31412542920     68477   \n",
       "2  2018100100  ee47d746-6d2f-4d3c-9622-c31412542920     68477   \n",
       "3  2018100100  ee47d746-6d2f-4d3c-9622-c31412542920     68477   \n",
       "4  2018100100  ee47d746-6d2f-4d3c-9622-c31412542920     68477   \n",
       "\n",
       "                                             product  quantity  price  \n",
       "0    Комнатное растение в горшке Алое Вера, d12, h30         1  142.0  \n",
       "1  Комнатное растение в горшке Кофе Арабика, d12,...         1  194.0  \n",
       "2                        Радермахера d-12 см h-20 см         1  112.0  \n",
       "3                   Хризолидокарпус Лутесценс d-9 см         1  179.0  \n",
       "4                     Циперус Зумула d-12 см h-25 см         1  112.0  "
      ]
     },
     "execution_count": 5,
     "metadata": {},
     "output_type": "execute_result"
    }
   ],
   "source": [
    "df.head()"
   ]
  },
  {
   "cell_type": "markdown",
   "metadata": {},
   "source": [
    "Столбец с датой выглядит подозрительно. Посмотрим, какие ещё значения он принимает."
   ]
  },
  {
   "cell_type": "code",
   "execution_count": 6,
   "metadata": {},
   "outputs": [
    {
     "data": {
      "text/plain": [
       "2019042716    51\n",
       "2019042421    44\n",
       "2019060722    42\n",
       "2019051219    39\n",
       "2019051315    36\n",
       "2019050216    36\n",
       "2019051411    33\n",
       "2019060509    33\n",
       "2019060419    32\n",
       "2019060608    30\n",
       "2019060808    30\n",
       "2019051309    30\n",
       "2019042913    29\n",
       "2019060418    29\n",
       "2019053122    29\n",
       "2019060716    29\n",
       "2019051320    27\n",
       "2019052913    27\n",
       "2019070917    26\n",
       "2019051508    25\n",
       "2019071009    25\n",
       "2019070514    24\n",
       "2018100211    22\n",
       "2018102613    21\n",
       "2019041014    20\n",
       "2019051622    20\n",
       "2019032812    19\n",
       "2019050711    19\n",
       "2019030113    18\n",
       "2018120311    18\n",
       "2019052110    18\n",
       "2018111014    18\n",
       "2019061621    18\n",
       "2019053022    17\n",
       "2019032914    17\n",
       "2019041916    17\n",
       "2019060510    17\n",
       "2019040212    17\n",
       "2019050813    16\n",
       "2019022514    16\n",
       "2019030415    15\n",
       "2018110408    15\n",
       "2019051119    15\n",
       "2018102723    15\n",
       "2019060514    15\n",
       "2019051815    15\n",
       "2019060411    14\n",
       "2019041616    14\n",
       "2018102917    14\n",
       "2019092121    14\n",
       "Name: date, dtype: int64"
      ]
     },
     "execution_count": 6,
     "metadata": {},
     "output_type": "execute_result"
    }
   ],
   "source": [
    "df['date'].value_counts().head(50)"
   ]
  },
  {
   "cell_type": "markdown",
   "metadata": {},
   "source": [
    "Первые 4 цифры - год, следующие пары цифр не больше 12 (месяц), не больше 31 (день) и не больше 24 (час) соответственно. Переводим дату в нужный формат."
   ]
  },
  {
   "cell_type": "code",
   "execution_count": 7,
   "metadata": {},
   "outputs": [],
   "source": [
    "df['date'] = pd.to_datetime(df['date'], format='%Y%m%d%H')"
   ]
  },
  {
   "cell_type": "code",
   "execution_count": 8,
   "metadata": {},
   "outputs": [
    {
     "name": "stdout",
     "output_type": "stream",
     "text": [
      "В датасете собраны данные с 2018-10-01 00:00:00 по 2019-10-31 16:00:00\n"
     ]
    }
   ],
   "source": [
    "print('В датасете собраны данные с {} по {}'.format(df['date'].min(), df['date'].max()))"
   ]
  },
  {
   "cell_type": "markdown",
   "metadata": {},
   "source": [
    "То есть чуть больше года - почти 13 месяцев.\n",
    "\n",
    "Переведём наименования продукции в нижний регистр - в дальнейшем это упростит категоризацию, т.к. можно будет не учитывать Caps Lock."
   ]
  },
  {
   "cell_type": "code",
   "execution_count": 9,
   "metadata": {},
   "outputs": [],
   "source": [
    "df['product'] = df['product'].str.lower()"
   ]
  },
  {
   "cell_type": "markdown",
   "metadata": {},
   "source": [
    "Добавим столбец с суммой покупки, перемножив `quantity` и `price`."
   ]
  },
  {
   "cell_type": "code",
   "execution_count": 10,
   "metadata": {},
   "outputs": [],
   "source": [
    "df['revenue'] = df['quantity'] * df['price']"
   ]
  },
  {
   "cell_type": "markdown",
   "metadata": {},
   "source": [
    "Предобработка данных завершена, переходим к исследовательскому анализу данных."
   ]
  },
  {
   "cell_type": "markdown",
   "metadata": {},
   "source": [
    "### Исследовательский анализ данных\n",
    "<a id=\"eda\"></a>"
   ]
  },
  {
   "cell_type": "code",
   "execution_count": 11,
   "metadata": {},
   "outputs": [
    {
     "data": {
      "text/html": [
       "<div>\n",
       "<style scoped>\n",
       "    .dataframe tbody tr th:only-of-type {\n",
       "        vertical-align: middle;\n",
       "    }\n",
       "\n",
       "    .dataframe tbody tr th {\n",
       "        vertical-align: top;\n",
       "    }\n",
       "\n",
       "    .dataframe thead th {\n",
       "        text-align: right;\n",
       "    }\n",
       "</style>\n",
       "<table border=\"1\" class=\"dataframe\">\n",
       "  <thead>\n",
       "    <tr style=\"text-align: right;\">\n",
       "      <th></th>\n",
       "      <th>order_id</th>\n",
       "      <th>quantity</th>\n",
       "      <th>price</th>\n",
       "      <th>revenue</th>\n",
       "    </tr>\n",
       "  </thead>\n",
       "  <tbody>\n",
       "    <tr>\n",
       "      <td>count</td>\n",
       "      <td>6737.000000</td>\n",
       "      <td>6737.000000</td>\n",
       "      <td>6737.000000</td>\n",
       "      <td>6737.000000</td>\n",
       "    </tr>\n",
       "    <tr>\n",
       "      <td>mean</td>\n",
       "      <td>43128.948345</td>\n",
       "      <td>2.501559</td>\n",
       "      <td>462.028499</td>\n",
       "      <td>720.094998</td>\n",
       "    </tr>\n",
       "    <tr>\n",
       "      <td>std</td>\n",
       "      <td>27899.414662</td>\n",
       "      <td>15.266478</td>\n",
       "      <td>871.296064</td>\n",
       "      <td>8352.100591</td>\n",
       "    </tr>\n",
       "    <tr>\n",
       "      <td>min</td>\n",
       "      <td>12624.000000</td>\n",
       "      <td>1.000000</td>\n",
       "      <td>9.000000</td>\n",
       "      <td>9.000000</td>\n",
       "    </tr>\n",
       "    <tr>\n",
       "      <td>25%</td>\n",
       "      <td>14827.000000</td>\n",
       "      <td>1.000000</td>\n",
       "      <td>101.000000</td>\n",
       "      <td>120.000000</td>\n",
       "    </tr>\n",
       "    <tr>\n",
       "      <td>50%</td>\n",
       "      <td>68503.000000</td>\n",
       "      <td>1.000000</td>\n",
       "      <td>135.000000</td>\n",
       "      <td>162.000000</td>\n",
       "    </tr>\n",
       "    <tr>\n",
       "      <td>75%</td>\n",
       "      <td>70504.000000</td>\n",
       "      <td>1.000000</td>\n",
       "      <td>398.000000</td>\n",
       "      <td>600.000000</td>\n",
       "    </tr>\n",
       "    <tr>\n",
       "      <td>max</td>\n",
       "      <td>73164.000000</td>\n",
       "      <td>1000.000000</td>\n",
       "      <td>14917.000000</td>\n",
       "      <td>675000.000000</td>\n",
       "    </tr>\n",
       "  </tbody>\n",
       "</table>\n",
       "</div>"
      ],
      "text/plain": [
       "           order_id     quantity         price        revenue\n",
       "count   6737.000000  6737.000000   6737.000000    6737.000000\n",
       "mean   43128.948345     2.501559    462.028499     720.094998\n",
       "std    27899.414662    15.266478    871.296064    8352.100591\n",
       "min    12624.000000     1.000000      9.000000       9.000000\n",
       "25%    14827.000000     1.000000    101.000000     120.000000\n",
       "50%    68503.000000     1.000000    135.000000     162.000000\n",
       "75%    70504.000000     1.000000    398.000000     600.000000\n",
       "max    73164.000000  1000.000000  14917.000000  675000.000000"
      ]
     },
     "execution_count": 11,
     "metadata": {},
     "output_type": "execute_result"
    }
   ],
   "source": [
    "df.describe()"
   ]
  },
  {
   "cell_type": "markdown",
   "metadata": {},
   "source": [
    "id покупок нас не интересуют, отрицательных цен и количеств товара не выявлено. Но уже заметны аномалии максимальных значений: какой-то оптовик закупил разом 1000 единиц товара (одного товара, кстати!) и какой-то товар стоил почти 15 тысяч."
   ]
  },
  {
   "cell_type": "code",
   "execution_count": 12,
   "metadata": {},
   "outputs": [
    {
     "data": {
      "text/html": [
       "<div>\n",
       "<style scoped>\n",
       "    .dataframe tbody tr th:only-of-type {\n",
       "        vertical-align: middle;\n",
       "    }\n",
       "\n",
       "    .dataframe tbody tr th {\n",
       "        vertical-align: top;\n",
       "    }\n",
       "\n",
       "    .dataframe thead th {\n",
       "        text-align: right;\n",
       "    }\n",
       "</style>\n",
       "<table border=\"1\" class=\"dataframe\">\n",
       "  <thead>\n",
       "    <tr style=\"text-align: right;\">\n",
       "      <th></th>\n",
       "      <th>date</th>\n",
       "      <th>customer_id</th>\n",
       "      <th>order_id</th>\n",
       "      <th>product</th>\n",
       "      <th>quantity</th>\n",
       "      <th>price</th>\n",
       "      <th>revenue</th>\n",
       "    </tr>\n",
       "  </thead>\n",
       "  <tbody>\n",
       "    <tr>\n",
       "      <td>5992</td>\n",
       "      <td>2019-07-29 17:00:00</td>\n",
       "      <td>0d87f4ae-465a-4fac-81e6-5d629761783e</td>\n",
       "      <td>72139</td>\n",
       "      <td>сушилка уличная leifheit 85210 linomatic v 400...</td>\n",
       "      <td>1</td>\n",
       "      <td>14917.0</td>\n",
       "      <td>14917.0</td>\n",
       "    </tr>\n",
       "    <tr>\n",
       "      <td>2697</td>\n",
       "      <td>2019-04-05 19:00:00</td>\n",
       "      <td>c0c60544-3a99-49d0-8a8e-cf7f293c22cb</td>\n",
       "      <td>71035</td>\n",
       "      <td>сумка-тележка хозяйственная andersen royal sho...</td>\n",
       "      <td>1</td>\n",
       "      <td>8737.0</td>\n",
       "      <td>8737.0</td>\n",
       "    </tr>\n",
       "    <tr>\n",
       "      <td>1981</td>\n",
       "      <td>2019-02-24 10:00:00</td>\n",
       "      <td>ac250053-a236-467a-97d2-ddbb9bf4a1ba</td>\n",
       "      <td>70423</td>\n",
       "      <td>сумка-тележка хозяйственная andersen alu star ...</td>\n",
       "      <td>1</td>\n",
       "      <td>8437.0</td>\n",
       "      <td>8437.0</td>\n",
       "    </tr>\n",
       "    <tr>\n",
       "      <td>2997</td>\n",
       "      <td>2019-04-21 16:00:00</td>\n",
       "      <td>19d904d8-8d16-476d-8f66-b2a3b7a23660</td>\n",
       "      <td>71227</td>\n",
       "      <td>сумка-тележка хозяйственная rolser mnb019 rojo...</td>\n",
       "      <td>1</td>\n",
       "      <td>8077.0</td>\n",
       "      <td>8077.0</td>\n",
       "    </tr>\n",
       "    <tr>\n",
       "      <td>6629</td>\n",
       "      <td>2019-10-16 15:00:00</td>\n",
       "      <td>d5584388-ffbe-42fd-a746-a98828ec919f</td>\n",
       "      <td>72992</td>\n",
       "      <td>стремянка 7 ступенчатая hailo 8040-707 xxl 13 ...</td>\n",
       "      <td>1</td>\n",
       "      <td>7724.0</td>\n",
       "      <td>7724.0</td>\n",
       "    </tr>\n",
       "    <tr>\n",
       "      <td>...</td>\n",
       "      <td>...</td>\n",
       "      <td>...</td>\n",
       "      <td>...</td>\n",
       "      <td>...</td>\n",
       "      <td>...</td>\n",
       "      <td>...</td>\n",
       "      <td>...</td>\n",
       "    </tr>\n",
       "    <tr>\n",
       "      <td>2169</td>\n",
       "      <td>2019-03-04 15:00:00</td>\n",
       "      <td>0f47231c-3a68-404a-88f7-08a4a172c17f</td>\n",
       "      <td>14559</td>\n",
       "      <td>укроп обильнолистный 3,0 г 4660010772562</td>\n",
       "      <td>1</td>\n",
       "      <td>10.0</td>\n",
       "      <td>10.0</td>\n",
       "    </tr>\n",
       "    <tr>\n",
       "      <td>1078</td>\n",
       "      <td>2018-12-03 11:00:00</td>\n",
       "      <td>2c8b9386-2e8c-4ee9-8aa4-2b4875b68578</td>\n",
       "      <td>14514</td>\n",
       "      <td>львиный зев волшебный ковер 0,05 г 4660010779639</td>\n",
       "      <td>1</td>\n",
       "      <td>9.0</td>\n",
       "      <td>9.0</td>\n",
       "    </tr>\n",
       "    <tr>\n",
       "      <td>1069</td>\n",
       "      <td>2018-12-03 11:00:00</td>\n",
       "      <td>2c8b9386-2e8c-4ee9-8aa4-2b4875b68578</td>\n",
       "      <td>14514</td>\n",
       "      <td>алиссум (лобулярия) снежные одежды 0,2 г 46500...</td>\n",
       "      <td>2</td>\n",
       "      <td>9.0</td>\n",
       "      <td>18.0</td>\n",
       "    </tr>\n",
       "    <tr>\n",
       "      <td>5642</td>\n",
       "      <td>2019-07-03 22:00:00</td>\n",
       "      <td>1ec1ad59-a29b-4949-929d-f4fc4fe14758</td>\n",
       "      <td>14887</td>\n",
       "      <td>алиссум (лобулярия) снежные одежды 0,2 г 46500...</td>\n",
       "      <td>1</td>\n",
       "      <td>9.0</td>\n",
       "      <td>9.0</td>\n",
       "    </tr>\n",
       "    <tr>\n",
       "      <td>2159</td>\n",
       "      <td>2019-03-04 15:00:00</td>\n",
       "      <td>0f47231c-3a68-404a-88f7-08a4a172c17f</td>\n",
       "      <td>14559</td>\n",
       "      <td>горох амброзия 10,0 г 4660010772616</td>\n",
       "      <td>1</td>\n",
       "      <td>9.0</td>\n",
       "      <td>9.0</td>\n",
       "    </tr>\n",
       "  </tbody>\n",
       "</table>\n",
       "<p>6737 rows × 7 columns</p>\n",
       "</div>"
      ],
      "text/plain": [
       "                    date                           customer_id  order_id  \\\n",
       "5992 2019-07-29 17:00:00  0d87f4ae-465a-4fac-81e6-5d629761783e     72139   \n",
       "2697 2019-04-05 19:00:00  c0c60544-3a99-49d0-8a8e-cf7f293c22cb     71035   \n",
       "1981 2019-02-24 10:00:00  ac250053-a236-467a-97d2-ddbb9bf4a1ba     70423   \n",
       "2997 2019-04-21 16:00:00  19d904d8-8d16-476d-8f66-b2a3b7a23660     71227   \n",
       "6629 2019-10-16 15:00:00  d5584388-ffbe-42fd-a746-a98828ec919f     72992   \n",
       "...                  ...                                   ...       ...   \n",
       "2169 2019-03-04 15:00:00  0f47231c-3a68-404a-88f7-08a4a172c17f     14559   \n",
       "1078 2018-12-03 11:00:00  2c8b9386-2e8c-4ee9-8aa4-2b4875b68578     14514   \n",
       "1069 2018-12-03 11:00:00  2c8b9386-2e8c-4ee9-8aa4-2b4875b68578     14514   \n",
       "5642 2019-07-03 22:00:00  1ec1ad59-a29b-4949-929d-f4fc4fe14758     14887   \n",
       "2159 2019-03-04 15:00:00  0f47231c-3a68-404a-88f7-08a4a172c17f     14559   \n",
       "\n",
       "                                                product  quantity    price  \\\n",
       "5992  сушилка уличная leifheit 85210 linomatic v 400...         1  14917.0   \n",
       "2697  сумка-тележка хозяйственная andersen royal sho...         1   8737.0   \n",
       "1981  сумка-тележка хозяйственная andersen alu star ...         1   8437.0   \n",
       "2997  сумка-тележка хозяйственная rolser mnb019 rojo...         1   8077.0   \n",
       "6629  стремянка 7 ступенчатая hailo 8040-707 xxl 13 ...         1   7724.0   \n",
       "...                                                 ...       ...      ...   \n",
       "2169           укроп обильнолистный 3,0 г 4660010772562         1     10.0   \n",
       "1078   львиный зев волшебный ковер 0,05 г 4660010779639         1      9.0   \n",
       "1069  алиссум (лобулярия) снежные одежды 0,2 г 46500...         2      9.0   \n",
       "5642  алиссум (лобулярия) снежные одежды 0,2 г 46500...         1      9.0   \n",
       "2159                горох амброзия 10,0 г 4660010772616         1      9.0   \n",
       "\n",
       "      revenue  \n",
       "5992  14917.0  \n",
       "2697   8737.0  \n",
       "1981   8437.0  \n",
       "2997   8077.0  \n",
       "6629   7724.0  \n",
       "...       ...  \n",
       "2169     10.0  \n",
       "1078      9.0  \n",
       "1069     18.0  \n",
       "5642      9.0  \n",
       "2159      9.0  \n",
       "\n",
       "[6737 rows x 7 columns]"
      ]
     },
     "execution_count": 12,
     "metadata": {},
     "output_type": "execute_result"
    }
   ],
   "source": [
    "df.sort_values('price',ascending = False)"
   ]
  },
  {
   "cell_type": "markdown",
   "metadata": {},
   "source": [
    "Да, сушилки на самом деле бывают настолько дорогими."
   ]
  },
  {
   "cell_type": "code",
   "execution_count": 13,
   "metadata": {},
   "outputs": [
    {
     "data": {
      "text/html": [
       "<div>\n",
       "<style scoped>\n",
       "    .dataframe tbody tr th:only-of-type {\n",
       "        vertical-align: middle;\n",
       "    }\n",
       "\n",
       "    .dataframe tbody tr th {\n",
       "        vertical-align: top;\n",
       "    }\n",
       "\n",
       "    .dataframe thead th {\n",
       "        text-align: right;\n",
       "    }\n",
       "</style>\n",
       "<table border=\"1\" class=\"dataframe\">\n",
       "  <thead>\n",
       "    <tr style=\"text-align: right;\">\n",
       "      <th></th>\n",
       "      <th>product</th>\n",
       "      <th>quantity</th>\n",
       "    </tr>\n",
       "  </thead>\n",
       "  <tbody>\n",
       "    <tr>\n",
       "      <td>5456</td>\n",
       "      <td>вантуз с деревянной ручкой d14 см красный, bur...</td>\n",
       "      <td>1000</td>\n",
       "    </tr>\n",
       "    <tr>\n",
       "      <td>5071</td>\n",
       "      <td>вешалки мягкие для деликатных вещей 3 шт шоколад</td>\n",
       "      <td>334</td>\n",
       "    </tr>\n",
       "    <tr>\n",
       "      <td>3961</td>\n",
       "      <td>муляж яблоко 9 см красное</td>\n",
       "      <td>300</td>\n",
       "    </tr>\n",
       "    <tr>\n",
       "      <td>1158</td>\n",
       "      <td>ручка-скоба рс-100 белая *трибатрон*, 1108035</td>\n",
       "      <td>200</td>\n",
       "    </tr>\n",
       "    <tr>\n",
       "      <td>568</td>\n",
       "      <td>муляж яблоко 9 см красное</td>\n",
       "      <td>170</td>\n",
       "    </tr>\n",
       "    <tr>\n",
       "      <td>211</td>\n",
       "      <td>крепеж для пружины дверной, 1107055</td>\n",
       "      <td>150</td>\n",
       "    </tr>\n",
       "    <tr>\n",
       "      <td>212</td>\n",
       "      <td>пружина дверная 240 мм оцинкованная (д-19 мм) ...</td>\n",
       "      <td>150</td>\n",
       "    </tr>\n",
       "    <tr>\n",
       "      <td>267</td>\n",
       "      <td>пружина дверная 240 мм оцинкованная (д-19 мм) ...</td>\n",
       "      <td>150</td>\n",
       "    </tr>\n",
       "    <tr>\n",
       "      <td>2431</td>\n",
       "      <td>плечики пластмассовые размер 52 - 54 тула 1205158</td>\n",
       "      <td>150</td>\n",
       "    </tr>\n",
       "    <tr>\n",
       "      <td>266</td>\n",
       "      <td>крепеж для пружины дверной, 1107055</td>\n",
       "      <td>150</td>\n",
       "    </tr>\n",
       "    <tr>\n",
       "      <td>586</td>\n",
       "      <td>муляж яблоко 9 см красное</td>\n",
       "      <td>140</td>\n",
       "    </tr>\n",
       "    <tr>\n",
       "      <td>6535</td>\n",
       "      <td>крепеж для пружины дверной оцинкованный, 1107054</td>\n",
       "      <td>100</td>\n",
       "    </tr>\n",
       "    <tr>\n",
       "      <td>6707</td>\n",
       "      <td>шпингалет 80 мм белый с пружиной, 1102188</td>\n",
       "      <td>100</td>\n",
       "    </tr>\n",
       "    <tr>\n",
       "      <td>1103</td>\n",
       "      <td>щетка для посуды *оля*, мультипласт 1807010</td>\n",
       "      <td>100</td>\n",
       "    </tr>\n",
       "    <tr>\n",
       "      <td>1555</td>\n",
       "      <td>щетка для мытья посуды колибри м5202 большая</td>\n",
       "      <td>100</td>\n",
       "    </tr>\n",
       "    <tr>\n",
       "      <td>13</td>\n",
       "      <td>крючок одежный 2-х рожковый серый металлик с п...</td>\n",
       "      <td>96</td>\n",
       "    </tr>\n",
       "    <tr>\n",
       "      <td>6367</td>\n",
       "      <td>универсальный нож webber из нержавеющей стали ...</td>\n",
       "      <td>80</td>\n",
       "    </tr>\n",
       "    <tr>\n",
       "      <td>4082</td>\n",
       "      <td>насадка на валик вмм-200/60 белый искусственны...</td>\n",
       "      <td>70</td>\n",
       "    </tr>\n",
       "    <tr>\n",
       "      <td>6567</td>\n",
       "      <td>искусственный цветок подснежник садовый пласти...</td>\n",
       "      <td>65</td>\n",
       "    </tr>\n",
       "    <tr>\n",
       "      <td>160</td>\n",
       "      <td>стяжка оконная с болтом ст-55 цинк, 1108354</td>\n",
       "      <td>64</td>\n",
       "    </tr>\n",
       "  </tbody>\n",
       "</table>\n",
       "</div>"
      ],
      "text/plain": [
       "                                                product  quantity\n",
       "5456  вантуз с деревянной ручкой d14 см красный, bur...      1000\n",
       "5071   вешалки мягкие для деликатных вещей 3 шт шоколад       334\n",
       "3961                          муляж яблоко 9 см красное       300\n",
       "1158      ручка-скоба рс-100 белая *трибатрон*, 1108035       200\n",
       "568                           муляж яблоко 9 см красное       170\n",
       "211                 крепеж для пружины дверной, 1107055       150\n",
       "212   пружина дверная 240 мм оцинкованная (д-19 мм) ...       150\n",
       "267   пружина дверная 240 мм оцинкованная (д-19 мм) ...       150\n",
       "2431  плечики пластмассовые размер 52 - 54 тула 1205158       150\n",
       "266                 крепеж для пружины дверной, 1107055       150\n",
       "586                           муляж яблоко 9 см красное       140\n",
       "6535   крепеж для пружины дверной оцинкованный, 1107054       100\n",
       "6707          шпингалет 80 мм белый с пружиной, 1102188       100\n",
       "1103        щетка для посуды *оля*, мультипласт 1807010       100\n",
       "1555       щетка для мытья посуды колибри м5202 большая       100\n",
       "13    крючок одежный 2-х рожковый серый металлик с п...        96\n",
       "6367  универсальный нож webber из нержавеющей стали ...        80\n",
       "4082  насадка на валик вмм-200/60 белый искусственны...        70\n",
       "6567  искусственный цветок подснежник садовый пласти...        65\n",
       "160         стяжка оконная с болтом ст-55 цинк, 1108354        64"
      ]
     },
     "execution_count": 13,
     "metadata": {},
     "output_type": "execute_result"
    }
   ],
   "source": [
    "df[['product','quantity']].sort_values('quantity', ascending = False).head(20)"
   ]
  },
  {
   "cell_type": "markdown",
   "metadata": {},
   "source": [
    "Тысяча вантузов! Можно поверить в какое угодно количество муляжей яблок и вешалок в одном заказе, но тысяча вантузов - это реально чересчур. 334 вешалки могли потребоваться для гардероба какого-нибудь театра, муляжи яблок и дверные пружины покупают сотнями, но тысяча вантузов - это реально за гранью.\n",
    "\n",
    "Удалим эту позицию, поскольку далее мы будем делить товар на основной и дополнительный в том числе, исходя из среднего количества при покупке и объёма проданного товара. Тысяча вантузов реально исказит всю картину."
   ]
  },
  {
   "cell_type": "code",
   "execution_count": 14,
   "metadata": {},
   "outputs": [],
   "source": [
    "df.drop(df.loc[df['quantity']==1000].index, inplace=True)"
   ]
  },
  {
   "cell_type": "markdown",
   "metadata": {},
   "source": [
    "Посмотрим на распределение значений по количеству товаров и стоимости покупок."
   ]
  },
  {
   "cell_type": "code",
   "execution_count": 15,
   "metadata": {},
   "outputs": [
    {
     "data": {
      "text/plain": [
       "<matplotlib.axes._subplots.AxesSubplot at 0x7fdf2c903650>"
      ]
     },
     "execution_count": 15,
     "metadata": {},
     "output_type": "execute_result"
    },
    {
     "data": {
      "image/png": "[encoded data removed]",
      "text/plain": [
       "<Figure size 432x288 with 1 Axes>"
      ]
     },
     "metadata": {
      "needs_background": "light"
     },
     "output_type": "display_data"
    }
   ],
   "source": [
    "plt.xlim(1,50)\n",
    "sns.distplot(df.groupby('product')['quantity'].sum(), bins = 50)"
   ]
  },
  {
   "cell_type": "markdown",
   "metadata": {},
   "source": [
    "Абсолютное большинство товаров продаётся не более, чем по 10 штук."
   ]
  },
  {
   "cell_type": "code",
   "execution_count": 16,
   "metadata": {},
   "outputs": [
    {
     "data": {
      "text/plain": [
       "<matplotlib.axes._subplots.AxesSubplot at 0x7fdf23e80750>"
      ]
     },
     "execution_count": 16,
     "metadata": {},
     "output_type": "execute_result"
    },
    {
     "data": {
      "image/png": "[encoded data removed]",
      "text/plain": [
       "<Figure size 432x288 with 1 Axes>"
      ]
     },
     "metadata": {
      "needs_background": "light"
     },
     "output_type": "display_data"
    }
   ],
   "source": [
    "plt.xlim(1,5000)\n",
    "sns.distplot(df.groupby('product')['revenue'].sum(), bins = 500)"
   ]
  },
  {
   "cell_type": "markdown",
   "metadata": {},
   "source": [
    "Абсолютное большинство покупок не дороже 1000 руб., уже с учётом количества товаров."
   ]
  },
  {
   "cell_type": "code",
   "execution_count": 17,
   "metadata": {
    "scrolled": true
   },
   "outputs": [
    {
     "data": {
      "text/html": [
       "<div>\n",
       "<style scoped>\n",
       "    .dataframe tbody tr th:only-of-type {\n",
       "        vertical-align: middle;\n",
       "    }\n",
       "\n",
       "    .dataframe tbody tr th {\n",
       "        vertical-align: top;\n",
       "    }\n",
       "\n",
       "    .dataframe thead th {\n",
       "        text-align: right;\n",
       "    }\n",
       "</style>\n",
       "<table border=\"1\" class=\"dataframe\">\n",
       "  <thead>\n",
       "    <tr style=\"text-align: right;\">\n",
       "      <th></th>\n",
       "      <th></th>\n",
       "      <th></th>\n",
       "      <th>date</th>\n",
       "      <th>quantity</th>\n",
       "      <th>price</th>\n",
       "      <th>revenue</th>\n",
       "    </tr>\n",
       "    <tr>\n",
       "      <th>customer_id</th>\n",
       "      <th>order_id</th>\n",
       "      <th>product</th>\n",
       "      <th></th>\n",
       "      <th></th>\n",
       "      <th></th>\n",
       "      <th></th>\n",
       "    </tr>\n",
       "  </thead>\n",
       "  <tbody>\n",
       "    <tr>\n",
       "      <td rowspan=\"5\" valign=\"top\">1d6c8c1f-a799-4418-9af2-1ded47d7a85c</td>\n",
       "      <td rowspan=\"5\" valign=\"top\">14833</td>\n",
       "      <td>рассада патиссона сорт диск, кассета по 6шт</td>\n",
       "      <td>74</td>\n",
       "      <td>74</td>\n",
       "      <td>74</td>\n",
       "      <td>74</td>\n",
       "    </tr>\n",
       "    <tr>\n",
       "      <td>рассада кабачка сорт зебра кассета 6 шт e6</td>\n",
       "      <td>74</td>\n",
       "      <td>74</td>\n",
       "      <td>74</td>\n",
       "      <td>74</td>\n",
       "    </tr>\n",
       "    <tr>\n",
       "      <td>тагетис крупноцветковый рассада однолетних цветов в кассете по 10 шт</td>\n",
       "      <td>74</td>\n",
       "      <td>74</td>\n",
       "      <td>74</td>\n",
       "      <td>74</td>\n",
       "    </tr>\n",
       "    <tr>\n",
       "      <td>рассада патиссона сорт нло белый, кассета по 6шт</td>\n",
       "      <td>74</td>\n",
       "      <td>74</td>\n",
       "      <td>74</td>\n",
       "      <td>74</td>\n",
       "    </tr>\n",
       "    <tr>\n",
       "      <td>рассада огурца сорт каролина кассета 6 шт e6</td>\n",
       "      <td>74</td>\n",
       "      <td>74</td>\n",
       "      <td>74</td>\n",
       "      <td>74</td>\n",
       "    </tr>\n",
       "  </tbody>\n",
       "</table>\n",
       "</div>"
      ],
      "text/plain": [
       "                                                                                                  date  \\\n",
       "customer_id                          order_id product                                                    \n",
       "1d6c8c1f-a799-4418-9af2-1ded47d7a85c 14833    рассада патиссона сорт диск, кассета по 6шт           74   \n",
       "                                              рассада кабачка сорт зебра кассета 6 шт e6            74   \n",
       "                                              тагетис крупноцветковый рассада однолетних цвет...    74   \n",
       "                                              рассада патиссона сорт нло белый, кассета по 6шт      74   \n",
       "                                              рассада огурца сорт каролина кассета 6 шт e6          74   \n",
       "\n",
       "                                                                                                  quantity  \\\n",
       "customer_id                          order_id product                                                        \n",
       "1d6c8c1f-a799-4418-9af2-1ded47d7a85c 14833    рассада патиссона сорт диск, кассета по 6шт               74   \n",
       "                                              рассада кабачка сорт зебра кассета 6 шт e6                74   \n",
       "                                              тагетис крупноцветковый рассада однолетних цвет...        74   \n",
       "                                              рассада патиссона сорт нло белый, кассета по 6шт          74   \n",
       "                                              рассада огурца сорт каролина кассета 6 шт e6              74   \n",
       "\n",
       "                                                                                                  price  \\\n",
       "customer_id                          order_id product                                                     \n",
       "1d6c8c1f-a799-4418-9af2-1ded47d7a85c 14833    рассада патиссона сорт диск, кассета по 6шт            74   \n",
       "                                              рассада кабачка сорт зебра кассета 6 шт e6             74   \n",
       "                                              тагетис крупноцветковый рассада однолетних цвет...     74   \n",
       "                                              рассада патиссона сорт нло белый, кассета по 6шт       74   \n",
       "                                              рассада огурца сорт каролина кассета 6 шт e6           74   \n",
       "\n",
       "                                                                                                  revenue  \n",
       "customer_id                          order_id product                                                      \n",
       "1d6c8c1f-a799-4418-9af2-1ded47d7a85c 14833    рассада патиссона сорт диск, кассета по 6шт              74  \n",
       "                                              рассада кабачка сорт зебра кассета 6 шт e6               74  \n",
       "                                              тагетис крупноцветковый рассада однолетних цвет...       74  \n",
       "                                              рассада патиссона сорт нло белый, кассета по 6шт         74  \n",
       "                                              рассада огурца сорт каролина кассета 6 шт e6             74  "
      ]
     },
     "execution_count": 17,
     "metadata": {},
     "output_type": "execute_result"
    }
   ],
   "source": [
    "df.groupby(['customer_id', 'order_id', 'product']).count().sort_values('date', ascending=False).head()"
   ]
  },
  {
   "cell_type": "markdown",
   "metadata": {},
   "source": [
    "В датасете обнаружены повторения товаров в рамках одной покупки: вероятно, дело в отслеживании статуса. Чтобы избежать таких повторов, будем искать их в группе столбцов, а не во всём датафрейме, оставляя при этом последнее упоминание товара в заказе - вероятно оно и обозначает покупку."
   ]
  },
  {
   "cell_type": "code",
   "execution_count": 18,
   "metadata": {},
   "outputs": [],
   "source": [
    "df.drop_duplicates(subset=['customer_id', 'order_id', 'product'], keep = 'last', inplace = True)"
   ]
  },
  {
   "cell_type": "markdown",
   "metadata": {},
   "source": [
    "Проверка."
   ]
  },
  {
   "cell_type": "code",
   "execution_count": 19,
   "metadata": {},
   "outputs": [
    {
     "data": {
      "text/html": [
       "<div>\n",
       "<style scoped>\n",
       "    .dataframe tbody tr th:only-of-type {\n",
       "        vertical-align: middle;\n",
       "    }\n",
       "\n",
       "    .dataframe tbody tr th {\n",
       "        vertical-align: top;\n",
       "    }\n",
       "\n",
       "    .dataframe thead th {\n",
       "        text-align: right;\n",
       "    }\n",
       "</style>\n",
       "<table border=\"1\" class=\"dataframe\">\n",
       "  <thead>\n",
       "    <tr style=\"text-align: right;\">\n",
       "      <th></th>\n",
       "      <th></th>\n",
       "      <th></th>\n",
       "      <th>date</th>\n",
       "      <th>quantity</th>\n",
       "      <th>price</th>\n",
       "      <th>revenue</th>\n",
       "    </tr>\n",
       "    <tr>\n",
       "      <th>customer_id</th>\n",
       "      <th>order_id</th>\n",
       "      <th>product</th>\n",
       "      <th></th>\n",
       "      <th></th>\n",
       "      <th></th>\n",
       "      <th></th>\n",
       "    </tr>\n",
       "  </thead>\n",
       "  <tbody>\n",
       "    <tr>\n",
       "      <td>000d6849-084e-4d9f-ac03-37174eaf60c4</td>\n",
       "      <td>14943</td>\n",
       "      <td>пеларгония зональная диам. 12 см темнорозовая полумахровая</td>\n",
       "      <td>1</td>\n",
       "      <td>1</td>\n",
       "      <td>1</td>\n",
       "      <td>1</td>\n",
       "    </tr>\n",
       "    <tr>\n",
       "      <td>b19f6cb5-050c-4c18-bcb1-2204a1cc48c3</td>\n",
       "      <td>14722</td>\n",
       "      <td>алиссум рассада однолетних цветов в кассете по 6 шт</td>\n",
       "      <td>1</td>\n",
       "      <td>1</td>\n",
       "      <td>1</td>\n",
       "      <td>1</td>\n",
       "    </tr>\n",
       "    <tr>\n",
       "      <td rowspan=\"2\" valign=\"top\">b17d36a6-13b0-4896-815f-45ee6adfd23d</td>\n",
       "      <td>72258</td>\n",
       "      <td>пеларгония розебудная red pandora укорененный черенок</td>\n",
       "      <td>1</td>\n",
       "      <td>1</td>\n",
       "      <td>1</td>\n",
       "      <td>1</td>\n",
       "    </tr>\n",
       "    <tr>\n",
       "      <td>71341</td>\n",
       "      <td>калла крупноцветковая малиновая</td>\n",
       "      <td>1</td>\n",
       "      <td>1</td>\n",
       "      <td>1</td>\n",
       "      <td>1</td>\n",
       "    </tr>\n",
       "    <tr>\n",
       "      <td>b16a52b7-499b-4be8-9220-19076ed22bc9</td>\n",
       "      <td>70627</td>\n",
       "      <td>сумка-тележка хозяйственная rolser mountain черная, mou076 negro convert rg</td>\n",
       "      <td>1</td>\n",
       "      <td>1</td>\n",
       "      <td>1</td>\n",
       "      <td>1</td>\n",
       "    </tr>\n",
       "  </tbody>\n",
       "</table>\n",
       "</div>"
      ],
      "text/plain": [
       "                                                                                                  date  \\\n",
       "customer_id                          order_id product                                                    \n",
       "000d6849-084e-4d9f-ac03-37174eaf60c4 14943    пеларгония зональная диам. 12 см темнорозовая п...     1   \n",
       "b19f6cb5-050c-4c18-bcb1-2204a1cc48c3 14722    алиссум рассада однолетних цветов в кассете по ...     1   \n",
       "b17d36a6-13b0-4896-815f-45ee6adfd23d 72258    пеларгония розебудная red pandora укорененный ч...     1   \n",
       "                                     71341    калла крупноцветковая малиновая                        1   \n",
       "b16a52b7-499b-4be8-9220-19076ed22bc9 70627    сумка-тележка хозяйственная rolser mountain чер...     1   \n",
       "\n",
       "                                                                                                  quantity  \\\n",
       "customer_id                          order_id product                                                        \n",
       "000d6849-084e-4d9f-ac03-37174eaf60c4 14943    пеларгония зональная диам. 12 см темнорозовая п...         1   \n",
       "b19f6cb5-050c-4c18-bcb1-2204a1cc48c3 14722    алиссум рассада однолетних цветов в кассете по ...         1   \n",
       "b17d36a6-13b0-4896-815f-45ee6adfd23d 72258    пеларгония розебудная red pandora укорененный ч...         1   \n",
       "                                     71341    калла крупноцветковая малиновая                            1   \n",
       "b16a52b7-499b-4be8-9220-19076ed22bc9 70627    сумка-тележка хозяйственная rolser mountain чер...         1   \n",
       "\n",
       "                                                                                                  price  \\\n",
       "customer_id                          order_id product                                                     \n",
       "000d6849-084e-4d9f-ac03-37174eaf60c4 14943    пеларгония зональная диам. 12 см темнорозовая п...      1   \n",
       "b19f6cb5-050c-4c18-bcb1-2204a1cc48c3 14722    алиссум рассада однолетних цветов в кассете по ...      1   \n",
       "b17d36a6-13b0-4896-815f-45ee6adfd23d 72258    пеларгония розебудная red pandora укорененный ч...      1   \n",
       "                                     71341    калла крупноцветковая малиновая                         1   \n",
       "b16a52b7-499b-4be8-9220-19076ed22bc9 70627    сумка-тележка хозяйственная rolser mountain чер...      1   \n",
       "\n",
       "                                                                                                  revenue  \n",
       "customer_id                          order_id product                                                      \n",
       "000d6849-084e-4d9f-ac03-37174eaf60c4 14943    пеларгония зональная диам. 12 см темнорозовая п...        1  \n",
       "b19f6cb5-050c-4c18-bcb1-2204a1cc48c3 14722    алиссум рассада однолетних цветов в кассете по ...        1  \n",
       "b17d36a6-13b0-4896-815f-45ee6adfd23d 72258    пеларгония розебудная red pandora укорененный ч...        1  \n",
       "                                     71341    калла крупноцветковая малиновая                           1  \n",
       "b16a52b7-499b-4be8-9220-19076ed22bc9 70627    сумка-тележка хозяйственная rolser mountain чер...        1  "
      ]
     },
     "execution_count": 19,
     "metadata": {},
     "output_type": "execute_result"
    }
   ],
   "source": [
    "df.groupby(['customer_id', 'order_id', 'product']).count().sort_values('date', ascending=False).head()"
   ]
  },
  {
   "cell_type": "markdown",
   "metadata": {},
   "source": [
    "Дубликаты удалены!"
   ]
  },
  {
   "cell_type": "markdown",
   "metadata": {},
   "source": [
    "### Категоризация товаров\n",
    "<a id=\"category\"></a>"
   ]
  },
  {
   "cell_type": "markdown",
   "metadata": {},
   "source": [
    "Прежде чем делить товары на основной и дополнительный ассортимент, целесообразно выделить их укрупнённые категории, исходя из названий. Сколько всего товаров в нашем распоряжении?"
   ]
  },
  {
   "cell_type": "code",
   "execution_count": 20,
   "metadata": {},
   "outputs": [
    {
     "data": {
      "text/plain": [
       "2340"
      ]
     },
     "execution_count": 20,
     "metadata": {},
     "output_type": "execute_result"
    }
   ],
   "source": [
    "df['product'].nunique()"
   ]
  },
  {
   "cell_type": "markdown",
   "metadata": {},
   "source": [
    "2340 наименований. Сначала построим сводную таблицу, т.к. один и тот же товар может присутствовать в разных покупках, а затем добавим туда столбец, где будем записывать категории."
   ]
  },
  {
   "cell_type": "code",
   "execution_count": 21,
   "metadata": {},
   "outputs": [],
   "source": [
    "df_pivot = pd.pivot_table(df, index = 'product', values = 'revenue', aggfunc = 'sum').reset_index()\n",
    "df_pivot['category'] = df_pivot['product']"
   ]
  },
  {
   "cell_type": "markdown",
   "metadata": {},
   "source": [
    "Теперь самый трудозатратный процесс - отнесение товаров к разным категориям по ключевым словам."
   ]
  },
  {
   "cell_type": "code",
   "execution_count": 22,
   "metadata": {},
   "outputs": [],
   "source": [
    "#сумки-тедежки\n",
    "df_pivot.loc[df_pivot['product'].str.contains('сумк|тележк'), 'category'] = 'сумки'\n",
    "\n",
    "#кухонная утварь\n",
    "df_pivot.loc[df_pivot['product'].str\n",
    "       .contains('салфет|блюд|салатник|банк|кувшин|миск|тарелк|скатерт|нож|чашк|кружк|кастрюл|посуд'), \n",
    "       'category'] = 'кухонная утварь'\n",
    "\n",
    "#далее растения\n",
    "df_pivot.loc[df_pivot['product'].str\n",
    "             .contains('пеларгония|растение|махровая|зональная|ампельная|циперус|тюльпан|комнатн|огурец|трав|настурц'), 'category'] = 'растения'\n",
    "\n",
    "#снова растения\n",
    "df_pivot.loc[df_pivot['product'].str\n",
    "       .contains('эвкалипт|лобелия|вербена|цвето|цветк|вербейник|дерево|калибрахоа|базилик|мята|томат|лаванд|роза|арбуз|в горшк'), \n",
    "       'category'] = 'растения'\n",
    "\n",
    "#снова растения\n",
    "df_pivot.loc[df_pivot['product'].str\n",
    "       .contains('кориандр|гортенз|тимья|розмарин|петрушк|звероб|патисс|салат|кабач|капуст|дын|гиац|хриз|огур|бегон'), \n",
    "       'category'] = 'растения'\n",
    "\n",
    "#хозтовары\n",
    "df_pivot.loc[df_pivot['product'].str\n",
    "       .contains('термометр|сушилк|доск|ёрш|корыто|таз|стремян|лестниц|щетк|контейн|швабр|перчат|корзин|ерш|короб|ведр|мкост'), \n",
    "       'category'] = 'хозтовары'\n",
    "\n",
    "#ещё хозтовары\n",
    "df_pivot.loc[df_pivot['product'].str\n",
    "       .contains('веник|окон|вантуз|прищеп|дозатор|шнур|крюч|петл|обувниц|пруж|колк|лопатк|кипятилн|мойк|кипятильн|подрукавн|пробк'), \n",
    "       'category'] = 'хозтовары'\n",
    "\n",
    "#предметы интерьера\n",
    "df_pivot.loc[df_pivot['product'].str.contains('карниз|ковр|сиден|штор|оконн|полк|штанг|комод|ковер|картин'), 'category'] = 'интерьер'\n",
    "\n",
    "#кухонная утварь\n",
    "df_pivot.loc[df_pivot['product'].str\n",
    "       .contains('варк|терк|бокал|салфет|блюд|салатник|банк|кувшин|миск|тарелк|скатерт|нож|чашк|кружк|крышк|выпечк|ложк|термос|фужер|чайн|хлебниц|посуд'), \n",
    "       'category'] = 'кухонная утварь'\n",
    "\n",
    "#товары для одежды\n",
    "df_pivot.loc[df_pivot['product'].str.contains('одежд|чехол|вешал|плечик'), 'category'] = 'товары для одежды'\n",
    "\n",
    "#бытовая химия\n",
    "df_pivot.loc[df_pivot['product'].str.contains('мыло|пена|паста|кондиционер|шампун|крем|хлор|чист'), 'category'] = 'бытовая химия'\n",
    "\n",
    "#одежда, бельё, текстиль\n",
    "df_pivot.loc[df_pivot['product'].str.contains('халат|полотен|покрывал|наматрас|простын|белье|белья'), 'category'] = 'текстиль'\n",
    "\n",
    "#рассада\n",
    "df_pivot.loc[df_pivot['product'].str.contains('рассад'), 'category'] = 'рассада'\n",
    "\n",
    "#муляжи\n",
    "df_pivot.loc[df_pivot['product'].str.contains('муляж|искусственн'), 'category'] = 'муляжи'\n",
    "\n",
    "#всё остальное - в другое\n",
    "categories = df_pivot['category'].value_counts().head(10).index.tolist()\n",
    "df_pivot.loc[~df_pivot['category'].isin(categories), 'category'] = 'другое'"
   ]
  },
  {
   "cell_type": "code",
   "execution_count": 23,
   "metadata": {},
   "outputs": [
    {
     "data": {
      "text/plain": [
       "растения             428\n",
       "другое               407\n",
       "кухонная утварь      286\n",
       "хозтовары            286\n",
       "рассада              221\n",
       "текстиль             169\n",
       "интерьер             166\n",
       "муляжи               129\n",
       "товары для одежды    111\n",
       "сумки                105\n",
       "бытовая химия         32\n",
       "Name: category, dtype: int64"
      ]
     },
     "execution_count": 23,
     "metadata": {},
     "output_type": "execute_result"
    }
   ],
   "source": [
    "df_pivot['category'].value_counts()"
   ]
  },
  {
   "cell_type": "code",
   "execution_count": 24,
   "metadata": {},
   "outputs": [
    {
     "data": {
      "image/png": "[encoded data removed]",
      "text/plain": [
       "<Figure size 1152x648 with 1 Axes>"
      ]
     },
     "metadata": {
      "needs_background": "light"
     },
     "output_type": "display_data"
    }
   ],
   "source": [
    "plt.figure(figsize=(16,9))\n",
    "sns.countplot(data = df_pivot, x = 'category')\n",
    "plt.title('Распределение товаров по категориям')\n",
    "plt.ylabel('Количество, шт.')\n",
    "plt.xlabel('Категория')\n",
    "plt.show()"
   ]
  },
  {
   "cell_type": "markdown",
   "metadata": {},
   "source": [
    "Категория \"другое\" всё равно получилась довольно многочисленной, но мы рассортировали 80% товаров!"
   ]
  },
  {
   "cell_type": "markdown",
   "metadata": {},
   "source": [
    "### Деление товаров на ассортименты\n",
    "<a id=\"assor\"></a>"
   ]
  },
  {
   "cell_type": "markdown",
   "metadata": {},
   "source": [
    "После категоризации товаров необходимо разделить ассортимент на основной и дополнительный. Важнейшим критерием товара для магазина является выручка, которую тот может генерировать. Тут уместно вспомнить принцип Парето - 20% товаров производят 80% выручки (в данной интерпретации этого принципа). Поэтому будет уместно поделить товары на два ассортимента по соотношению: 20% наиболее прибыльных и 80% наименее прибыльных.\n",
    "\n",
    "Для интереса посмотрим на суммарную выручку товаров разных категорий."
   ]
  },
  {
   "cell_type": "code",
   "execution_count": 25,
   "metadata": {},
   "outputs": [
    {
     "data": {
      "image/png": "[encoded data removed]",
      "text/plain": [
       "<Figure size 864x504 with 1 Axes>"
      ]
     },
     "metadata": {
      "needs_background": "light"
     },
     "output_type": "display_data"
    }
   ],
   "source": [
    "(df_pivot.pivot_table(index = 'category', values = 'revenue', aggfunc = 'sum')\n",
    "         .sort_values(by = 'revenue', ascending = False)\n",
    "         .plot(kind = 'bar', grid = True, figsize = (12, 7), legend = False, rot = 45)\n",
    ")\n",
    "plt.title('Распределение выручки по категориям товаров')\n",
    "plt.ylabel('Выручка, рубли')\n",
    "plt.show()"
   ]
  },
  {
   "cell_type": "markdown",
   "metadata": {},
   "source": [
    "Сумки и хозтовары продаются лучше всего. Наверняка среди этих категорий будет много товаров из основного ассортимента.\n",
    "\n",
    "Разделим же товары на два ассортимента. 20% наименований с наибольшей выручкой станут основный ассортиментом, а 80% остальных - дополнительным."
   ]
  },
  {
   "cell_type": "code",
   "execution_count": 26,
   "metadata": {},
   "outputs": [],
   "source": [
    "#пишем функцию\n",
    "def group(x):\n",
    "        if x < df_pivot['revenue'].quantile(0.8):\n",
    "            return 'дополнительный'\n",
    "        else:\n",
    "            return 'основной'\n",
    "#применяем к датасету\n",
    "df_pivot['group'] = df_pivot['revenue'].apply(lambda x: group(x))"
   ]
  },
  {
   "cell_type": "markdown",
   "metadata": {},
   "source": [
    "Интересно, а как распределяется выручка между ассортиментами?"
   ]
  },
  {
   "cell_type": "code",
   "execution_count": 27,
   "metadata": {},
   "outputs": [
    {
     "data": {
      "text/plain": [
       "<matplotlib.axes._subplots.AxesSubplot at 0x7fdf2373cad0>"
      ]
     },
     "execution_count": 27,
     "metadata": {},
     "output_type": "execute_result"
    },
    {
     "data": {
      "image/png": "[encoded data removed]",
      "text/plain": [
       "<Figure size 432x288 with 1 Axes>"
      ]
     },
     "metadata": {
      "needs_background": "light"
     },
     "output_type": "display_data"
    }
   ],
   "source": [
    "df_pivot.groupby('group')['revenue'].sum().plot(kind = 'bar')"
   ]
  },
  {
   "cell_type": "markdown",
   "metadata": {},
   "source": [
    "Соотношение по итоговой выручке между основным и дополнительным ассортиментами получилось не 80/20, а 75/25"
   ]
  },
  {
   "cell_type": "markdown",
   "metadata": {},
   "source": [
    "Посмотрим на количество товаров каждой категории, попавших в основной и дополнительный ассортимент.\n",
    "<a id=\"1\"></a>"
   ]
  },
  {
   "cell_type": "code",
   "execution_count": 28,
   "metadata": {},
   "outputs": [
    {
     "data": {
      "text/html": [
       "<div>\n",
       "<style scoped>\n",
       "    .dataframe tbody tr th:only-of-type {\n",
       "        vertical-align: middle;\n",
       "    }\n",
       "\n",
       "    .dataframe tbody tr th {\n",
       "        vertical-align: top;\n",
       "    }\n",
       "\n",
       "    .dataframe thead th {\n",
       "        text-align: right;\n",
       "    }\n",
       "</style>\n",
       "<table border=\"1\" class=\"dataframe\">\n",
       "  <thead>\n",
       "    <tr style=\"text-align: right;\">\n",
       "      <th>group</th>\n",
       "      <th>дополнительный</th>\n",
       "      <th>основной</th>\n",
       "    </tr>\n",
       "    <tr>\n",
       "      <th>category</th>\n",
       "      <th></th>\n",
       "      <th></th>\n",
       "    </tr>\n",
       "  </thead>\n",
       "  <tbody>\n",
       "    <tr>\n",
       "      <td>бытовая химия</td>\n",
       "      <td>28</td>\n",
       "      <td>4</td>\n",
       "    </tr>\n",
       "    <tr>\n",
       "      <td>другое</td>\n",
       "      <td>372</td>\n",
       "      <td>35</td>\n",
       "    </tr>\n",
       "    <tr>\n",
       "      <td>интерьер</td>\n",
       "      <td>100</td>\n",
       "      <td>66</td>\n",
       "    </tr>\n",
       "    <tr>\n",
       "      <td>кухонная утварь</td>\n",
       "      <td>243</td>\n",
       "      <td>43</td>\n",
       "    </tr>\n",
       "    <tr>\n",
       "      <td>муляжи</td>\n",
       "      <td>122</td>\n",
       "      <td>7</td>\n",
       "    </tr>\n",
       "    <tr>\n",
       "      <td>рассада</td>\n",
       "      <td>216</td>\n",
       "      <td>5</td>\n",
       "    </tr>\n",
       "    <tr>\n",
       "      <td>растения</td>\n",
       "      <td>390</td>\n",
       "      <td>38</td>\n",
       "    </tr>\n",
       "    <tr>\n",
       "      <td>сумки</td>\n",
       "      <td>20</td>\n",
       "      <td>85</td>\n",
       "    </tr>\n",
       "    <tr>\n",
       "      <td>текстиль</td>\n",
       "      <td>102</td>\n",
       "      <td>67</td>\n",
       "    </tr>\n",
       "    <tr>\n",
       "      <td>товары для одежды</td>\n",
       "      <td>89</td>\n",
       "      <td>22</td>\n",
       "    </tr>\n",
       "    <tr>\n",
       "      <td>хозтовары</td>\n",
       "      <td>185</td>\n",
       "      <td>101</td>\n",
       "    </tr>\n",
       "  </tbody>\n",
       "</table>\n",
       "</div>"
      ],
      "text/plain": [
       "group              дополнительный  основной\n",
       "category                                   \n",
       "бытовая химия                  28         4\n",
       "другое                        372        35\n",
       "интерьер                      100        66\n",
       "кухонная утварь               243        43\n",
       "муляжи                        122         7\n",
       "рассада                       216         5\n",
       "растения                      390        38\n",
       "сумки                          20        85\n",
       "текстиль                      102        67\n",
       "товары для одежды              89        22\n",
       "хозтовары                     185       101"
      ]
     },
     "execution_count": 28,
     "metadata": {},
     "output_type": "execute_result"
    }
   ],
   "source": [
    "df_pivot.pivot_table(index = 'category', columns = 'group', values = 'revenue', aggfunc = 'count')"
   ]
  },
  {
   "cell_type": "markdown",
   "metadata": {},
   "source": [
    "Основной ассортимент представлен в основном хозтоварами, сумками, текстилём и товарами для интерьера.\n",
    "Дополнительный - рассадой, растениями и прочими товарами."
   ]
  },
  {
   "cell_type": "markdown",
   "metadata": {},
   "source": [
    "Соотношение по итоговой выручке между основным и дополнительным ассортиментами получилось не 80/20, а 75/25.\n",
    "\n",
    "Посмотрим на соотношение ассортиментов внутри каждой категории товаров."
   ]
  },
  {
   "cell_type": "code",
   "execution_count": 29,
   "metadata": {
    "scrolled": false
   },
   "outputs": [
    {
     "data": {
      "image/png": "[encoded data removed]",
      "text/plain": [
       "<Figure size 1152x648 with 1 Axes>"
      ]
     },
     "metadata": {
      "needs_background": "light"
     },
     "output_type": "display_data"
    }
   ],
   "source": [
    "plt.figure(figsize=(16,9))\n",
    "categories = df_pivot['category'].value_counts().head(11).index.tolist()\n",
    "sns.countplot(data = df_pivot, x = 'category', hue = 'group', order = categories)\n",
    "plt.title('Распределение ассортимента по категориям товаров')\n",
    "plt.ylabel('Количество, шт.')\n",
    "plt.xlabel('Категория')\n",
    "plt.show()"
   ]
  },
  {
   "cell_type": "markdown",
   "metadata": {},
   "source": [
    "Сумки - ключевой ассортимент этого магазина, большинство товаров этой категории относится к основному ассортименту. На втором месте по этому соотношению халаты-полотенца (категория \"текстиль\"), на третьем - хозтовары.\n",
    "\n",
    "Подавляющее большинство товаров категорий \"рассада\" и \"муляжи\" генерируют очень мало прибыли.\n",
    "\n",
    "Посмотрим на то, какие товары попали в основной и дополнительный ассортимент."
   ]
  },
  {
   "cell_type": "code",
   "execution_count": 30,
   "metadata": {},
   "outputs": [
    {
     "data": {
      "image/png": "[encoded data removed]",
      "text/plain": [
       "<Figure size 1152x648 with 1 Axes>"
      ]
     },
     "metadata": {
      "needs_background": "light"
     },
     "output_type": "display_data"
    }
   ],
   "source": [
    "plt.figure(figsize=(16,9))\n",
    "sns.countplot(data = df_pivot, x = 'group', hue = 'category', palette = 'Paired')\n",
    "plt.title('Распределение категорий товаров по ассортименту')\n",
    "plt.ylabel('Количество, шт.')\n",
    "plt.xlabel('Ассортимент')\n",
    "plt.show()"
   ]
  },
  {
   "cell_type": "markdown",
   "metadata": {},
   "source": [
    "Как и отметили ранее, основной ассортимент представлен в основном хозтоварами, сумками, текстилём и товарами для интерьера. Дополнительный - рассадой, растениями и прочими товарами."
   ]
  },
  {
   "cell_type": "markdown",
   "metadata": {},
   "source": [
    "### Проверка гипотез\n",
    "<a id=\"check\"></a>"
   ]
  },
  {
   "cell_type": "markdown",
   "metadata": {},
   "source": [
    "При распределении товаров по категориям выявил, что в \"другое\" упало очень много названий растений - с ними тяжело работать из-за большого количества разных экзотических названий.\n",
    "\n",
    "**Первая гипотеза - средняя выручка товаров категорий \"растения\" и \"другое\" одинакова.**\n",
    "\n",
    "Категории \"бельё, текстиль\" и \"интерьер\" тоже демонстрируют похожие значения по количеству товаров и общей выручке.\n",
    "\n",
    "**Вторая гипотеза - средняя выручка товаров категорий \"текстиль\" и \"интерьер\" различается.**\n",
    "\n",
    "Вытащим интересующие нас данные."
   ]
  },
  {
   "cell_type": "code",
   "execution_count": 31,
   "metadata": {},
   "outputs": [],
   "source": [
    "plants = df_pivot.loc[df_pivot['category'] == 'растения', 'revenue']\n",
    "other = df_pivot.loc[df_pivot['category'] == 'другое', 'revenue']\n",
    "\n",
    "textile = df_pivot.loc[df_pivot['category'] == 'текстиль', 'revenue']\n",
    "interior = df_pivot.loc[df_pivot['category'] == 'интерьер', 'revenue']"
   ]
  },
  {
   "cell_type": "markdown",
   "metadata": {},
   "source": [
    "Нормализуем данные."
   ]
  },
  {
   "cell_type": "code",
   "execution_count": 32,
   "metadata": {
    "scrolled": false
   },
   "outputs": [],
   "source": [
    "scaler = MinMaxScaler()\n",
    "for element in [plants, other, textile, interior]:\n",
    "    element = scaler.fit_transform(element.values.reshape(-1, 1))"
   ]
  },
  {
   "cell_type": "markdown",
   "metadata": {},
   "source": [
    "Приступаем к проверке гипотез. Будем использовать t-Тест, уровень статистической значимости 0,05.\n",
    "Важное ограничение - необходимо знать, равны ли дисперсии в сравниваемых парах."
   ]
  },
  {
   "cell_type": "code",
   "execution_count": 33,
   "metadata": {},
   "outputs": [
    {
     "name": "stdout",
     "output_type": "stream",
     "text": [
      "2226548.4095734204 3217286.4583701477 \n",
      "\n",
      " 19085248.901591998 4890572.802190581\n"
     ]
    }
   ],
   "source": [
    "alpha = 0.05\n",
    "\n",
    "print(plants.var(),other.var(),'\\n\\n',textile.var(),interior.var())"
   ]
  },
  {
   "cell_type": "markdown",
   "metadata": {},
   "source": [
    "Достаточно разные в обоих случаях.\n",
    "\n",
    "**Приступаем к проверке первой гипотезы.** Сначала формулируем нулевую гипотезу: средняя выручка товаров категорий \"растения\" и \"другое\" одинаковая. Соответственно, альтернативная гипотеза: средняя выручка различается."
   ]
  },
  {
   "cell_type": "code",
   "execution_count": 34,
   "metadata": {},
   "outputs": [
    {
     "name": "stdout",
     "output_type": "stream",
     "text": [
      "p-значение: 0.9805050094912853\n",
      "Не получилось отвергнуть нулевую гипотезу\n"
     ]
    }
   ],
   "source": [
    "results = st.ttest_ind(plants, other, equal_var = False)\n",
    "\n",
    "print('p-значение:', results.pvalue)\n",
    "\n",
    "if (results.pvalue < alpha):\n",
    "    print(\"Отвергаем нулевую гипотезу\")\n",
    "else:\n",
    "    print(\"Не получилось отвергнуть нулевую гипотезу\")"
   ]
  },
  {
   "cell_type": "markdown",
   "metadata": {},
   "source": [
    "Неплохо! Не можем отвергнуть нулевую гипотезу, значит в категории \"другое\" действительно осталось много растений.\n",
    "\n",
    "**Приступаем к проверке второй гипотезы.** Сначала формулируем нулевую гипотезу: средняя выручка товаров категорий \"текстиль\" и \"интерьер\" одинаковая. Соответственно, альтернативная гипотеза: средняя выручка различается."
   ]
  },
  {
   "cell_type": "code",
   "execution_count": 35,
   "metadata": {},
   "outputs": [
    {
     "name": "stdout",
     "output_type": "stream",
     "text": [
      "p-значение: 0.3100798980153507\n",
      "Не получилось отвергнуть нулевую гипотезу\n"
     ]
    }
   ],
   "source": [
    "results = st.ttest_ind(textile, interior, equal_var = False)\n",
    "\n",
    "print('p-значение:', results.pvalue)\n",
    "\n",
    "if (results.pvalue < alpha):\n",
    "    print(\"Отвергаем нулевую гипотезу\")\n",
    "else:\n",
    "    print(\"Не получилось отвергнуть нулевую гипотезу\")"
   ]
  },
  {
   "cell_type": "markdown",
   "metadata": {},
   "source": [
    "Аналогичный результат! Значит условные шторки и халаты генерируют примерно одинаковую выручку."
   ]
  },
  {
   "cell_type": "markdown",
   "metadata": {},
   "source": [
    "### Вывод\n",
    "<a id=\"conclusion\"></a>"
   ]
  },
  {
   "cell_type": "markdown",
   "metadata": {},
   "source": [
    "Проанализировали датасет с покупками магазина хозтоваров (и множества других товаров) на предмет отнесения товаров к основному ассортименту и дополнительному. Представлены данные за 13 месяцев.\n",
    "\n",
    "На этапе предобработки избавились от одной покупки с вантузами - 1000 штук, суммарно на 675 тыс у.е., что составило бы примерно 15% от выручки магазина за 13 месяцев. Одна покупка!\n",
    "\n",
    "Также были обнаружены дубликаты товаров в рамках одного заказа - это могло произойти из-за разного статуса заказа (создан, оплачен, доставлен и т.д.). Чтобы избежать задвоения выручки по товарам, эти дубликаты пришлось удалить.\n",
    "\n",
    "Далее, по ключевым словам разделили все товары на следующие категории: растения, рассада, хозтовары, кухонная утварь, бытовая химия, товары для одежды, текстиль, сумки, муляжи, интерьер и другое. Категория \"другое\" получилась достаточно многочисленной, но удалось рассортировать 80% датасета.\n",
    "\n",
    "Наибольшую выручку в магазине генерируют сумки, хотя представляют всего 100 позиций из 2300 во всём магазине. На втором месте хозтовары, в аутсайдерах - муляжи и бытовая химия.\n",
    "\n",
    "Деление товаров на ассортимент (основной и дополнитльный) было решено производить исходя из выручки, производимой ими. Вспомним принцип Парето: согласно ему, 20% товаров должны генерировать 80% выручки и наоборот. Поэтому поделили все товары по объёму выручки: 20% лидеров определили в основной ассортимент, а 80% остальных - в дополнительный. Кстати, соотношение двух категорий по общему объёму выручки составило 3:1 или 75/25, так что принцип Парето допускает погрешности.\n",
    "\n",
    "Основной ассортимент представлен в основном хозтоварами, сумками, текстилём и товарами для интерьера. Дополнительный - рассадой, растениями и товарами категории \"другие\".\n",
    "\n",
    "Также проверили две гипотезы: средняя выручка растений и других одинаковая, а средняя выручка интерьера и текстиля разная. В первом случае не удалось доказать, что выручки отличаются, значит к другим на самом деле попало много растений. Во втором случае также не удалось опровергнуть гипотезу о равенстве двух выборок, значит нельзя утерждать, что товары интерьера и текстиля генерируют разную выручку."
   ]
  },
  {
   "cell_type": "code",
   "execution_count": null,
   "metadata": {},
   "outputs": [],
   "source": []
  }
 ],
 "metadata": {
  "ExecuteTimeLog": [
   {
    "duration": 60,
    "start_time": "2021-06-27T15:55:31.463Z"
   },
   {
    "duration": 1951,
    "start_time": "2021-06-27T15:56:34.079Z"
   },
   {
    "duration": 204,
    "start_time": "2021-06-27T15:58:24.016Z"
   },
   {
    "duration": 8,
    "start_time": "2021-06-27T15:58:33.133Z"
   },
   {
    "duration": 7,
    "start_time": "2021-06-27T15:59:22.653Z"
   },
   {
    "duration": 176,
    "start_time": "2021-06-27T15:59:52.701Z"
   },
   {
    "duration": 16,
    "start_time": "2021-06-27T15:59:59.134Z"
   },
   {
    "duration": 58,
    "start_time": "2021-06-27T16:00:08.166Z"
   },
   {
    "duration": 10,
    "start_time": "2021-06-27T16:04:38.585Z"
   },
   {
    "duration": 9,
    "start_time": "2021-06-27T16:10:01.251Z"
   },
   {
    "duration": 22,
    "start_time": "2021-06-27T16:10:09.498Z"
   },
   {
    "duration": 6,
    "start_time": "2021-06-27T16:14:31.980Z"
   },
   {
    "duration": 7,
    "start_time": "2021-06-27T16:14:48.201Z"
   },
   {
    "duration": 9,
    "start_time": "2021-06-27T16:16:09.029Z"
   },
   {
    "duration": 1208,
    "start_time": "2021-06-27T16:19:44.029Z"
   },
   {
    "duration": 6,
    "start_time": "2021-06-27T16:20:36.726Z"
   },
   {
    "duration": 9,
    "start_time": "2021-06-27T16:20:54.052Z"
   },
   {
    "duration": 20,
    "start_time": "2021-06-27T16:21:07.149Z"
   },
   {
    "duration": 29,
    "start_time": "2021-06-27T16:21:18.616Z"
   },
   {
    "duration": 8,
    "start_time": "2021-06-27T16:21:18.647Z"
   },
   {
    "duration": 10,
    "start_time": "2021-06-27T16:21:18.657Z"
   },
   {
    "duration": 13,
    "start_time": "2021-06-27T16:21:18.669Z"
   },
   {
    "duration": 9,
    "start_time": "2021-06-27T16:21:18.684Z"
   },
   {
    "duration": 10,
    "start_time": "2021-06-27T16:21:20.654Z"
   },
   {
    "duration": 19,
    "start_time": "2021-06-27T16:23:11.522Z"
   },
   {
    "duration": 23,
    "start_time": "2021-06-27T16:23:12.543Z"
   },
   {
    "duration": 174,
    "start_time": "2021-06-27T16:27:42.841Z"
   },
   {
    "duration": 4,
    "start_time": "2021-06-27T16:27:49.576Z"
   },
   {
    "duration": 169,
    "start_time": "2021-06-27T16:30:58.553Z"
   },
   {
    "duration": 10,
    "start_time": "2021-06-27T16:31:29.698Z"
   },
   {
    "duration": 17,
    "start_time": "2021-06-27T16:31:36.586Z"
   },
   {
    "duration": 8,
    "start_time": "2021-06-27T16:31:47.907Z"
   },
   {
    "duration": 17,
    "start_time": "2021-06-27T16:32:02.371Z"
   },
   {
    "duration": 4802,
    "start_time": "2021-06-27T16:33:11.347Z"
   },
   {
    "duration": 7,
    "start_time": "2021-06-27T16:33:16.219Z"
   },
   {
    "duration": 7,
    "start_time": "2021-06-27T16:34:36.254Z"
   },
   {
    "duration": 7,
    "start_time": "2021-06-27T16:34:44.666Z"
   },
   {
    "duration": 12,
    "start_time": "2021-06-27T16:35:14.995Z"
   },
   {
    "duration": 9,
    "start_time": "2021-06-27T16:36:23.039Z"
   },
   {
    "duration": 10,
    "start_time": "2021-06-27T16:37:15.956Z"
   },
   {
    "duration": 18,
    "start_time": "2021-06-27T16:38:27.643Z"
   },
   {
    "duration": 7,
    "start_time": "2021-06-27T16:41:24.309Z"
   },
   {
    "duration": 8,
    "start_time": "2021-06-27T16:42:00.941Z"
   },
   {
    "duration": 19,
    "start_time": "2021-06-27T16:42:22.790Z"
   },
   {
    "duration": 4,
    "start_time": "2021-06-27T16:48:02.871Z"
   },
   {
    "duration": 19,
    "start_time": "2021-06-27T16:48:51.190Z"
   },
   {
    "duration": 5,
    "start_time": "2021-06-27T16:49:07.842Z"
   },
   {
    "duration": 7,
    "start_time": "2021-06-27T16:49:22.480Z"
   },
   {
    "duration": 5,
    "start_time": "2021-06-27T16:57:53.435Z"
   },
   {
    "duration": 3,
    "start_time": "2021-06-27T17:02:50.374Z"
   },
   {
    "duration": 6,
    "start_time": "2021-06-27T17:03:40.214Z"
   },
   {
    "duration": 18,
    "start_time": "2021-06-27T17:03:44.662Z"
   },
   {
    "duration": 6,
    "start_time": "2021-06-27T17:03:57.952Z"
   },
   {
    "duration": 29,
    "start_time": "2021-06-27T17:05:04.913Z"
   },
   {
    "duration": 7,
    "start_time": "2021-06-27T17:05:04.943Z"
   },
   {
    "duration": 9,
    "start_time": "2021-06-27T17:05:04.953Z"
   },
   {
    "duration": 8,
    "start_time": "2021-06-27T17:05:04.964Z"
   },
   {
    "duration": 8,
    "start_time": "2021-06-27T17:05:04.973Z"
   },
   {
    "duration": 11,
    "start_time": "2021-06-27T17:05:04.982Z"
   },
   {
    "duration": 13,
    "start_time": "2021-06-27T17:05:04.994Z"
   },
   {
    "duration": 12,
    "start_time": "2021-06-27T17:05:05.010Z"
   },
   {
    "duration": 6,
    "start_time": "2021-06-27T17:05:05.024Z"
   },
   {
    "duration": 3,
    "start_time": "2021-06-27T17:05:05.031Z"
   },
   {
    "duration": 7,
    "start_time": "2021-06-27T17:05:05.036Z"
   },
   {
    "duration": 20,
    "start_time": "2021-06-27T17:05:07.054Z"
   },
   {
    "duration": 19,
    "start_time": "2021-06-27T17:06:10.727Z"
   },
   {
    "duration": 7,
    "start_time": "2021-06-27T17:11:02.664Z"
   },
   {
    "duration": 7,
    "start_time": "2021-06-27T17:11:22.408Z"
   },
   {
    "duration": 230,
    "start_time": "2021-06-27T17:11:29.066Z"
   },
   {
    "duration": 167,
    "start_time": "2021-06-27T17:14:08.945Z"
   },
   {
    "duration": 7,
    "start_time": "2021-06-27T17:32:25.577Z"
   },
   {
    "duration": 10,
    "start_time": "2021-06-27T17:36:18.461Z"
   },
   {
    "duration": 10,
    "start_time": "2021-06-27T17:41:21.036Z"
   },
   {
    "duration": 11,
    "start_time": "2021-06-27T17:41:39.755Z"
   },
   {
    "duration": 9,
    "start_time": "2021-06-27T17:45:35.044Z"
   },
   {
    "duration": 9,
    "start_time": "2021-06-27T17:45:58.668Z"
   },
   {
    "duration": 11,
    "start_time": "2021-06-27T17:46:11.772Z"
   },
   {
    "duration": 504,
    "start_time": "2021-06-27T17:48:38.817Z"
   },
   {
    "duration": 28,
    "start_time": "2021-06-27T17:48:39.322Z"
   },
   {
    "duration": 6,
    "start_time": "2021-06-27T17:48:39.352Z"
   },
   {
    "duration": 9,
    "start_time": "2021-06-27T17:48:39.360Z"
   },
   {
    "duration": 16,
    "start_time": "2021-06-27T17:48:39.370Z"
   },
   {
    "duration": 7,
    "start_time": "2021-06-27T17:48:39.387Z"
   },
   {
    "duration": 10,
    "start_time": "2021-06-27T17:48:39.396Z"
   },
   {
    "duration": 3,
    "start_time": "2021-06-27T17:48:39.408Z"
   },
   {
    "duration": 8,
    "start_time": "2021-06-27T17:48:39.413Z"
   },
   {
    "duration": 4,
    "start_time": "2021-06-27T17:48:39.423Z"
   },
   {
    "duration": 3,
    "start_time": "2021-06-27T17:48:39.429Z"
   },
   {
    "duration": 11,
    "start_time": "2021-06-27T17:48:39.433Z"
   },
   {
    "duration": 49,
    "start_time": "2021-06-27T17:48:39.445Z"
   },
   {
    "duration": 16,
    "start_time": "2021-06-27T17:48:39.496Z"
   },
   {
    "duration": 16,
    "start_time": "2021-06-27T17:48:39.513Z"
   },
   {
    "duration": 9,
    "start_time": "2021-06-27T17:48:39.531Z"
   },
   {
    "duration": 1117,
    "start_time": "2021-06-28T19:13:05.394Z"
   },
   {
    "duration": 419,
    "start_time": "2021-06-28T19:13:07.040Z"
   },
   {
    "duration": 8,
    "start_time": "2021-06-28T19:13:08.228Z"
   },
   {
    "duration": 11,
    "start_time": "2021-06-28T19:13:10.049Z"
   },
   {
    "duration": 10,
    "start_time": "2021-06-28T19:13:10.954Z"
   },
   {
    "duration": 6,
    "start_time": "2021-06-28T19:13:15.396Z"
   },
   {
    "duration": 11,
    "start_time": "2021-06-28T19:13:16.905Z"
   },
   {
    "duration": 4,
    "start_time": "2021-06-28T19:13:17.634Z"
   },
   {
    "duration": 8,
    "start_time": "2021-06-28T19:13:19.337Z"
   },
   {
    "duration": 4,
    "start_time": "2021-06-28T19:13:21.612Z"
   },
   {
    "duration": 3,
    "start_time": "2021-06-28T19:13:22.497Z"
   },
   {
    "duration": 6,
    "start_time": "2021-06-28T19:13:25.361Z"
   },
   {
    "duration": 6,
    "start_time": "2021-06-28T19:15:04.497Z"
   },
   {
    "duration": 25,
    "start_time": "2021-06-28T19:15:07.259Z"
   },
   {
    "duration": 18,
    "start_time": "2021-06-28T19:15:34.723Z"
   },
   {
    "duration": 2,
    "start_time": "2021-06-28T19:20:37.420Z"
   },
   {
    "duration": 31,
    "start_time": "2021-06-28T19:20:38.301Z"
   },
   {
    "duration": 7,
    "start_time": "2021-06-28T19:20:38.910Z"
   },
   {
    "duration": 9,
    "start_time": "2021-06-28T19:20:39.308Z"
   },
   {
    "duration": 8,
    "start_time": "2021-06-28T19:20:39.668Z"
   },
   {
    "duration": 7,
    "start_time": "2021-06-28T19:20:40.028Z"
   },
   {
    "duration": 11,
    "start_time": "2021-06-28T19:20:41.820Z"
   },
   {
    "duration": 5,
    "start_time": "2021-06-28T19:20:42.115Z"
   },
   {
    "duration": 9,
    "start_time": "2021-06-28T19:20:43.027Z"
   },
   {
    "duration": 5,
    "start_time": "2021-06-28T19:20:44.910Z"
   },
   {
    "duration": 4,
    "start_time": "2021-06-28T19:20:45.540Z"
   },
   {
    "duration": 6,
    "start_time": "2021-06-28T19:20:47.294Z"
   },
   {
    "duration": 5,
    "start_time": "2021-06-28T19:20:48.595Z"
   },
   {
    "duration": 17,
    "start_time": "2021-06-28T19:20:52.689Z"
   },
   {
    "duration": 3,
    "start_time": "2021-06-28T19:21:25.361Z"
   },
   {
    "duration": 29,
    "start_time": "2021-06-28T19:21:25.366Z"
   },
   {
    "duration": 6,
    "start_time": "2021-06-28T19:21:25.398Z"
   },
   {
    "duration": 11,
    "start_time": "2021-06-28T19:21:25.406Z"
   },
   {
    "duration": 9,
    "start_time": "2021-06-28T19:21:25.418Z"
   },
   {
    "duration": 7,
    "start_time": "2021-06-28T19:21:25.429Z"
   },
   {
    "duration": 11,
    "start_time": "2021-06-28T19:21:25.438Z"
   },
   {
    "duration": 35,
    "start_time": "2021-06-28T19:21:25.450Z"
   },
   {
    "duration": 11,
    "start_time": "2021-06-28T19:21:25.487Z"
   },
   {
    "duration": 7,
    "start_time": "2021-06-28T19:21:25.499Z"
   },
   {
    "duration": 3,
    "start_time": "2021-06-28T19:21:25.508Z"
   },
   {
    "duration": 7,
    "start_time": "2021-06-28T19:21:25.512Z"
   },
   {
    "duration": 4,
    "start_time": "2021-06-28T19:21:38.638Z"
   },
   {
    "duration": 4,
    "start_time": "2021-06-28T19:21:40.892Z"
   },
   {
    "duration": 19,
    "start_time": "2021-06-28T19:21:58.788Z"
   },
   {
    "duration": 3,
    "start_time": "2021-06-28T19:22:18.240Z"
   },
   {
    "duration": 31,
    "start_time": "2021-06-28T19:22:18.244Z"
   },
   {
    "duration": 7,
    "start_time": "2021-06-28T19:22:18.277Z"
   },
   {
    "duration": 9,
    "start_time": "2021-06-28T19:22:18.286Z"
   },
   {
    "duration": 8,
    "start_time": "2021-06-28T19:22:18.296Z"
   },
   {
    "duration": 6,
    "start_time": "2021-06-28T19:22:18.306Z"
   },
   {
    "duration": 10,
    "start_time": "2021-06-28T19:22:18.314Z"
   },
   {
    "duration": 4,
    "start_time": "2021-06-28T19:22:18.326Z"
   },
   {
    "duration": 8,
    "start_time": "2021-06-28T19:22:18.332Z"
   },
   {
    "duration": 6,
    "start_time": "2021-06-28T19:22:18.342Z"
   },
   {
    "duration": 36,
    "start_time": "2021-06-28T19:22:18.350Z"
   },
   {
    "duration": 8,
    "start_time": "2021-06-28T19:22:18.387Z"
   },
   {
    "duration": 6,
    "start_time": "2021-06-28T19:22:18.396Z"
   },
   {
    "duration": 4,
    "start_time": "2021-06-28T19:22:19.724Z"
   },
   {
    "duration": 24,
    "start_time": "2021-06-28T19:22:23.605Z"
   },
   {
    "duration": 23,
    "start_time": "2021-06-28T19:22:56.548Z"
   },
   {
    "duration": 20,
    "start_time": "2021-06-28T19:22:59.765Z"
   },
   {
    "duration": 18,
    "start_time": "2021-06-28T19:23:09.925Z"
   },
   {
    "duration": 13,
    "start_time": "2021-06-28T19:24:31.854Z"
   },
   {
    "duration": 11,
    "start_time": "2021-06-28T19:26:51.238Z"
   },
   {
    "duration": 11,
    "start_time": "2021-06-28T19:27:13.389Z"
   },
   {
    "duration": 11,
    "start_time": "2021-06-28T19:34:58.698Z"
   },
   {
    "duration": 10,
    "start_time": "2021-06-28T19:36:46.539Z"
   },
   {
    "duration": 261,
    "start_time": "2021-06-28T19:38:37.547Z"
   },
   {
    "duration": 12,
    "start_time": "2021-06-28T19:39:26.638Z"
   },
   {
    "duration": 12,
    "start_time": "2021-06-28T19:39:34.523Z"
   },
   {
    "duration": 171,
    "start_time": "2021-06-28T19:49:38.135Z"
   },
   {
    "duration": 8,
    "start_time": "2021-06-28T19:49:53.646Z"
   },
   {
    "duration": 198,
    "start_time": "2021-06-28T19:50:01.166Z"
   },
   {
    "duration": 3,
    "start_time": "2021-06-28T19:51:19.195Z"
   },
   {
    "duration": 29,
    "start_time": "2021-06-28T19:51:19.200Z"
   },
   {
    "duration": 7,
    "start_time": "2021-06-28T19:51:19.231Z"
   },
   {
    "duration": 10,
    "start_time": "2021-06-28T19:51:19.239Z"
   },
   {
    "duration": 8,
    "start_time": "2021-06-28T19:51:19.251Z"
   },
   {
    "duration": 7,
    "start_time": "2021-06-28T19:51:19.260Z"
   },
   {
    "duration": 25,
    "start_time": "2021-06-28T19:51:19.269Z"
   },
   {
    "duration": 4,
    "start_time": "2021-06-28T19:51:19.295Z"
   },
   {
    "duration": 9,
    "start_time": "2021-06-28T19:51:19.301Z"
   },
   {
    "duration": 6,
    "start_time": "2021-06-28T19:51:19.311Z"
   },
   {
    "duration": 4,
    "start_time": "2021-06-28T19:51:19.318Z"
   },
   {
    "duration": 7,
    "start_time": "2021-06-28T19:51:19.323Z"
   },
   {
    "duration": 5,
    "start_time": "2021-06-28T19:51:19.331Z"
   },
   {
    "duration": 52,
    "start_time": "2021-06-28T19:51:19.338Z"
   },
   {
    "duration": 18,
    "start_time": "2021-06-28T19:51:19.392Z"
   },
   {
    "duration": 9,
    "start_time": "2021-06-28T19:51:19.412Z"
   },
   {
    "duration": 192,
    "start_time": "2021-06-28T19:51:26.023Z"
   },
   {
    "duration": 11,
    "start_time": "2021-06-28T19:54:17.488Z"
   },
   {
    "duration": 7,
    "start_time": "2021-06-28T19:56:01.912Z"
   },
   {
    "duration": 12,
    "start_time": "2021-06-28T19:56:04.952Z"
   },
   {
    "duration": 2864,
    "start_time": "2021-06-28T20:03:25.570Z"
   },
   {
    "duration": 119,
    "start_time": "2021-06-28T20:03:35.685Z"
   },
   {
    "duration": 250,
    "start_time": "2021-06-28T20:03:48.172Z"
   },
   {
    "duration": 2,
    "start_time": "2021-06-28T20:05:45.243Z"
   },
   {
    "duration": 324,
    "start_time": "2021-06-28T20:06:11.363Z"
   },
   {
    "duration": 235,
    "start_time": "2021-06-28T20:06:17.099Z"
   },
   {
    "duration": 328,
    "start_time": "2021-06-28T20:06:39.972Z"
   },
   {
    "duration": 346,
    "start_time": "2021-06-28T20:07:39.596Z"
   },
   {
    "duration": 332,
    "start_time": "2021-06-28T20:07:47.989Z"
   },
   {
    "duration": 335,
    "start_time": "2021-06-28T20:09:01.445Z"
   },
   {
    "duration": 432,
    "start_time": "2021-06-28T20:09:09.540Z"
   },
   {
    "duration": 255,
    "start_time": "2021-06-28T20:09:14.701Z"
   },
   {
    "duration": 247,
    "start_time": "2021-06-28T20:10:21.797Z"
   },
   {
    "duration": 332,
    "start_time": "2021-06-28T20:11:02.103Z"
   },
   {
    "duration": 243,
    "start_time": "2021-06-28T20:11:16.573Z"
   },
   {
    "duration": 323,
    "start_time": "2021-06-28T20:11:32.630Z"
   },
   {
    "duration": 487,
    "start_time": "2021-06-28T20:11:43.741Z"
   },
   {
    "duration": 1102,
    "start_time": "2021-06-28T20:12:30.544Z"
   },
   {
    "duration": 244,
    "start_time": "2021-06-28T20:13:38.007Z"
   },
   {
    "duration": 931,
    "start_time": "2021-06-28T20:13:43.254Z"
   },
   {
    "duration": 477,
    "start_time": "2021-06-28T20:13:49.926Z"
   },
   {
    "duration": 646,
    "start_time": "2021-06-28T20:13:58.895Z"
   },
   {
    "duration": 261,
    "start_time": "2021-06-28T20:14:08.206Z"
   },
   {
    "duration": 2,
    "start_time": "2021-06-28T20:17:39.169Z"
   },
   {
    "duration": 33,
    "start_time": "2021-06-28T20:17:39.173Z"
   },
   {
    "duration": 7,
    "start_time": "2021-06-28T20:17:39.207Z"
   },
   {
    "duration": 8,
    "start_time": "2021-06-28T20:17:39.216Z"
   },
   {
    "duration": 8,
    "start_time": "2021-06-28T20:17:39.225Z"
   },
   {
    "duration": 7,
    "start_time": "2021-06-28T20:17:39.234Z"
   },
   {
    "duration": 11,
    "start_time": "2021-06-28T20:17:39.242Z"
   },
   {
    "duration": 4,
    "start_time": "2021-06-28T20:17:39.255Z"
   },
   {
    "duration": 8,
    "start_time": "2021-06-28T20:17:39.285Z"
   },
   {
    "duration": 7,
    "start_time": "2021-06-28T20:17:39.295Z"
   },
   {
    "duration": 6,
    "start_time": "2021-06-28T20:17:39.303Z"
   },
   {
    "duration": 10,
    "start_time": "2021-06-28T20:17:39.310Z"
   },
   {
    "duration": 5,
    "start_time": "2021-06-28T20:17:39.322Z"
   },
   {
    "duration": 24,
    "start_time": "2021-06-28T20:17:39.328Z"
   },
   {
    "duration": 38,
    "start_time": "2021-06-28T20:17:39.354Z"
   },
   {
    "duration": 9,
    "start_time": "2021-06-28T20:17:39.394Z"
   },
   {
    "duration": 5,
    "start_time": "2021-06-28T20:17:39.405Z"
   },
   {
    "duration": 273,
    "start_time": "2021-06-28T20:17:39.412Z"
   },
   {
    "duration": 957,
    "start_time": "2021-06-28T20:17:39.687Z"
   },
   {
    "duration": 8,
    "start_time": "2021-06-28T20:39:34.214Z"
   },
   {
    "duration": 6,
    "start_time": "2021-06-28T20:39:55.518Z"
   },
   {
    "duration": 9,
    "start_time": "2021-06-28T20:48:10.882Z"
   },
   {
    "duration": 4,
    "start_time": "2021-06-28T20:56:50.309Z"
   },
   {
    "duration": 59,
    "start_time": "2021-06-28T20:56:52.812Z"
   },
   {
    "duration": 62,
    "start_time": "2021-06-28T20:57:31.877Z"
   },
   {
    "duration": 63,
    "start_time": "2021-06-28T20:58:35.317Z"
   },
   {
    "duration": 3,
    "start_time": "2021-06-28T21:00:13.686Z"
   },
   {
    "duration": 10,
    "start_time": "2021-06-28T21:00:58.135Z"
   },
   {
    "duration": 9,
    "start_time": "2021-06-28T21:01:14.926Z"
   },
   {
    "duration": 57,
    "start_time": "2021-06-28T21:04:17.128Z"
   },
   {
    "duration": 3,
    "start_time": "2021-06-28T21:04:26.872Z"
   },
   {
    "duration": 3,
    "start_time": "2021-06-28T21:06:44.352Z"
   },
   {
    "duration": 174,
    "start_time": "2021-06-28T21:06:57.800Z"
   },
   {
    "duration": 345,
    "start_time": "2021-06-28T21:07:07.432Z"
   },
   {
    "duration": 3,
    "start_time": "2021-06-28T21:13:35.227Z"
   },
   {
    "duration": 343,
    "start_time": "2021-06-28T21:13:37.546Z"
   },
   {
    "duration": 4,
    "start_time": "2021-06-28T21:13:55.546Z"
   },
   {
    "duration": 202,
    "start_time": "2021-06-28T21:13:56.260Z"
   },
   {
    "duration": 8,
    "start_time": "2021-06-28T21:14:15.091Z"
   },
   {
    "duration": 21,
    "start_time": "2021-06-28T21:14:33.091Z"
   },
   {
    "duration": 21,
    "start_time": "2021-06-28T21:14:43.197Z"
   },
   {
    "duration": 3,
    "start_time": "2021-06-28T21:15:11.275Z"
   },
   {
    "duration": 43,
    "start_time": "2021-06-28T21:15:11.280Z"
   },
   {
    "duration": 6,
    "start_time": "2021-06-28T21:15:11.326Z"
   },
   {
    "duration": 11,
    "start_time": "2021-06-28T21:15:11.334Z"
   },
   {
    "duration": 8,
    "start_time": "2021-06-28T21:15:11.347Z"
   },
   {
    "duration": 8,
    "start_time": "2021-06-28T21:15:11.356Z"
   },
   {
    "duration": 11,
    "start_time": "2021-06-28T21:15:11.366Z"
   },
   {
    "duration": 7,
    "start_time": "2021-06-28T21:15:11.379Z"
   },
   {
    "duration": 8,
    "start_time": "2021-06-28T21:15:11.388Z"
   },
   {
    "duration": 7,
    "start_time": "2021-06-28T21:15:11.397Z"
   },
   {
    "duration": 4,
    "start_time": "2021-06-28T21:15:11.406Z"
   },
   {
    "duration": 7,
    "start_time": "2021-06-28T21:15:11.412Z"
   },
   {
    "duration": 7,
    "start_time": "2021-06-28T21:15:11.420Z"
   },
   {
    "duration": 25,
    "start_time": "2021-06-28T21:15:11.429Z"
   },
   {
    "duration": 42,
    "start_time": "2021-06-28T21:15:11.456Z"
   },
   {
    "duration": 10,
    "start_time": "2021-06-28T21:15:11.500Z"
   },
   {
    "duration": 6,
    "start_time": "2021-06-28T21:15:11.512Z"
   },
   {
    "duration": 267,
    "start_time": "2021-06-28T21:15:11.520Z"
   },
   {
    "duration": 972,
    "start_time": "2021-06-28T21:15:11.788Z"
   },
   {
    "duration": 8,
    "start_time": "2021-06-28T21:15:12.762Z"
   },
   {
    "duration": 13,
    "start_time": "2021-06-28T21:15:12.772Z"
   },
   {
    "duration": 8,
    "start_time": "2021-06-28T21:15:12.787Z"
   },
   {
    "duration": 3,
    "start_time": "2021-06-28T21:15:12.797Z"
   },
   {
    "duration": 5,
    "start_time": "2021-06-28T21:15:12.801Z"
   },
   {
    "duration": 17,
    "start_time": "2021-06-28T21:15:12.807Z"
   },
   {
    "duration": 14,
    "start_time": "2021-06-28T21:15:15.723Z"
   },
   {
    "duration": 8,
    "start_time": "2021-06-28T21:15:17.211Z"
   },
   {
    "duration": 2,
    "start_time": "2021-06-28T21:15:39.292Z"
   },
   {
    "duration": 14,
    "start_time": "2021-06-28T21:15:40.203Z"
   },
   {
    "duration": 8,
    "start_time": "2021-06-28T21:15:41.319Z"
   },
   {
    "duration": 14,
    "start_time": "2021-06-28T21:16:41.444Z"
   },
   {
    "duration": 23,
    "start_time": "2021-06-28T21:16:44.916Z"
   },
   {
    "duration": 3,
    "start_time": "2021-06-28T21:22:11.713Z"
   },
   {
    "duration": 668,
    "start_time": "2021-06-28T21:22:40.608Z"
   },
   {
    "duration": 3,
    "start_time": "2021-06-28T21:29:45.857Z"
   },
   {
    "duration": 31454,
    "start_time": "2021-06-28T21:29:58.378Z"
   },
   {
    "duration": 107,
    "start_time": "2021-06-28T21:30:29.726Z"
   },
   {
    "duration": 3,
    "start_time": "2021-06-28T21:30:31.889Z"
   },
   {
    "duration": 347,
    "start_time": "2021-06-28T21:30:34.074Z"
   },
   {
    "duration": 4,
    "start_time": "2021-06-28T21:32:56.634Z"
   },
   {
    "duration": 4,
    "start_time": "2021-06-28T21:33:07.058Z"
   },
   {
    "duration": 3,
    "start_time": "2021-06-28T21:33:21.892Z"
   },
   {
    "duration": 3,
    "start_time": "2021-06-28T21:35:20.812Z"
   },
   {
    "duration": 3108,
    "start_time": "2021-06-28T21:35:21.978Z"
   },
   {
    "duration": 4,
    "start_time": "2021-06-28T21:36:03.259Z"
   },
   {
    "duration": 367,
    "start_time": "2021-06-28T21:36:05.731Z"
   },
   {
    "duration": 4,
    "start_time": "2021-06-28T21:36:23.955Z"
   },
   {
    "duration": 3359,
    "start_time": "2021-06-28T21:36:24.854Z"
   },
   {
    "duration": 3,
    "start_time": "2021-06-28T21:39:17.597Z"
   },
   {
    "duration": 3134,
    "start_time": "2021-06-28T21:39:19.925Z"
   },
   {
    "duration": 4,
    "start_time": "2021-06-28T21:43:52.589Z"
   },
   {
    "duration": 32,
    "start_time": "2021-06-28T21:43:52.594Z"
   },
   {
    "duration": 6,
    "start_time": "2021-06-28T21:43:52.628Z"
   },
   {
    "duration": 10,
    "start_time": "2021-06-28T21:43:52.636Z"
   },
   {
    "duration": 8,
    "start_time": "2021-06-28T21:43:52.647Z"
   },
   {
    "duration": 6,
    "start_time": "2021-06-28T21:43:52.657Z"
   },
   {
    "duration": 10,
    "start_time": "2021-06-28T21:43:52.685Z"
   },
   {
    "duration": 4,
    "start_time": "2021-06-28T21:43:52.697Z"
   },
   {
    "duration": 9,
    "start_time": "2021-06-28T21:43:52.704Z"
   },
   {
    "duration": 6,
    "start_time": "2021-06-28T21:43:52.715Z"
   },
   {
    "duration": 4,
    "start_time": "2021-06-28T21:43:52.722Z"
   },
   {
    "duration": 7,
    "start_time": "2021-06-28T21:43:52.727Z"
   },
   {
    "duration": 8,
    "start_time": "2021-06-28T21:43:52.735Z"
   },
   {
    "duration": 40,
    "start_time": "2021-06-28T21:43:52.745Z"
   },
   {
    "duration": 17,
    "start_time": "2021-06-28T21:43:52.787Z"
   },
   {
    "duration": 9,
    "start_time": "2021-06-28T21:43:52.806Z"
   },
   {
    "duration": 6,
    "start_time": "2021-06-28T21:43:52.817Z"
   },
   {
    "duration": 270,
    "start_time": "2021-06-28T21:43:52.824Z"
   },
   {
    "duration": 952,
    "start_time": "2021-06-28T21:43:53.096Z"
   },
   {
    "duration": 7,
    "start_time": "2021-06-28T21:43:54.050Z"
   },
   {
    "duration": 7,
    "start_time": "2021-06-28T21:43:54.059Z"
   },
   {
    "duration": 25,
    "start_time": "2021-06-28T21:43:54.068Z"
   },
   {
    "duration": 3,
    "start_time": "2021-06-28T21:44:42.605Z"
   },
   {
    "duration": 365,
    "start_time": "2021-06-28T21:44:44.966Z"
   },
   {
    "duration": 3,
    "start_time": "2021-06-28T21:45:36.991Z"
   },
   {
    "duration": 4571,
    "start_time": "2021-06-28T21:45:37.990Z"
   },
   {
    "duration": 3,
    "start_time": "2021-06-28T21:46:28.807Z"
   },
   {
    "duration": 4378,
    "start_time": "2021-06-28T21:46:30.703Z"
   },
   {
    "duration": 4,
    "start_time": "2021-06-28T21:46:56.480Z"
   },
   {
    "duration": 3,
    "start_time": "2021-06-28T21:47:10.415Z"
   },
   {
    "duration": 4680,
    "start_time": "2021-06-28T21:47:12.422Z"
   },
   {
    "duration": 4,
    "start_time": "2021-06-28T21:49:02.441Z"
   },
   {
    "duration": 56,
    "start_time": "2021-06-28T21:49:13.896Z"
   },
   {
    "duration": 4,
    "start_time": "2021-06-28T21:50:11.928Z"
   },
   {
    "duration": 4,
    "start_time": "2021-06-28T21:51:26.717Z"
   },
   {
    "duration": 4817,
    "start_time": "2021-06-28T21:51:26.751Z"
   },
   {
    "duration": 124,
    "start_time": "2021-06-28T21:51:31.446Z"
   },
   {
    "duration": 121,
    "start_time": "2021-06-28T21:51:31.449Z"
   },
   {
    "duration": 119,
    "start_time": "2021-06-28T21:51:31.452Z"
   },
   {
    "duration": 4,
    "start_time": "2021-06-28T21:51:56.224Z"
   },
   {
    "duration": 3,
    "start_time": "2021-06-28T21:52:07.321Z"
   },
   {
    "duration": 4546,
    "start_time": "2021-06-28T21:52:09.640Z"
   },
   {
    "duration": 5,
    "start_time": "2021-06-28T21:52:50.360Z"
   },
   {
    "duration": 2741,
    "start_time": "2021-06-28T21:54:07.105Z"
   },
   {
    "duration": 2827,
    "start_time": "2021-06-28T21:54:42.226Z"
   },
   {
    "duration": 4,
    "start_time": "2021-06-28T21:58:23.267Z"
   },
   {
    "duration": 5,
    "start_time": "2021-06-28T21:58:26.939Z"
   },
   {
    "duration": 4829,
    "start_time": "2021-06-28T21:58:32.762Z"
   },
   {
    "duration": 3,
    "start_time": "2021-06-28T21:59:09.679Z"
   },
   {
    "duration": 30,
    "start_time": "2021-06-28T21:59:09.684Z"
   },
   {
    "duration": 6,
    "start_time": "2021-06-28T21:59:09.716Z"
   },
   {
    "duration": 8,
    "start_time": "2021-06-28T21:59:09.724Z"
   },
   {
    "duration": 8,
    "start_time": "2021-06-28T21:59:09.734Z"
   },
   {
    "duration": 6,
    "start_time": "2021-06-28T21:59:09.744Z"
   },
   {
    "duration": 42,
    "start_time": "2021-06-28T21:59:09.752Z"
   },
   {
    "duration": 4,
    "start_time": "2021-06-28T21:59:09.795Z"
   },
   {
    "duration": 10,
    "start_time": "2021-06-28T21:59:09.801Z"
   },
   {
    "duration": 6,
    "start_time": "2021-06-28T21:59:09.812Z"
   },
   {
    "duration": 4,
    "start_time": "2021-06-28T21:59:09.819Z"
   },
   {
    "duration": 7,
    "start_time": "2021-06-28T21:59:09.824Z"
   },
   {
    "duration": 5,
    "start_time": "2021-06-28T21:59:09.832Z"
   },
   {
    "duration": 53,
    "start_time": "2021-06-28T21:59:09.838Z"
   },
   {
    "duration": 18,
    "start_time": "2021-06-28T21:59:09.893Z"
   },
   {
    "duration": 9,
    "start_time": "2021-06-28T21:59:09.913Z"
   },
   {
    "duration": 5,
    "start_time": "2021-06-28T21:59:09.924Z"
   },
   {
    "duration": 278,
    "start_time": "2021-06-28T21:59:09.931Z"
   },
   {
    "duration": 954,
    "start_time": "2021-06-28T21:59:10.211Z"
   },
   {
    "duration": 8,
    "start_time": "2021-06-28T21:59:11.166Z"
   },
   {
    "duration": 15,
    "start_time": "2021-06-28T21:59:11.175Z"
   },
   {
    "duration": 8,
    "start_time": "2021-06-28T21:59:11.191Z"
   },
   {
    "duration": 2,
    "start_time": "2021-06-28T21:59:11.201Z"
   },
   {
    "duration": 4,
    "start_time": "2021-06-28T21:59:12.530Z"
   },
   {
    "duration": 3,
    "start_time": "2021-06-28T21:59:15.562Z"
   },
   {
    "duration": 5,
    "start_time": "2021-06-28T21:59:16.475Z"
   },
   {
    "duration": 3,
    "start_time": "2021-06-28T21:59:17.379Z"
   },
   {
    "duration": 7,
    "start_time": "2021-06-28T21:59:29.188Z"
   },
   {
    "duration": 2,
    "start_time": "2021-06-28T22:02:35.564Z"
   },
   {
    "duration": 375,
    "start_time": "2021-06-28T22:02:36.612Z"
   },
   {
    "duration": 3,
    "start_time": "2021-06-28T22:04:34.709Z"
   },
   {
    "duration": 448,
    "start_time": "2021-06-28T22:04:36.063Z"
   },
   {
    "duration": 4,
    "start_time": "2021-06-28T22:04:45.764Z"
   },
   {
    "duration": 402,
    "start_time": "2021-06-28T22:04:46.700Z"
   },
   {
    "duration": 3,
    "start_time": "2021-06-28T22:05:54.181Z"
   },
   {
    "duration": 383,
    "start_time": "2021-06-28T22:05:56.261Z"
   },
   {
    "duration": 3,
    "start_time": "2021-06-28T22:08:10.197Z"
   },
   {
    "duration": 354,
    "start_time": "2021-06-28T22:08:10.838Z"
   },
   {
    "duration": 3,
    "start_time": "2021-06-28T22:09:22.518Z"
   },
   {
    "duration": 354,
    "start_time": "2021-06-28T22:09:23.542Z"
   },
   {
    "duration": 3,
    "start_time": "2021-06-28T22:09:44.650Z"
   },
   {
    "duration": 8,
    "start_time": "2021-06-28T22:09:45.342Z"
   },
   {
    "duration": 8,
    "start_time": "2021-06-28T22:09:49.368Z"
   },
   {
    "duration": 6,
    "start_time": "2021-06-28T22:10:10.611Z"
   },
   {
    "duration": 8,
    "start_time": "2021-06-28T22:11:58.905Z"
   },
   {
    "duration": 9,
    "start_time": "2021-06-28T22:12:25.350Z"
   },
   {
    "duration": 9,
    "start_time": "2021-06-28T22:14:52.591Z"
   },
   {
    "duration": 9,
    "start_time": "2021-06-28T22:15:55.216Z"
   },
   {
    "duration": 9,
    "start_time": "2021-06-28T22:16:01.529Z"
   },
   {
    "duration": 9,
    "start_time": "2021-06-28T22:17:15.169Z"
   },
   {
    "duration": 8,
    "start_time": "2021-06-28T22:17:21.617Z"
   },
   {
    "duration": 10,
    "start_time": "2021-06-28T22:18:56.737Z"
   },
   {
    "duration": 8,
    "start_time": "2021-06-28T22:19:07.282Z"
   },
   {
    "duration": 3,
    "start_time": "2021-06-28T22:19:58.807Z"
   },
   {
    "duration": 30,
    "start_time": "2021-06-28T22:19:58.812Z"
   },
   {
    "duration": 7,
    "start_time": "2021-06-28T22:19:58.844Z"
   },
   {
    "duration": 8,
    "start_time": "2021-06-28T22:19:58.853Z"
   },
   {
    "duration": 8,
    "start_time": "2021-06-28T22:19:58.863Z"
   },
   {
    "duration": 7,
    "start_time": "2021-06-28T22:19:58.872Z"
   },
   {
    "duration": 10,
    "start_time": "2021-06-28T22:19:58.885Z"
   },
   {
    "duration": 4,
    "start_time": "2021-06-28T22:19:58.897Z"
   },
   {
    "duration": 9,
    "start_time": "2021-06-28T22:19:58.902Z"
   },
   {
    "duration": 11,
    "start_time": "2021-06-28T22:19:58.912Z"
   },
   {
    "duration": 5,
    "start_time": "2021-06-28T22:19:58.925Z"
   },
   {
    "duration": 8,
    "start_time": "2021-06-28T22:19:58.931Z"
   },
   {
    "duration": 5,
    "start_time": "2021-06-28T22:19:58.941Z"
   },
   {
    "duration": 43,
    "start_time": "2021-06-28T22:19:58.947Z"
   },
   {
    "duration": 18,
    "start_time": "2021-06-28T22:19:58.992Z"
   },
   {
    "duration": 8,
    "start_time": "2021-06-28T22:19:59.012Z"
   },
   {
    "duration": 5,
    "start_time": "2021-06-28T22:19:59.022Z"
   },
   {
    "duration": 266,
    "start_time": "2021-06-28T22:19:59.028Z"
   },
   {
    "duration": 943,
    "start_time": "2021-06-28T22:19:59.297Z"
   },
   {
    "duration": 7,
    "start_time": "2021-06-28T22:20:00.242Z"
   },
   {
    "duration": 21,
    "start_time": "2021-06-28T22:20:00.251Z"
   },
   {
    "duration": 26,
    "start_time": "2021-06-28T22:20:00.273Z"
   },
   {
    "duration": 15,
    "start_time": "2021-06-28T22:20:00.300Z"
   },
   {
    "duration": 24,
    "start_time": "2021-06-28T22:20:00.316Z"
   },
   {
    "duration": 32,
    "start_time": "2021-06-28T22:20:00.341Z"
   },
   {
    "duration": 19,
    "start_time": "2021-06-28T22:20:00.374Z"
   },
   {
    "duration": 11,
    "start_time": "2021-06-28T22:20:00.394Z"
   },
   {
    "duration": 182,
    "start_time": "2021-06-28T22:20:34.370Z"
   },
   {
    "duration": 12,
    "start_time": "2021-06-28T22:22:59.459Z"
   },
   {
    "duration": 9,
    "start_time": "2021-06-28T22:23:00.698Z"
   },
   {
    "duration": 12,
    "start_time": "2021-06-28T22:25:16.460Z"
   },
   {
    "duration": 7,
    "start_time": "2021-06-28T22:25:18.365Z"
   },
   {
    "duration": 2,
    "start_time": "2021-06-28T22:26:16.905Z"
   },
   {
    "duration": 30,
    "start_time": "2021-06-28T22:26:16.909Z"
   },
   {
    "duration": 6,
    "start_time": "2021-06-28T22:26:16.941Z"
   },
   {
    "duration": 10,
    "start_time": "2021-06-28T22:26:16.948Z"
   },
   {
    "duration": 8,
    "start_time": "2021-06-28T22:26:16.959Z"
   },
   {
    "duration": 6,
    "start_time": "2021-06-28T22:26:16.968Z"
   },
   {
    "duration": 16,
    "start_time": "2021-06-28T22:26:16.977Z"
   },
   {
    "duration": 4,
    "start_time": "2021-06-28T22:26:16.994Z"
   },
   {
    "duration": 9,
    "start_time": "2021-06-28T22:26:16.999Z"
   },
   {
    "duration": 6,
    "start_time": "2021-06-28T22:26:17.009Z"
   },
   {
    "duration": 6,
    "start_time": "2021-06-28T22:26:17.016Z"
   },
   {
    "duration": 8,
    "start_time": "2021-06-28T22:26:17.023Z"
   },
   {
    "duration": 7,
    "start_time": "2021-06-28T22:26:17.032Z"
   },
   {
    "duration": 24,
    "start_time": "2021-06-28T22:26:17.040Z"
   },
   {
    "duration": 18,
    "start_time": "2021-06-28T22:26:17.084Z"
   },
   {
    "duration": 9,
    "start_time": "2021-06-28T22:26:17.103Z"
   },
   {
    "duration": 5,
    "start_time": "2021-06-28T22:26:17.113Z"
   },
   {
    "duration": 267,
    "start_time": "2021-06-28T22:26:17.119Z"
   },
   {
    "duration": 1189,
    "start_time": "2021-06-28T22:26:17.388Z"
   },
   {
    "duration": 12,
    "start_time": "2021-06-28T22:26:18.578Z"
   },
   {
    "duration": 6,
    "start_time": "2021-06-28T22:26:18.591Z"
   },
   {
    "duration": 7,
    "start_time": "2021-06-28T22:26:18.599Z"
   },
   {
    "duration": 3,
    "start_time": "2021-06-28T22:26:18.608Z"
   },
   {
    "duration": 5,
    "start_time": "2021-06-28T22:26:18.612Z"
   },
   {
    "duration": 11,
    "start_time": "2021-06-28T22:26:18.618Z"
   },
   {
    "duration": 4,
    "start_time": "2021-06-28T22:26:18.631Z"
   },
   {
    "duration": 6,
    "start_time": "2021-06-28T22:26:18.637Z"
   },
   {
    "duration": 14,
    "start_time": "2021-06-28T22:26:22.835Z"
   },
   {
    "duration": 9,
    "start_time": "2021-06-28T22:26:24.379Z"
   },
   {
    "duration": 12,
    "start_time": "2021-06-28T22:26:31.787Z"
   },
   {
    "duration": 8,
    "start_time": "2021-06-28T22:26:32.941Z"
   },
   {
    "duration": 1511,
    "start_time": "2021-06-30T18:15:41.966Z"
   },
   {
    "duration": 37,
    "start_time": "2021-06-30T18:15:44.180Z"
   },
   {
    "duration": 14,
    "start_time": "2021-06-30T18:15:45.371Z"
   },
   {
    "duration": 18,
    "start_time": "2021-06-30T18:15:47.718Z"
   },
   {
    "duration": 15,
    "start_time": "2021-06-30T18:15:48.423Z"
   },
   {
    "duration": 10,
    "start_time": "2021-06-30T18:15:50.158Z"
   },
   {
    "duration": 18,
    "start_time": "2021-06-30T18:15:52.302Z"
   },
   {
    "duration": 6,
    "start_time": "2021-06-30T18:15:52.771Z"
   },
   {
    "duration": 12,
    "start_time": "2021-06-30T18:15:54.644Z"
   },
   {
    "duration": 5,
    "start_time": "2021-06-30T18:15:55.708Z"
   },
   {
    "duration": 5,
    "start_time": "2021-06-30T18:15:57.179Z"
   },
   {
    "duration": 8,
    "start_time": "2021-06-30T18:16:05.315Z"
   },
   {
    "duration": 12,
    "start_time": "2021-06-30T18:16:06.420Z"
   },
   {
    "duration": 35,
    "start_time": "2021-06-30T18:16:07.706Z"
   },
   {
    "duration": 31,
    "start_time": "2021-06-30T18:16:11.995Z"
   },
   {
    "duration": 16,
    "start_time": "2021-06-30T18:16:14.370Z"
   },
   {
    "duration": 498,
    "start_time": "2021-06-30T18:16:38.300Z"
   },
   {
    "duration": 7,
    "start_time": "2021-06-30T18:17:57.207Z"
   },
   {
    "duration": 14,
    "start_time": "2021-06-30T18:18:04.229Z"
   },
   {
    "duration": 6,
    "start_time": "2021-06-30T18:18:06.553Z"
   },
   {
    "duration": 4,
    "start_time": "2021-06-30T18:18:08.159Z"
   },
   {
    "duration": 13,
    "start_time": "2021-06-30T18:18:09.268Z"
   },
   {
    "duration": 8,
    "start_time": "2021-06-30T18:18:10.157Z"
   },
   {
    "duration": 12,
    "start_time": "2021-06-30T18:18:14.354Z"
   },
   {
    "duration": 19,
    "start_time": "2021-06-30T18:18:19.571Z"
   },
   {
    "duration": 11,
    "start_time": "2021-06-30T18:18:20.514Z"
   },
   {
    "duration": 20,
    "start_time": "2021-06-30T18:18:23.211Z"
   },
   {
    "duration": 11,
    "start_time": "2021-06-30T18:18:24.069Z"
   },
   {
    "duration": 18,
    "start_time": "2021-06-30T18:24:40.422Z"
   },
   {
    "duration": 11,
    "start_time": "2021-06-30T18:24:46.926Z"
   },
   {
    "duration": 26,
    "start_time": "2021-06-30T18:26:14.550Z"
   },
   {
    "duration": 12,
    "start_time": "2021-06-30T18:26:15.630Z"
   },
   {
    "duration": 20,
    "start_time": "2021-06-30T18:26:29.910Z"
   },
   {
    "duration": 11,
    "start_time": "2021-06-30T18:26:30.654Z"
   },
   {
    "duration": 19,
    "start_time": "2021-06-30T18:28:07.840Z"
   },
   {
    "duration": 11,
    "start_time": "2021-06-30T18:28:13.815Z"
   },
   {
    "duration": 13,
    "start_time": "2021-06-30T18:29:15.615Z"
   },
   {
    "duration": 11,
    "start_time": "2021-06-30T18:29:21.111Z"
   },
   {
    "duration": 20,
    "start_time": "2021-06-30T18:32:54.138Z"
   },
   {
    "duration": 10,
    "start_time": "2021-06-30T18:32:54.833Z"
   },
   {
    "duration": 21,
    "start_time": "2021-06-30T18:33:41.602Z"
   },
   {
    "duration": 11,
    "start_time": "2021-06-30T18:33:42.418Z"
   },
   {
    "duration": 20,
    "start_time": "2021-06-30T18:33:45.737Z"
   },
   {
    "duration": 12,
    "start_time": "2021-06-30T18:33:46.777Z"
   },
   {
    "duration": 13,
    "start_time": "2021-06-30T18:34:05.601Z"
   },
   {
    "duration": 11,
    "start_time": "2021-06-30T18:34:06.130Z"
   },
   {
    "duration": 14,
    "start_time": "2021-06-30T18:34:52.105Z"
   },
   {
    "duration": 12,
    "start_time": "2021-06-30T18:35:01.651Z"
   },
   {
    "duration": 9,
    "start_time": "2021-06-30T18:35:10.546Z"
   },
   {
    "duration": 4,
    "start_time": "2021-06-30T18:35:29.104Z"
   },
   {
    "duration": 38,
    "start_time": "2021-06-30T18:35:29.111Z"
   },
   {
    "duration": 10,
    "start_time": "2021-06-30T18:35:29.153Z"
   },
   {
    "duration": 28,
    "start_time": "2021-06-30T18:35:29.166Z"
   },
   {
    "duration": 12,
    "start_time": "2021-06-30T18:35:29.197Z"
   },
   {
    "duration": 14,
    "start_time": "2021-06-30T18:35:29.211Z"
   },
   {
    "duration": 15,
    "start_time": "2021-06-30T18:35:29.227Z"
   },
   {
    "duration": 42,
    "start_time": "2021-06-30T18:35:29.246Z"
   },
   {
    "duration": 13,
    "start_time": "2021-06-30T18:35:29.291Z"
   },
   {
    "duration": 9,
    "start_time": "2021-06-30T18:35:29.307Z"
   },
   {
    "duration": 4,
    "start_time": "2021-06-30T18:35:29.319Z"
   },
   {
    "duration": 13,
    "start_time": "2021-06-30T18:35:29.325Z"
   },
   {
    "duration": 7,
    "start_time": "2021-06-30T18:35:29.340Z"
   },
   {
    "duration": 68,
    "start_time": "2021-06-30T18:35:29.349Z"
   },
   {
    "duration": 31,
    "start_time": "2021-06-30T18:35:29.419Z"
   },
   {
    "duration": 39,
    "start_time": "2021-06-30T18:35:29.453Z"
   },
   {
    "duration": 8,
    "start_time": "2021-06-30T18:35:29.494Z"
   },
   {
    "duration": 418,
    "start_time": "2021-06-30T18:35:29.504Z"
   },
   {
    "duration": 1660,
    "start_time": "2021-06-30T18:35:29.925Z"
   },
   {
    "duration": 7,
    "start_time": "2021-06-30T18:35:31.587Z"
   },
   {
    "duration": 18,
    "start_time": "2021-06-30T18:35:31.597Z"
   },
   {
    "duration": 21,
    "start_time": "2021-06-30T18:35:31.617Z"
   },
   {
    "duration": 21,
    "start_time": "2021-06-30T18:35:31.642Z"
   },
   {
    "duration": 31,
    "start_time": "2021-06-30T18:35:31.666Z"
   },
   {
    "duration": 16,
    "start_time": "2021-06-30T18:35:31.700Z"
   },
   {
    "duration": 22,
    "start_time": "2021-06-30T18:35:31.718Z"
   },
   {
    "duration": 21,
    "start_time": "2021-06-30T18:35:31.742Z"
   },
   {
    "duration": 22,
    "start_time": "2021-06-30T18:35:31.765Z"
   },
   {
    "duration": 20,
    "start_time": "2021-06-30T18:35:31.789Z"
   },
   {
    "duration": 18,
    "start_time": "2021-06-30T18:35:31.811Z"
   },
   {
    "duration": 20,
    "start_time": "2021-06-30T18:35:31.832Z"
   },
   {
    "duration": 36,
    "start_time": "2021-06-30T18:35:31.854Z"
   },
   {
    "duration": 21,
    "start_time": "2021-06-30T18:35:31.893Z"
   },
   {
    "duration": 31,
    "start_time": "2021-06-30T18:35:31.918Z"
   },
   {
    "duration": 34,
    "start_time": "2021-06-30T18:35:31.952Z"
   },
   {
    "duration": 18,
    "start_time": "2021-06-30T18:35:31.988Z"
   },
   {
    "duration": 15,
    "start_time": "2021-06-30T18:35:32.009Z"
   },
   {
    "duration": 9,
    "start_time": "2021-06-30T18:35:40.162Z"
   },
   {
    "duration": 4,
    "start_time": "2021-06-30T18:35:54.393Z"
   },
   {
    "duration": 40,
    "start_time": "2021-06-30T18:35:54.399Z"
   },
   {
    "duration": 14,
    "start_time": "2021-06-30T18:35:54.443Z"
   },
   {
    "duration": 14,
    "start_time": "2021-06-30T18:35:54.487Z"
   },
   {
    "duration": 13,
    "start_time": "2021-06-30T18:35:54.503Z"
   },
   {
    "duration": 14,
    "start_time": "2021-06-30T18:35:54.518Z"
   },
   {
    "duration": 53,
    "start_time": "2021-06-30T18:35:54.535Z"
   },
   {
    "duration": 6,
    "start_time": "2021-06-30T18:35:54.592Z"
   },
   {
    "duration": 13,
    "start_time": "2021-06-30T18:35:54.601Z"
   },
   {
    "duration": 8,
    "start_time": "2021-06-30T18:35:54.617Z"
   },
   {
    "duration": 9,
    "start_time": "2021-06-30T18:35:54.627Z"
   },
   {
    "duration": 47,
    "start_time": "2021-06-30T18:35:54.638Z"
   },
   {
    "duration": 6,
    "start_time": "2021-06-30T18:35:54.688Z"
   },
   {
    "duration": 37,
    "start_time": "2021-06-30T18:35:54.697Z"
   },
   {
    "duration": 61,
    "start_time": "2021-06-30T18:35:54.737Z"
   },
   {
    "duration": 16,
    "start_time": "2021-06-30T18:35:54.800Z"
   },
   {
    "duration": 9,
    "start_time": "2021-06-30T18:35:54.818Z"
   },
   {
    "duration": 480,
    "start_time": "2021-06-30T18:35:54.830Z"
   },
   {
    "duration": 1579,
    "start_time": "2021-06-30T18:35:55.312Z"
   },
   {
    "duration": 8,
    "start_time": "2021-06-30T18:35:56.893Z"
   },
   {
    "duration": 18,
    "start_time": "2021-06-30T18:35:56.904Z"
   },
   {
    "duration": 11,
    "start_time": "2021-06-30T18:35:56.925Z"
   },
   {
    "duration": 5,
    "start_time": "2021-06-30T18:35:56.941Z"
   },
   {
    "duration": 45,
    "start_time": "2021-06-30T18:35:56.949Z"
   },
   {
    "duration": 12,
    "start_time": "2021-06-30T18:35:56.997Z"
   },
   {
    "duration": 12,
    "start_time": "2021-06-30T18:35:57.012Z"
   },
   {
    "duration": 18,
    "start_time": "2021-06-30T18:35:57.027Z"
   },
   {
    "duration": 47,
    "start_time": "2021-06-30T18:35:57.048Z"
   },
   {
    "duration": 17,
    "start_time": "2021-06-30T18:35:57.098Z"
   },
   {
    "duration": 13,
    "start_time": "2021-06-30T18:35:57.117Z"
   },
   {
    "duration": 53,
    "start_time": "2021-06-30T18:35:57.132Z"
   },
   {
    "duration": 12,
    "start_time": "2021-06-30T18:35:57.188Z"
   },
   {
    "duration": 23,
    "start_time": "2021-06-30T18:35:57.202Z"
   },
   {
    "duration": 15,
    "start_time": "2021-06-30T18:35:57.227Z"
   },
   {
    "duration": 42,
    "start_time": "2021-06-30T18:35:57.244Z"
   },
   {
    "duration": 15,
    "start_time": "2021-06-30T18:35:57.288Z"
   },
   {
    "duration": 20,
    "start_time": "2021-06-30T18:35:57.305Z"
   },
   {
    "duration": 20,
    "start_time": "2021-06-30T18:35:57.897Z"
   },
   {
    "duration": 11,
    "start_time": "2021-06-30T18:35:58.786Z"
   },
   {
    "duration": 21,
    "start_time": "2021-06-30T18:36:16.674Z"
   },
   {
    "duration": 11,
    "start_time": "2021-06-30T18:36:17.258Z"
   },
   {
    "duration": 17,
    "start_time": "2021-06-30T18:38:07.723Z"
   },
   {
    "duration": 12,
    "start_time": "2021-06-30T18:38:13.155Z"
   },
   {
    "duration": 23,
    "start_time": "2021-06-30T18:38:38.443Z"
   },
   {
    "duration": 11,
    "start_time": "2021-06-30T18:38:38.932Z"
   },
   {
    "duration": 4,
    "start_time": "2021-06-30T18:38:57.281Z"
   },
   {
    "duration": 39,
    "start_time": "2021-06-30T18:38:57.287Z"
   },
   {
    "duration": 10,
    "start_time": "2021-06-30T18:38:57.329Z"
   },
   {
    "duration": 45,
    "start_time": "2021-06-30T18:38:57.342Z"
   },
   {
    "duration": 13,
    "start_time": "2021-06-30T18:38:57.390Z"
   },
   {
    "duration": 12,
    "start_time": "2021-06-30T18:38:57.405Z"
   },
   {
    "duration": 17,
    "start_time": "2021-06-30T18:38:57.421Z"
   },
   {
    "duration": 46,
    "start_time": "2021-06-30T18:38:57.440Z"
   },
   {
    "duration": 13,
    "start_time": "2021-06-30T18:38:57.488Z"
   },
   {
    "duration": 8,
    "start_time": "2021-06-30T18:38:57.504Z"
   },
   {
    "duration": 6,
    "start_time": "2021-06-30T18:38:57.515Z"
   },
   {
    "duration": 12,
    "start_time": "2021-06-30T18:38:57.524Z"
   },
   {
    "duration": 7,
    "start_time": "2021-06-30T18:38:57.538Z"
   },
   {
    "duration": 40,
    "start_time": "2021-06-30T18:38:57.586Z"
   },
   {
    "duration": 68,
    "start_time": "2021-06-30T18:38:57.629Z"
   },
   {
    "duration": 18,
    "start_time": "2021-06-30T18:38:57.700Z"
   },
   {
    "duration": 9,
    "start_time": "2021-06-30T18:38:57.721Z"
   },
   {
    "duration": 432,
    "start_time": "2021-06-30T18:38:57.733Z"
   },
   {
    "duration": 1675,
    "start_time": "2021-06-30T18:38:58.170Z"
   },
   {
    "duration": 9,
    "start_time": "2021-06-30T18:38:59.848Z"
   },
   {
    "duration": 33,
    "start_time": "2021-06-30T18:38:59.860Z"
   },
   {
    "duration": 5,
    "start_time": "2021-06-30T18:38:59.896Z"
   },
   {
    "duration": 6,
    "start_time": "2021-06-30T18:38:59.904Z"
   },
   {
    "duration": 16,
    "start_time": "2021-06-30T18:38:59.912Z"
   },
   {
    "duration": 8,
    "start_time": "2021-06-30T18:38:59.931Z"
   },
   {
    "duration": 47,
    "start_time": "2021-06-30T18:38:59.941Z"
   },
   {
    "duration": 19,
    "start_time": "2021-06-30T18:38:59.991Z"
   },
   {
    "duration": 15,
    "start_time": "2021-06-30T18:39:00.013Z"
   },
   {
    "duration": 17,
    "start_time": "2021-06-30T18:39:00.030Z"
   },
   {
    "duration": 44,
    "start_time": "2021-06-30T18:39:00.049Z"
   },
   {
    "duration": 23,
    "start_time": "2021-06-30T18:39:00.096Z"
   },
   {
    "duration": 18,
    "start_time": "2021-06-30T18:39:00.122Z"
   },
   {
    "duration": 43,
    "start_time": "2021-06-30T18:39:00.143Z"
   },
   {
    "duration": 22,
    "start_time": "2021-06-30T18:39:00.189Z"
   },
   {
    "duration": 17,
    "start_time": "2021-06-30T18:39:00.213Z"
   },
   {
    "duration": 21,
    "start_time": "2021-06-30T18:39:00.232Z"
   },
   {
    "duration": 38,
    "start_time": "2021-06-30T18:39:00.256Z"
   },
   {
    "duration": 21,
    "start_time": "2021-06-30T18:39:00.297Z"
   },
   {
    "duration": 29,
    "start_time": "2021-06-30T18:39:00.355Z"
   },
   {
    "duration": 11,
    "start_time": "2021-06-30T18:39:01.323Z"
   },
   {
    "duration": 22,
    "start_time": "2021-06-30T18:39:35.149Z"
   },
   {
    "duration": 11,
    "start_time": "2021-06-30T18:39:38.141Z"
   },
   {
    "duration": 14,
    "start_time": "2021-06-30T18:39:38.898Z"
   },
   {
    "duration": 12,
    "start_time": "2021-06-30T18:39:39.291Z"
   },
   {
    "duration": 19,
    "start_time": "2021-06-30T18:39:41.435Z"
   },
   {
    "duration": 11,
    "start_time": "2021-06-30T18:39:41.628Z"
   },
   {
    "duration": 18,
    "start_time": "2021-06-30T18:39:44.307Z"
   },
   {
    "duration": 11,
    "start_time": "2021-06-30T18:39:44.780Z"
   },
   {
    "duration": 21,
    "start_time": "2021-06-30T18:40:33.033Z"
   },
   {
    "duration": 11,
    "start_time": "2021-06-30T18:40:36.348Z"
   },
   {
    "duration": 10,
    "start_time": "2021-06-30T18:40:58.293Z"
   },
   {
    "duration": 20,
    "start_time": "2021-06-30T18:41:15.996Z"
   },
   {
    "duration": 11,
    "start_time": "2021-06-30T18:41:16.575Z"
   },
   {
    "duration": 12,
    "start_time": "2021-06-30T18:41:24.748Z"
   },
   {
    "duration": 31,
    "start_time": "2021-06-30T18:41:58.970Z"
   },
   {
    "duration": 11,
    "start_time": "2021-06-30T18:42:02.812Z"
   },
   {
    "duration": 23,
    "start_time": "2021-06-30T18:42:39.781Z"
   },
   {
    "duration": 11,
    "start_time": "2021-06-30T18:42:43.525Z"
   },
   {
    "duration": 11,
    "start_time": "2021-06-30T18:43:17.349Z"
   },
   {
    "duration": 23,
    "start_time": "2021-06-30T18:44:29.238Z"
   },
   {
    "duration": 12,
    "start_time": "2021-06-30T18:44:32.509Z"
   },
   {
    "duration": 23,
    "start_time": "2021-06-30T18:44:49.335Z"
   },
   {
    "duration": 13,
    "start_time": "2021-06-30T18:44:52.413Z"
   },
   {
    "duration": 22,
    "start_time": "2021-06-30T18:45:21.333Z"
   },
   {
    "duration": 11,
    "start_time": "2021-06-30T18:45:22.421Z"
   },
   {
    "duration": 20,
    "start_time": "2021-06-30T18:47:55.111Z"
   },
   {
    "duration": 10,
    "start_time": "2021-06-30T18:47:55.511Z"
   },
   {
    "duration": 11,
    "start_time": "2021-06-30T18:48:08.999Z"
   },
   {
    "duration": 22,
    "start_time": "2021-06-30T18:49:15.611Z"
   },
   {
    "duration": 21,
    "start_time": "2021-06-30T18:49:18.778Z"
   },
   {
    "duration": 13,
    "start_time": "2021-06-30T18:49:19.299Z"
   },
   {
    "duration": 24,
    "start_time": "2021-06-30T18:50:18.331Z"
   },
   {
    "duration": 12,
    "start_time": "2021-06-30T18:50:22.995Z"
   },
   {
    "duration": 22,
    "start_time": "2021-06-30T18:50:57.284Z"
   },
   {
    "duration": 12,
    "start_time": "2021-06-30T18:51:00.315Z"
   },
   {
    "duration": 22,
    "start_time": "2021-06-30T18:51:35.872Z"
   },
   {
    "duration": 11,
    "start_time": "2021-06-30T18:51:38.436Z"
   },
   {
    "duration": 16,
    "start_time": "2021-06-30T18:51:58.753Z"
   },
   {
    "duration": 11,
    "start_time": "2021-06-30T18:52:02.827Z"
   },
   {
    "duration": 11,
    "start_time": "2021-06-30T18:52:53.244Z"
   },
   {
    "duration": 488,
    "start_time": "2021-06-30T18:54:23.461Z"
   },
   {
    "duration": 11,
    "start_time": "2021-06-30T18:55:57.073Z"
   },
   {
    "duration": 7,
    "start_time": "2021-06-30T18:58:47.037Z"
   },
   {
    "duration": 5,
    "start_time": "2021-06-30T18:58:51.367Z"
   },
   {
    "duration": 316,
    "start_time": "2021-06-30T18:59:52.958Z"
   },
   {
    "duration": 316,
    "start_time": "2021-06-30T19:00:02.831Z"
   },
   {
    "duration": 303,
    "start_time": "2021-06-30T19:00:46.856Z"
   },
   {
    "duration": 313,
    "start_time": "2021-06-30T19:02:26.048Z"
   },
   {
    "duration": 292,
    "start_time": "2021-06-30T19:04:52.440Z"
   },
   {
    "duration": 293,
    "start_time": "2021-06-30T19:04:59.656Z"
   },
   {
    "duration": 321,
    "start_time": "2021-06-30T19:05:23.537Z"
   },
   {
    "duration": 329,
    "start_time": "2021-06-30T19:06:31.089Z"
   },
   {
    "duration": 302,
    "start_time": "2021-06-30T19:09:41.396Z"
   },
   {
    "duration": 319,
    "start_time": "2021-06-30T19:11:12.107Z"
   },
   {
    "duration": 4,
    "start_time": "2021-06-30T19:11:24.138Z"
   },
   {
    "duration": 43,
    "start_time": "2021-06-30T19:11:24.145Z"
   },
   {
    "duration": 14,
    "start_time": "2021-06-30T19:11:24.192Z"
   },
   {
    "duration": 21,
    "start_time": "2021-06-30T19:11:24.209Z"
   },
   {
    "duration": 60,
    "start_time": "2021-06-30T19:11:24.233Z"
   },
   {
    "duration": 11,
    "start_time": "2021-06-30T19:11:24.297Z"
   },
   {
    "duration": 18,
    "start_time": "2021-06-30T19:11:24.311Z"
   },
   {
    "duration": 5,
    "start_time": "2021-06-30T19:11:24.334Z"
   },
   {
    "duration": 13,
    "start_time": "2021-06-30T19:11:24.388Z"
   },
   {
    "duration": 10,
    "start_time": "2021-06-30T19:11:24.405Z"
   },
   {
    "duration": 9,
    "start_time": "2021-06-30T19:11:24.417Z"
   },
   {
    "duration": 12,
    "start_time": "2021-06-30T19:11:24.429Z"
   },
   {
    "duration": 48,
    "start_time": "2021-06-30T19:11:24.444Z"
   },
   {
    "duration": 40,
    "start_time": "2021-06-30T19:11:24.495Z"
   },
   {
    "duration": 52,
    "start_time": "2021-06-30T19:11:24.539Z"
   },
   {
    "duration": 17,
    "start_time": "2021-06-30T19:11:24.595Z"
   },
   {
    "duration": 11,
    "start_time": "2021-06-30T19:11:24.614Z"
   },
   {
    "duration": 519,
    "start_time": "2021-06-30T19:11:24.627Z"
   },
   {
    "duration": 1685,
    "start_time": "2021-06-30T19:11:25.148Z"
   },
   {
    "duration": 7,
    "start_time": "2021-06-30T19:11:26.836Z"
   },
   {
    "duration": 12,
    "start_time": "2021-06-30T19:11:26.846Z"
   },
   {
    "duration": 5,
    "start_time": "2021-06-30T19:11:26.885Z"
   },
   {
    "duration": 3,
    "start_time": "2021-06-30T19:11:26.895Z"
   },
   {
    "duration": 16,
    "start_time": "2021-06-30T19:11:26.901Z"
   },
   {
    "duration": 13,
    "start_time": "2021-06-30T19:11:26.919Z"
   },
   {
    "duration": 11,
    "start_time": "2021-06-30T19:11:26.935Z"
   },
   {
    "duration": 52,
    "start_time": "2021-06-30T19:11:26.948Z"
   },
   {
    "duration": 32,
    "start_time": "2021-06-30T19:11:27.003Z"
   },
   {
    "duration": 28,
    "start_time": "2021-06-30T19:11:27.038Z"
   },
   {
    "duration": 24,
    "start_time": "2021-06-30T19:11:27.069Z"
   },
   {
    "duration": 23,
    "start_time": "2021-06-30T19:11:27.095Z"
   },
   {
    "duration": 11,
    "start_time": "2021-06-30T19:11:27.122Z"
   },
   {
    "duration": 28,
    "start_time": "2021-06-30T19:11:27.136Z"
   },
   {
    "duration": 27,
    "start_time": "2021-06-30T19:11:27.186Z"
   },
   {
    "duration": 23,
    "start_time": "2021-06-30T19:11:27.216Z"
   },
   {
    "duration": 16,
    "start_time": "2021-06-30T19:11:27.241Z"
   },
   {
    "duration": 30,
    "start_time": "2021-06-30T19:11:27.260Z"
   },
   {
    "duration": 13,
    "start_time": "2021-06-30T19:11:27.293Z"
   },
   {
    "duration": 21,
    "start_time": "2021-06-30T19:11:27.309Z"
   },
   {
    "duration": 20,
    "start_time": "2021-06-30T19:11:27.333Z"
   },
   {
    "duration": 38,
    "start_time": "2021-06-30T19:11:27.355Z"
   },
   {
    "duration": 7,
    "start_time": "2021-06-30T19:11:31.772Z"
   },
   {
    "duration": 302,
    "start_time": "2021-06-30T19:11:33.035Z"
   },
   {
    "duration": 307,
    "start_time": "2021-06-30T19:13:15.877Z"
   },
   {
    "duration": 348,
    "start_time": "2021-06-30T19:14:04.005Z"
   },
   {
    "duration": 13,
    "start_time": "2021-06-30T19:17:04.325Z"
   },
   {
    "duration": 372,
    "start_time": "2021-06-30T19:21:03.527Z"
   },
   {
    "duration": 13,
    "start_time": "2021-06-30T19:21:21.918Z"
   },
   {
    "duration": 10,
    "start_time": "2021-06-30T19:21:49.839Z"
   },
   {
    "duration": 387,
    "start_time": "2021-06-30T19:25:05.266Z"
   },
   {
    "duration": 303,
    "start_time": "2021-06-30T19:25:10.753Z"
   },
   {
    "duration": 339,
    "start_time": "2021-06-30T19:25:50.600Z"
   },
   {
    "duration": 5,
    "start_time": "2021-06-30T19:26:13.648Z"
   },
   {
    "duration": 5,
    "start_time": "2021-06-30T19:26:25.953Z"
   },
   {
    "duration": 299,
    "start_time": "2021-06-30T19:27:15.465Z"
   },
   {
    "duration": 8,
    "start_time": "2021-06-30T19:29:24.625Z"
   },
   {
    "duration": 330,
    "start_time": "2021-06-30T19:30:33.146Z"
   },
   {
    "duration": 354,
    "start_time": "2021-06-30T19:30:55.042Z"
   },
   {
    "duration": 299,
    "start_time": "2021-06-30T19:31:52.698Z"
   },
   {
    "duration": 317,
    "start_time": "2021-06-30T19:48:04.321Z"
   },
   {
    "duration": 14,
    "start_time": "2021-06-30T19:48:19.479Z"
   },
   {
    "duration": 9,
    "start_time": "2021-06-30T19:48:36.311Z"
   },
   {
    "duration": 3,
    "start_time": "2021-06-30T19:48:47.810Z"
   },
   {
    "duration": 37,
    "start_time": "2021-06-30T19:48:47.816Z"
   },
   {
    "duration": 10,
    "start_time": "2021-06-30T19:48:47.856Z"
   },
   {
    "duration": 22,
    "start_time": "2021-06-30T19:48:47.870Z"
   },
   {
    "duration": 16,
    "start_time": "2021-06-30T19:48:47.895Z"
   },
   {
    "duration": 19,
    "start_time": "2021-06-30T19:48:47.913Z"
   },
   {
    "duration": 51,
    "start_time": "2021-06-30T19:48:47.934Z"
   },
   {
    "duration": 7,
    "start_time": "2021-06-30T19:48:47.988Z"
   },
   {
    "duration": 19,
    "start_time": "2021-06-30T19:48:48.002Z"
   },
   {
    "duration": 7,
    "start_time": "2021-06-30T19:48:48.026Z"
   },
   {
    "duration": 8,
    "start_time": "2021-06-30T19:48:48.035Z"
   },
   {
    "duration": 42,
    "start_time": "2021-06-30T19:48:48.046Z"
   },
   {
    "duration": 9,
    "start_time": "2021-06-30T19:48:48.091Z"
   },
   {
    "duration": 48,
    "start_time": "2021-06-30T19:48:48.103Z"
   },
   {
    "duration": 49,
    "start_time": "2021-06-30T19:48:48.154Z"
   },
   {
    "duration": 15,
    "start_time": "2021-06-30T19:48:48.205Z"
   },
   {
    "duration": 8,
    "start_time": "2021-06-30T19:48:48.222Z"
   },
   {
    "duration": 442,
    "start_time": "2021-06-30T19:48:48.232Z"
   },
   {
    "duration": 1661,
    "start_time": "2021-06-30T19:48:48.677Z"
   },
   {
    "duration": 7,
    "start_time": "2021-06-30T19:48:50.340Z"
   },
   {
    "duration": 15,
    "start_time": "2021-06-30T19:48:50.350Z"
   },
   {
    "duration": 5,
    "start_time": "2021-06-30T19:48:50.367Z"
   },
   {
    "duration": 11,
    "start_time": "2021-06-30T19:48:50.374Z"
   },
   {
    "duration": 16,
    "start_time": "2021-06-30T19:48:50.388Z"
   },
   {
    "duration": 11,
    "start_time": "2021-06-30T19:48:50.406Z"
   },
   {
    "duration": 11,
    "start_time": "2021-06-30T19:48:50.419Z"
   },
   {
    "duration": 60,
    "start_time": "2021-06-30T19:48:50.435Z"
   },
   {
    "duration": 12,
    "start_time": "2021-06-30T19:48:50.497Z"
   },
   {
    "duration": 19,
    "start_time": "2021-06-30T19:48:50.512Z"
   },
   {
    "duration": 59,
    "start_time": "2021-06-30T19:48:50.534Z"
   },
   {
    "duration": 23,
    "start_time": "2021-06-30T19:48:50.595Z"
   },
   {
    "duration": 10,
    "start_time": "2021-06-30T19:48:50.621Z"
   },
   {
    "duration": 23,
    "start_time": "2021-06-30T19:48:50.634Z"
   },
   {
    "duration": 34,
    "start_time": "2021-06-30T19:48:50.660Z"
   },
   {
    "duration": 20,
    "start_time": "2021-06-30T19:48:50.696Z"
   },
   {
    "duration": 16,
    "start_time": "2021-06-30T19:48:50.719Z"
   },
   {
    "duration": 60,
    "start_time": "2021-06-30T19:48:50.737Z"
   },
   {
    "duration": 16,
    "start_time": "2021-06-30T19:48:50.800Z"
   },
   {
    "duration": 69,
    "start_time": "2021-06-30T19:48:50.819Z"
   },
   {
    "duration": 24,
    "start_time": "2021-06-30T19:48:50.890Z"
   },
   {
    "duration": 16,
    "start_time": "2021-06-30T19:48:50.917Z"
   },
   {
    "duration": 8,
    "start_time": "2021-06-30T19:50:17.456Z"
   },
   {
    "duration": 345,
    "start_time": "2021-06-30T19:51:18.818Z"
   },
   {
    "duration": 8,
    "start_time": "2021-06-30T19:51:45.233Z"
   },
   {
    "duration": 12,
    "start_time": "2021-06-30T19:51:50.308Z"
   },
   {
    "duration": 24,
    "start_time": "2021-06-30T19:54:10.347Z"
   },
   {
    "duration": 9,
    "start_time": "2021-06-30T19:54:15.810Z"
   },
   {
    "duration": 14,
    "start_time": "2021-06-30T19:55:00.586Z"
   },
   {
    "duration": 10,
    "start_time": "2021-06-30T19:55:33.102Z"
   },
   {
    "duration": 26,
    "start_time": "2021-06-30T19:57:14.075Z"
   },
   {
    "duration": 9,
    "start_time": "2021-06-30T19:57:20.067Z"
   },
   {
    "duration": 31,
    "start_time": "2021-06-30T20:00:53.453Z"
   },
   {
    "duration": 29,
    "start_time": "2021-06-30T20:01:23.358Z"
   },
   {
    "duration": 18194,
    "start_time": "2021-06-30T20:06:30.198Z"
   },
   {
    "duration": 22,
    "start_time": "2021-06-30T20:09:53.689Z"
   },
   {
    "duration": 8,
    "start_time": "2021-06-30T20:10:16.593Z"
   },
   {
    "duration": 295,
    "start_time": "2021-06-30T20:11:25.137Z"
   },
   {
    "duration": 308,
    "start_time": "2021-06-30T20:11:38.257Z"
   },
   {
    "duration": 271,
    "start_time": "2021-06-30T20:13:11.700Z"
   },
   {
    "duration": 339,
    "start_time": "2021-06-30T20:13:43.929Z"
   },
   {
    "duration": 13,
    "start_time": "2021-06-30T20:14:35.186Z"
   },
   {
    "duration": 58,
    "start_time": "2021-06-30T20:16:05.802Z"
   },
   {
    "duration": 15,
    "start_time": "2021-06-30T20:16:06.636Z"
   },
   {
    "duration": 23,
    "start_time": "2021-06-30T20:17:21.722Z"
   },
   {
    "duration": 12,
    "start_time": "2021-06-30T20:17:22.075Z"
   },
   {
    "duration": 503,
    "start_time": "2021-06-30T20:17:23.972Z"
   },
   {
    "duration": 656,
    "start_time": "2021-06-30T20:17:40.220Z"
   },
   {
    "duration": 684,
    "start_time": "2021-06-30T20:18:28.862Z"
   },
   {
    "duration": 713,
    "start_time": "2021-06-30T20:18:36.252Z"
   },
   {
    "duration": 846,
    "start_time": "2021-06-30T20:19:12.380Z"
   },
   {
    "duration": 329,
    "start_time": "2021-06-30T20:20:20.531Z"
   },
   {
    "duration": 467,
    "start_time": "2021-06-30T20:20:51.971Z"
   },
   {
    "duration": 775,
    "start_time": "2021-06-30T20:21:50.700Z"
   },
   {
    "duration": 843,
    "start_time": "2021-06-30T20:22:32.603Z"
   },
   {
    "duration": 364,
    "start_time": "2021-06-30T20:22:50.150Z"
   },
   {
    "duration": 410,
    "start_time": "2021-06-30T20:22:54.942Z"
   },
   {
    "duration": 308,
    "start_time": "2021-06-30T20:23:13.189Z"
   },
   {
    "duration": 301,
    "start_time": "2021-06-30T20:23:22.341Z"
   },
   {
    "duration": 1607,
    "start_time": "2021-06-30T20:23:31.022Z"
   },
   {
    "duration": 839,
    "start_time": "2021-06-30T20:23:41.820Z"
   },
   {
    "duration": 873,
    "start_time": "2021-06-30T20:24:24.653Z"
   },
   {
    "duration": 879,
    "start_time": "2021-06-30T20:24:51.165Z"
   },
   {
    "duration": 877,
    "start_time": "2021-06-30T20:26:03.345Z"
   },
   {
    "duration": 291,
    "start_time": "2021-06-30T20:26:57.390Z"
   },
   {
    "duration": 319,
    "start_time": "2021-06-30T20:27:28.222Z"
   },
   {
    "duration": 910,
    "start_time": "2021-06-30T20:28:08.768Z"
   },
   {
    "duration": 635,
    "start_time": "2021-06-30T20:34:00.465Z"
   },
   {
    "duration": 619,
    "start_time": "2021-06-30T20:34:18.162Z"
   },
   {
    "duration": 611,
    "start_time": "2021-06-30T20:34:29.889Z"
   },
   {
    "duration": 625,
    "start_time": "2021-06-30T20:34:46.586Z"
   },
   {
    "duration": 589,
    "start_time": "2021-06-30T20:34:57.626Z"
   },
   {
    "duration": 883,
    "start_time": "2021-06-30T20:35:53.202Z"
   },
   {
    "duration": 904,
    "start_time": "2021-06-30T20:36:23.891Z"
   },
   {
    "duration": 895,
    "start_time": "2021-06-30T20:37:03.803Z"
   },
   {
    "duration": 631,
    "start_time": "2021-06-30T20:37:20.338Z"
   },
   {
    "duration": 836,
    "start_time": "2021-06-30T20:38:12.323Z"
   },
   {
    "duration": 592,
    "start_time": "2021-06-30T20:38:26.355Z"
   },
   {
    "duration": 593,
    "start_time": "2021-06-30T20:40:49.428Z"
   },
   {
    "duration": -3056,
    "start_time": "2021-06-30T20:41:46.784Z"
   },
   {
    "duration": 11,
    "start_time": "2021-06-30T20:41:46.228Z"
   },
   {
    "duration": 1074,
    "start_time": "2021-07-01T07:18:57.811Z"
   },
   {
    "duration": 28,
    "start_time": "2021-07-01T07:18:58.886Z"
   },
   {
    "duration": 8,
    "start_time": "2021-07-01T07:19:00.491Z"
   },
   {
    "duration": 10,
    "start_time": "2021-07-01T07:19:03.007Z"
   },
   {
    "duration": 11,
    "start_time": "2021-07-01T07:19:04.303Z"
   },
   {
    "duration": 7,
    "start_time": "2021-07-01T07:19:06.955Z"
   },
   {
    "duration": 11,
    "start_time": "2021-07-01T07:19:09.655Z"
   },
   {
    "duration": 4,
    "start_time": "2021-07-01T07:19:10.243Z"
   },
   {
    "duration": 8,
    "start_time": "2021-07-01T07:19:16.167Z"
   },
   {
    "duration": 6,
    "start_time": "2021-07-01T07:19:30.510Z"
   },
   {
    "duration": 21,
    "start_time": "2021-07-01T07:19:37.436Z"
   },
   {
    "duration": 17,
    "start_time": "2021-07-01T07:19:50.463Z"
   },
   {
    "duration": 10,
    "start_time": "2021-07-01T07:19:54.264Z"
   },
   {
    "duration": 6,
    "start_time": "2021-07-01T07:20:08.735Z"
   },
   {
    "duration": 256,
    "start_time": "2021-07-01T07:20:25.596Z"
   },
   {
    "duration": 943,
    "start_time": "2021-07-01T07:20:29.408Z"
   },
   {
    "duration": 6,
    "start_time": "2021-07-01T07:24:02.838Z"
   },
   {
    "duration": 240,
    "start_time": "2021-07-01T07:32:09.671Z"
   },
   {
    "duration": 28,
    "start_time": "2021-07-01T07:32:17.367Z"
   },
   {
    "duration": 12,
    "start_time": "2021-07-01T07:34:14.493Z"
   },
   {
    "duration": 9,
    "start_time": "2021-07-01T07:34:17.048Z"
   },
   {
    "duration": 296,
    "start_time": "2021-07-01T07:34:31.209Z"
   },
   {
    "duration": 14,
    "start_time": "2021-07-01T07:37:03.942Z"
   },
   {
    "duration": 10,
    "start_time": "2021-07-01T07:37:04.665Z"
   },
   {
    "duration": 187,
    "start_time": "2021-07-01T07:47:27.781Z"
   },
   {
    "duration": 4514,
    "start_time": "2021-07-01T07:47:40.829Z"
   },
   {
    "duration": 90,
    "start_time": "2021-07-01T07:48:14.959Z"
   },
   {
    "duration": 6,
    "start_time": "2021-07-01T07:49:03.294Z"
   },
   {
    "duration": 83,
    "start_time": "2021-07-01T07:49:22.023Z"
   },
   {
    "duration": 2,
    "start_time": "2021-07-01T07:49:31.599Z"
   },
   {
    "duration": 30,
    "start_time": "2021-07-01T07:49:31.605Z"
   },
   {
    "duration": 6,
    "start_time": "2021-07-01T07:49:31.637Z"
   },
   {
    "duration": 12,
    "start_time": "2021-07-01T07:49:31.645Z"
   },
   {
    "duration": 8,
    "start_time": "2021-07-01T07:49:31.659Z"
   },
   {
    "duration": 12,
    "start_time": "2021-07-01T07:49:31.668Z"
   },
   {
    "duration": 12,
    "start_time": "2021-07-01T07:49:31.682Z"
   },
   {
    "duration": 3,
    "start_time": "2021-07-01T07:49:31.698Z"
   },
   {
    "duration": 16,
    "start_time": "2021-07-01T07:49:31.703Z"
   },
   {
    "duration": 6,
    "start_time": "2021-07-01T07:49:31.720Z"
   },
   {
    "duration": 22,
    "start_time": "2021-07-01T07:49:31.727Z"
   },
   {
    "duration": 15,
    "start_time": "2021-07-01T07:49:31.751Z"
   },
   {
    "duration": 26,
    "start_time": "2021-07-01T07:49:31.767Z"
   },
   {
    "duration": 5,
    "start_time": "2021-07-01T07:49:31.794Z"
   },
   {
    "duration": 264,
    "start_time": "2021-07-01T07:49:31.801Z"
   },
   {
    "duration": 977,
    "start_time": "2021-07-01T07:49:32.067Z"
   },
   {
    "duration": 5,
    "start_time": "2021-07-01T07:49:33.046Z"
   },
   {
    "duration": 13,
    "start_time": "2021-07-01T07:49:33.053Z"
   },
   {
    "duration": 13,
    "start_time": "2021-07-01T07:49:34.860Z"
   },
   {
    "duration": 3,
    "start_time": "2021-07-01T07:49:42.727Z"
   },
   {
    "duration": 180,
    "start_time": "2021-07-01T07:51:56.996Z"
   },
   {
    "duration": 196,
    "start_time": "2021-07-01T07:52:02.320Z"
   },
   {
    "duration": 14,
    "start_time": "2021-07-01T07:52:44.349Z"
   },
   {
    "duration": 11,
    "start_time": "2021-07-01T07:53:02.158Z"
   },
   {
    "duration": 27,
    "start_time": "2021-07-01T07:58:20.448Z"
   },
   {
    "duration": 12,
    "start_time": "2021-07-01T07:58:55.280Z"
   },
   {
    "duration": 11,
    "start_time": "2021-07-01T07:59:12.633Z"
   },
   {
    "duration": 14,
    "start_time": "2021-07-01T08:00:03.829Z"
   },
   {
    "duration": 202,
    "start_time": "2021-07-01T08:01:24.598Z"
   },
   {
    "duration": 11,
    "start_time": "2021-07-01T08:01:40.790Z"
   },
   {
    "duration": 3,
    "start_time": "2021-07-01T08:01:48.114Z"
   },
   {
    "duration": 26,
    "start_time": "2021-07-01T08:01:48.123Z"
   },
   {
    "duration": 8,
    "start_time": "2021-07-01T08:01:48.151Z"
   },
   {
    "duration": 11,
    "start_time": "2021-07-01T08:01:48.161Z"
   },
   {
    "duration": 9,
    "start_time": "2021-07-01T08:01:48.174Z"
   },
   {
    "duration": 7,
    "start_time": "2021-07-01T08:01:48.186Z"
   },
   {
    "duration": 12,
    "start_time": "2021-07-01T08:01:48.195Z"
   },
   {
    "duration": 4,
    "start_time": "2021-07-01T08:01:48.210Z"
   },
   {
    "duration": 9,
    "start_time": "2021-07-01T08:01:48.216Z"
   },
   {
    "duration": 12,
    "start_time": "2021-07-01T08:01:48.227Z"
   },
   {
    "duration": 54,
    "start_time": "2021-07-01T08:01:48.241Z"
   },
   {
    "duration": 17,
    "start_time": "2021-07-01T08:01:48.297Z"
   },
   {
    "duration": 11,
    "start_time": "2021-07-01T08:01:48.316Z"
   },
   {
    "duration": 9,
    "start_time": "2021-07-01T08:01:48.329Z"
   },
   {
    "duration": 283,
    "start_time": "2021-07-01T08:01:48.341Z"
   },
   {
    "duration": 1096,
    "start_time": "2021-07-01T08:01:48.626Z"
   },
   {
    "duration": 7,
    "start_time": "2021-07-01T08:01:49.724Z"
   },
   {
    "duration": 14,
    "start_time": "2021-07-01T08:01:49.733Z"
   },
   {
    "duration": 11,
    "start_time": "2021-07-01T08:01:49.748Z"
   },
   {
    "duration": 27,
    "start_time": "2021-07-01T08:01:49.760Z"
   },
   {
    "duration": 13,
    "start_time": "2021-07-01T08:01:49.789Z"
   },
   {
    "duration": 12,
    "start_time": "2021-07-01T08:01:57.074Z"
   },
   {
    "duration": 27,
    "start_time": "2021-07-01T08:02:04.370Z"
   },
   {
    "duration": 11,
    "start_time": "2021-07-01T08:02:05.167Z"
   },
   {
    "duration": 14,
    "start_time": "2021-07-01T08:03:01.648Z"
   },
   {
    "duration": 11,
    "start_time": "2021-07-01T08:03:02.695Z"
   },
   {
    "duration": 11,
    "start_time": "2021-07-01T08:03:05.459Z"
   },
   {
    "duration": 206,
    "start_time": "2021-07-01T08:04:00.696Z"
   },
   {
    "duration": 267,
    "start_time": "2021-07-01T08:04:16.536Z"
   },
   {
    "duration": 9,
    "start_time": "2021-07-01T08:05:18.968Z"
   },
   {
    "duration": 14,
    "start_time": "2021-07-01T08:05:36.648Z"
   },
   {
    "duration": 8,
    "start_time": "2021-07-01T08:06:29.392Z"
   },
   {
    "duration": 51,
    "start_time": "2021-07-01T08:08:36.299Z"
   },
   {
    "duration": 8,
    "start_time": "2021-07-01T08:08:39.714Z"
   },
   {
    "duration": 45,
    "start_time": "2021-07-01T08:08:54.904Z"
   },
   {
    "duration": 7,
    "start_time": "2021-07-01T08:08:55.603Z"
   },
   {
    "duration": 45,
    "start_time": "2021-07-01T08:09:47.080Z"
   },
   {
    "duration": 9,
    "start_time": "2021-07-01T08:09:47.727Z"
   },
   {
    "duration": 48,
    "start_time": "2021-07-01T08:10:05.124Z"
   },
   {
    "duration": 7,
    "start_time": "2021-07-01T08:10:07.588Z"
   },
   {
    "duration": 49,
    "start_time": "2021-07-01T08:10:32.336Z"
   },
   {
    "duration": 7,
    "start_time": "2021-07-01T08:10:33.556Z"
   },
   {
    "duration": 51,
    "start_time": "2021-07-01T08:10:48.716Z"
   },
   {
    "duration": 7,
    "start_time": "2021-07-01T08:10:55.902Z"
   },
   {
    "duration": 51,
    "start_time": "2021-07-01T08:11:09.684Z"
   },
   {
    "duration": 8,
    "start_time": "2021-07-01T08:11:10.818Z"
   },
   {
    "duration": 51,
    "start_time": "2021-07-01T08:11:31.136Z"
   },
   {
    "duration": 7,
    "start_time": "2021-07-01T08:11:31.989Z"
   },
   {
    "duration": 52,
    "start_time": "2021-07-01T08:11:47.510Z"
   },
   {
    "duration": 8,
    "start_time": "2021-07-01T08:11:48.269Z"
   },
   {
    "duration": 52,
    "start_time": "2021-07-01T08:11:57.780Z"
   },
   {
    "duration": 7,
    "start_time": "2021-07-01T08:12:01.023Z"
   },
   {
    "duration": 62,
    "start_time": "2021-07-01T08:12:14.999Z"
   },
   {
    "duration": 7,
    "start_time": "2021-07-01T08:12:16.669Z"
   },
   {
    "duration": 49,
    "start_time": "2021-07-01T08:12:25.669Z"
   },
   {
    "duration": 8,
    "start_time": "2021-07-01T08:12:26.269Z"
   },
   {
    "duration": 47,
    "start_time": "2021-07-01T08:12:39.176Z"
   },
   {
    "duration": 7,
    "start_time": "2021-07-01T08:12:41.269Z"
   },
   {
    "duration": 48,
    "start_time": "2021-07-01T08:15:39.750Z"
   },
   {
    "duration": 8,
    "start_time": "2021-07-01T08:15:40.438Z"
   },
   {
    "duration": 50,
    "start_time": "2021-07-01T08:15:53.427Z"
   },
   {
    "duration": 8,
    "start_time": "2021-07-01T08:15:54.040Z"
   },
   {
    "duration": 48,
    "start_time": "2021-07-01T08:16:17.745Z"
   },
   {
    "duration": 7,
    "start_time": "2021-07-01T08:16:18.248Z"
   },
   {
    "duration": 66,
    "start_time": "2021-07-01T08:16:39.226Z"
   },
   {
    "duration": 7,
    "start_time": "2021-07-01T08:16:40.151Z"
   },
   {
    "duration": 51,
    "start_time": "2021-07-01T08:17:00.533Z"
   },
   {
    "duration": 7,
    "start_time": "2021-07-01T08:17:01.239Z"
   },
   {
    "duration": 60,
    "start_time": "2021-07-01T08:18:46.803Z"
   },
   {
    "duration": 7,
    "start_time": "2021-07-01T08:18:47.761Z"
   },
   {
    "duration": 62,
    "start_time": "2021-07-01T08:22:19.003Z"
   },
   {
    "duration": 7,
    "start_time": "2021-07-01T08:22:20.392Z"
   },
   {
    "duration": 60,
    "start_time": "2021-07-01T08:22:37.375Z"
   },
   {
    "duration": 7,
    "start_time": "2021-07-01T08:22:38.084Z"
   },
   {
    "duration": 74,
    "start_time": "2021-07-01T08:23:08.211Z"
   },
   {
    "duration": 7,
    "start_time": "2021-07-01T08:23:09.036Z"
   },
   {
    "duration": 64,
    "start_time": "2021-07-01T08:23:35.143Z"
   },
   {
    "duration": 7,
    "start_time": "2021-07-01T08:23:35.707Z"
   },
   {
    "duration": 65,
    "start_time": "2021-07-01T08:23:51.234Z"
   },
   {
    "duration": 7,
    "start_time": "2021-07-01T08:23:51.821Z"
   },
   {
    "duration": 64,
    "start_time": "2021-07-01T08:24:13.788Z"
   },
   {
    "duration": 7,
    "start_time": "2021-07-01T08:24:14.313Z"
   },
   {
    "duration": 70,
    "start_time": "2021-07-01T08:24:47.949Z"
   },
   {
    "duration": 8,
    "start_time": "2021-07-01T08:24:49.119Z"
   },
   {
    "duration": 61,
    "start_time": "2021-07-01T08:25:08.106Z"
   },
   {
    "duration": 6,
    "start_time": "2021-07-01T08:25:08.771Z"
   },
   {
    "duration": 63,
    "start_time": "2021-07-01T08:25:34.074Z"
   },
   {
    "duration": 7,
    "start_time": "2021-07-01T08:25:34.846Z"
   },
   {
    "duration": 66,
    "start_time": "2021-07-01T08:25:47.384Z"
   },
   {
    "duration": 8,
    "start_time": "2021-07-01T08:25:47.926Z"
   },
   {
    "duration": 62,
    "start_time": "2021-07-01T08:26:03.071Z"
   },
   {
    "duration": 7,
    "start_time": "2021-07-01T08:26:03.618Z"
   },
   {
    "duration": 71,
    "start_time": "2021-07-01T08:27:36.446Z"
   },
   {
    "duration": 8,
    "start_time": "2021-07-01T08:27:37.376Z"
   },
   {
    "duration": 61,
    "start_time": "2021-07-01T08:28:17.121Z"
   },
   {
    "duration": 8,
    "start_time": "2021-07-01T08:28:17.719Z"
   },
   {
    "duration": 69,
    "start_time": "2021-07-01T08:28:36.776Z"
   },
   {
    "duration": 7,
    "start_time": "2021-07-01T08:28:37.316Z"
   },
   {
    "duration": 70,
    "start_time": "2021-07-01T08:29:15.589Z"
   },
   {
    "duration": 8,
    "start_time": "2021-07-01T08:29:16.232Z"
   },
   {
    "duration": 72,
    "start_time": "2021-07-01T08:29:37.833Z"
   },
   {
    "duration": 8,
    "start_time": "2021-07-01T08:29:38.304Z"
   },
   {
    "duration": 68,
    "start_time": "2021-07-01T08:30:16.080Z"
   },
   {
    "duration": 8,
    "start_time": "2021-07-01T08:30:16.631Z"
   },
   {
    "duration": 70,
    "start_time": "2021-07-01T08:31:10.135Z"
   },
   {
    "duration": 7,
    "start_time": "2021-07-01T08:31:10.841Z"
   },
   {
    "duration": 70,
    "start_time": "2021-07-01T08:31:22.047Z"
   },
   {
    "duration": 8,
    "start_time": "2021-07-01T08:31:22.600Z"
   },
   {
    "duration": 70,
    "start_time": "2021-07-01T08:31:39.755Z"
   },
   {
    "duration": 7,
    "start_time": "2021-07-01T08:31:39.954Z"
   },
   {
    "duration": 70,
    "start_time": "2021-07-01T08:32:02.386Z"
   },
   {
    "duration": 7,
    "start_time": "2021-07-01T08:32:03.002Z"
   },
   {
    "duration": 66,
    "start_time": "2021-07-01T08:32:15.598Z"
   },
   {
    "duration": 7,
    "start_time": "2021-07-01T08:33:11.318Z"
   },
   {
    "duration": 66,
    "start_time": "2021-07-01T08:33:50.028Z"
   },
   {
    "duration": 6,
    "start_time": "2021-07-01T08:33:50.644Z"
   },
   {
    "duration": 77,
    "start_time": "2021-07-01T08:34:41.530Z"
   },
   {
    "duration": 6,
    "start_time": "2021-07-01T08:34:43.442Z"
   },
   {
    "duration": 66,
    "start_time": "2021-07-01T08:40:09.184Z"
   },
   {
    "duration": 7,
    "start_time": "2021-07-01T08:40:09.751Z"
   },
   {
    "duration": 69,
    "start_time": "2021-07-01T08:42:19.861Z"
   },
   {
    "duration": 6,
    "start_time": "2021-07-01T08:42:20.553Z"
   },
   {
    "duration": 73,
    "start_time": "2021-07-01T08:42:31.861Z"
   },
   {
    "duration": 7,
    "start_time": "2021-07-01T08:42:32.685Z"
   },
   {
    "duration": 72,
    "start_time": "2021-07-01T08:43:24.942Z"
   },
   {
    "duration": 6,
    "start_time": "2021-07-01T08:43:25.578Z"
   },
   {
    "duration": 70,
    "start_time": "2021-07-01T08:43:37.238Z"
   },
   {
    "duration": 6,
    "start_time": "2021-07-01T08:43:37.686Z"
   },
   {
    "duration": 71,
    "start_time": "2021-07-01T08:44:03.155Z"
   },
   {
    "duration": 7,
    "start_time": "2021-07-01T08:44:03.694Z"
   },
   {
    "duration": 72,
    "start_time": "2021-07-01T08:44:18.374Z"
   },
   {
    "duration": 7,
    "start_time": "2021-07-01T08:44:19.074Z"
   },
   {
    "duration": 69,
    "start_time": "2021-07-01T08:44:35.083Z"
   },
   {
    "duration": 7,
    "start_time": "2021-07-01T08:44:35.738Z"
   },
   {
    "duration": 71,
    "start_time": "2021-07-01T08:46:56.201Z"
   },
   {
    "duration": 7,
    "start_time": "2021-07-01T08:46:56.940Z"
   },
   {
    "duration": 72,
    "start_time": "2021-07-01T08:47:15.892Z"
   },
   {
    "duration": 7,
    "start_time": "2021-07-01T08:47:16.560Z"
   },
   {
    "duration": 72,
    "start_time": "2021-07-01T08:48:16.063Z"
   },
   {
    "duration": 7,
    "start_time": "2021-07-01T08:48:16.629Z"
   },
   {
    "duration": 72,
    "start_time": "2021-07-01T08:48:44.717Z"
   },
   {
    "duration": 6,
    "start_time": "2021-07-01T08:48:45.325Z"
   },
   {
    "duration": 74,
    "start_time": "2021-07-01T08:48:56.769Z"
   },
   {
    "duration": 6,
    "start_time": "2021-07-01T08:48:57.341Z"
   },
   {
    "duration": 71,
    "start_time": "2021-07-01T08:49:18.558Z"
   },
   {
    "duration": 5,
    "start_time": "2021-07-01T08:51:01.690Z"
   },
   {
    "duration": 3,
    "start_time": "2021-07-01T08:51:10.883Z"
   },
   {
    "duration": 180,
    "start_time": "2021-07-01T08:51:57.951Z"
   },
   {
    "duration": 192,
    "start_time": "2021-07-01T08:57:12.394Z"
   },
   {
    "duration": 7,
    "start_time": "2021-07-01T09:00:09.222Z"
   },
   {
    "duration": 2,
    "start_time": "2021-07-01T09:00:32.359Z"
   },
   {
    "duration": 45,
    "start_time": "2021-07-01T09:00:42.616Z"
   },
   {
    "duration": 7,
    "start_time": "2021-07-01T09:00:44.583Z"
   },
   {
    "duration": 77,
    "start_time": "2021-07-01T09:02:17.242Z"
   },
   {
    "duration": 6,
    "start_time": "2021-07-01T09:02:18.026Z"
   },
   {
    "duration": 80,
    "start_time": "2021-07-01T09:02:41.560Z"
   },
   {
    "duration": 7,
    "start_time": "2021-07-01T09:02:42.390Z"
   },
   {
    "duration": 6,
    "start_time": "2021-07-01T09:02:54.727Z"
   },
   {
    "duration": 72,
    "start_time": "2021-07-01T09:03:16.406Z"
   },
   {
    "duration": 7,
    "start_time": "2021-07-01T09:03:17.202Z"
   },
   {
    "duration": 74,
    "start_time": "2021-07-01T09:03:47.185Z"
   },
   {
    "duration": 7,
    "start_time": "2021-07-01T09:03:47.767Z"
   },
   {
    "duration": 76,
    "start_time": "2021-07-01T09:04:02.369Z"
   },
   {
    "duration": 7,
    "start_time": "2021-07-01T09:04:02.915Z"
   },
   {
    "duration": 76,
    "start_time": "2021-07-01T09:04:22.851Z"
   },
   {
    "duration": 7,
    "start_time": "2021-07-01T09:04:25.647Z"
   },
   {
    "duration": 75,
    "start_time": "2021-07-01T09:04:35.583Z"
   },
   {
    "duration": 7,
    "start_time": "2021-07-01T09:04:36.319Z"
   },
   {
    "duration": 6,
    "start_time": "2021-07-01T09:06:28.201Z"
   },
   {
    "duration": 13319,
    "start_time": "2021-07-01T09:10:44.536Z"
   },
   {
    "duration": 60,
    "start_time": "2021-07-01T09:11:19.736Z"
   },
   {
    "duration": 31380,
    "start_time": "2021-07-01T09:11:25.741Z"
   },
   {
    "duration": 191,
    "start_time": "2021-07-01T09:14:17.570Z"
   },
   {
    "duration": 261,
    "start_time": "2021-07-01T09:14:24.938Z"
   },
   {
    "duration": 291,
    "start_time": "2021-07-01T09:14:42.234Z"
   },
   {
    "duration": 288,
    "start_time": "2021-07-01T09:15:23.654Z"
   },
   {
    "duration": 653,
    "start_time": "2021-07-01T09:15:37.046Z"
   },
   {
    "duration": 288,
    "start_time": "2021-07-01T09:16:16.019Z"
   },
   {
    "duration": 9,
    "start_time": "2021-07-01T12:42:35.818Z"
   },
   {
    "duration": 7,
    "start_time": "2021-07-01T12:49:07.923Z"
   },
   {
    "duration": 12,
    "start_time": "2021-07-01T12:49:13.462Z"
   },
   {
    "duration": 6,
    "start_time": "2021-07-01T12:49:29.895Z"
   },
   {
    "duration": 14,
    "start_time": "2021-07-01T12:49:30.837Z"
   },
   {
    "duration": 11,
    "start_time": "2021-07-01T12:53:15.088Z"
   },
   {
    "duration": 7,
    "start_time": "2021-07-01T12:53:21.670Z"
   },
   {
    "duration": 11,
    "start_time": "2021-07-01T12:56:37.192Z"
   },
   {
    "duration": 8,
    "start_time": "2021-07-01T12:56:47.075Z"
   },
   {
    "duration": 76,
    "start_time": "2021-07-01T12:59:35.254Z"
   },
   {
    "duration": 10,
    "start_time": "2021-07-01T13:07:59.596Z"
   },
   {
    "duration": 5,
    "start_time": "2021-07-01T13:08:10.117Z"
   },
   {
    "duration": 24,
    "start_time": "2021-07-01T13:12:20.458Z"
   },
   {
    "duration": 9,
    "start_time": "2021-07-01T13:12:45.428Z"
   },
   {
    "duration": 18,
    "start_time": "2021-07-01T13:14:18.865Z"
   },
   {
    "duration": 16,
    "start_time": "2021-07-01T13:14:19.695Z"
   },
   {
    "duration": 3,
    "start_time": "2021-07-01T13:25:02.329Z"
   },
   {
    "duration": 73,
    "start_time": "2021-07-01T13:25:42.232Z"
   },
   {
    "duration": 8,
    "start_time": "2021-07-01T13:25:50.597Z"
   },
   {
    "duration": 7,
    "start_time": "2021-07-01T13:26:21.709Z"
   },
   {
    "duration": 4,
    "start_time": "2021-07-01T13:26:56.773Z"
   },
   {
    "duration": 16,
    "start_time": "2021-07-01T13:27:18.532Z"
   },
   {
    "duration": 3,
    "start_time": "2021-07-01T13:27:31.016Z"
   },
   {
    "duration": 33,
    "start_time": "2021-07-01T13:27:31.021Z"
   },
   {
    "duration": 9,
    "start_time": "2021-07-01T13:27:31.056Z"
   },
   {
    "duration": 15,
    "start_time": "2021-07-01T13:27:31.066Z"
   },
   {
    "duration": 16,
    "start_time": "2021-07-01T13:27:31.082Z"
   },
   {
    "duration": 11,
    "start_time": "2021-07-01T13:27:31.101Z"
   },
   {
    "duration": 10,
    "start_time": "2021-07-01T13:27:31.114Z"
   },
   {
    "duration": 3,
    "start_time": "2021-07-01T13:27:31.126Z"
   },
   {
    "duration": 10,
    "start_time": "2021-07-01T13:27:31.132Z"
   },
   {
    "duration": 11,
    "start_time": "2021-07-01T13:27:31.144Z"
   },
   {
    "duration": 23,
    "start_time": "2021-07-01T13:27:31.156Z"
   },
   {
    "duration": 32,
    "start_time": "2021-07-01T13:27:31.181Z"
   },
   {
    "duration": 10,
    "start_time": "2021-07-01T13:27:31.215Z"
   },
   {
    "duration": 12,
    "start_time": "2021-07-01T13:27:31.227Z"
   },
   {
    "duration": 375,
    "start_time": "2021-07-01T13:27:31.241Z"
   },
   {
    "duration": 1141,
    "start_time": "2021-07-01T13:27:31.618Z"
   },
   {
    "duration": 5,
    "start_time": "2021-07-01T13:27:32.761Z"
   },
   {
    "duration": 32,
    "start_time": "2021-07-01T13:27:32.768Z"
   },
   {
    "duration": 13,
    "start_time": "2021-07-01T13:27:32.802Z"
   },
   {
    "duration": 5,
    "start_time": "2021-07-01T13:27:32.816Z"
   },
   {
    "duration": 104,
    "start_time": "2021-07-01T13:27:32.823Z"
   },
   {
    "duration": 7,
    "start_time": "2021-07-01T13:27:32.928Z"
   },
   {
    "duration": 304,
    "start_time": "2021-07-01T13:27:32.937Z"
   },
   {
    "duration": 10,
    "start_time": "2021-07-01T13:27:33.243Z"
   },
   {
    "duration": 6,
    "start_time": "2021-07-01T13:27:33.255Z"
   },
   {
    "duration": 5,
    "start_time": "2021-07-01T13:27:36.878Z"
   },
   {
    "duration": 13,
    "start_time": "2021-07-01T13:27:37.552Z"
   },
   {
    "duration": 201,
    "start_time": "2021-07-01T13:32:17.946Z"
   },
   {
    "duration": 3,
    "start_time": "2021-07-01T13:33:37.683Z"
   },
   {
    "duration": 7,
    "start_time": "2021-07-01T13:34:38.401Z"
   },
   {
    "duration": 8,
    "start_time": "2021-07-01T13:34:54.913Z"
   },
   {
    "duration": 14,
    "start_time": "2021-07-01T13:35:08.776Z"
   },
   {
    "duration": 58,
    "start_time": "2021-07-01T13:36:49.870Z"
   },
   {
    "duration": 219,
    "start_time": "2021-07-01T13:36:54.762Z"
   },
   {
    "duration": 232,
    "start_time": "2021-07-01T13:37:13.128Z"
   },
   {
    "duration": 270,
    "start_time": "2021-07-01T13:40:23.717Z"
   },
   {
    "duration": 4,
    "start_time": "2021-07-01T13:42:50.752Z"
   },
   {
    "duration": 1459,
    "start_time": "2021-07-01T13:43:28.436Z"
   },
   {
    "duration": 8,
    "start_time": "2021-07-01T13:43:43.755Z"
   },
   {
    "duration": 6,
    "start_time": "2021-07-01T13:44:06.166Z"
   },
   {
    "duration": 7,
    "start_time": "2021-07-01T13:47:12.181Z"
   },
   {
    "duration": 1544,
    "start_time": "2021-07-01T13:52:56.652Z"
   },
   {
    "duration": 258,
    "start_time": "2021-07-01T14:03:20.836Z"
   },
   {
    "duration": 359,
    "start_time": "2021-07-01T14:03:45.717Z"
   },
   {
    "duration": 466,
    "start_time": "2021-07-01T14:03:57.314Z"
   },
   {
    "duration": 367,
    "start_time": "2021-07-01T14:04:05.217Z"
   },
   {
    "duration": 358,
    "start_time": "2021-07-01T14:06:17.650Z"
   },
   {
    "duration": 365,
    "start_time": "2021-07-01T14:06:25.824Z"
   },
   {
    "duration": 354,
    "start_time": "2021-07-01T14:06:37.862Z"
   },
   {
    "duration": 371,
    "start_time": "2021-07-01T14:08:00.034Z"
   },
   {
    "duration": 1110,
    "start_time": "2021-07-01T14:11:00.793Z"
   },
   {
    "duration": 27,
    "start_time": "2021-07-01T14:11:01.905Z"
   },
   {
    "duration": 7,
    "start_time": "2021-07-01T14:11:01.935Z"
   },
   {
    "duration": 17,
    "start_time": "2021-07-01T14:11:01.943Z"
   },
   {
    "duration": 11,
    "start_time": "2021-07-01T14:11:01.962Z"
   },
   {
    "duration": 14,
    "start_time": "2021-07-01T14:11:01.975Z"
   },
   {
    "duration": 29,
    "start_time": "2021-07-01T14:11:01.990Z"
   },
   {
    "duration": 23,
    "start_time": "2021-07-01T14:11:02.021Z"
   },
   {
    "duration": 17,
    "start_time": "2021-07-01T14:11:02.046Z"
   },
   {
    "duration": 11,
    "start_time": "2021-07-01T14:11:02.065Z"
   },
   {
    "duration": 26,
    "start_time": "2021-07-01T14:11:02.077Z"
   },
   {
    "duration": 15,
    "start_time": "2021-07-01T14:11:02.104Z"
   },
   {
    "duration": 9,
    "start_time": "2021-07-01T14:11:02.121Z"
   },
   {
    "duration": 6,
    "start_time": "2021-07-01T14:11:02.132Z"
   },
   {
    "duration": 279,
    "start_time": "2021-07-01T14:11:02.139Z"
   },
   {
    "duration": 965,
    "start_time": "2021-07-01T14:11:02.419Z"
   },
   {
    "duration": 5,
    "start_time": "2021-07-01T14:11:03.386Z"
   },
   {
    "duration": 14,
    "start_time": "2021-07-01T14:11:03.392Z"
   },
   {
    "duration": 9,
    "start_time": "2021-07-01T14:11:03.407Z"
   },
   {
    "duration": 6,
    "start_time": "2021-07-01T14:11:03.418Z"
   },
   {
    "duration": 184,
    "start_time": "2021-07-01T14:11:03.425Z"
   },
   {
    "duration": 5,
    "start_time": "2021-07-01T14:11:03.611Z"
   },
   {
    "duration": 280,
    "start_time": "2021-07-01T14:11:03.619Z"
   },
   {
    "duration": 8,
    "start_time": "2021-07-01T14:11:03.901Z"
   },
   {
    "duration": 1438,
    "start_time": "2021-07-01T14:11:03.910Z"
   },
   {
    "duration": 6,
    "start_time": "2021-07-01T14:11:05.350Z"
   },
   {
    "duration": 365,
    "start_time": "2021-07-01T14:11:05.358Z"
   },
   {
    "duration": 360,
    "start_time": "2021-07-01T14:12:40.425Z"
   },
   {
    "duration": 60,
    "start_time": "2021-07-01T14:58:43.996Z"
   },
   {
    "duration": 1307,
    "start_time": "2021-07-01T14:58:50.612Z"
   },
   {
    "duration": 12,
    "start_time": "2021-07-01T14:59:11.309Z"
   },
   {
    "duration": 7,
    "start_time": "2021-07-01T14:59:54.439Z"
   },
   {
    "duration": 5,
    "start_time": "2021-07-01T15:00:00.118Z"
   },
   {
    "duration": 20,
    "start_time": "2021-07-01T15:02:20.239Z"
   },
   {
    "duration": 3,
    "start_time": "2021-07-01T15:03:45.856Z"
   },
   {
    "duration": 192,
    "start_time": "2021-07-01T15:04:35.294Z"
   },
   {
    "duration": 62,
    "start_time": "2021-07-01T15:06:42.784Z"
   },
   {
    "duration": 2,
    "start_time": "2021-07-01T15:06:51.187Z"
   },
   {
    "duration": 183,
    "start_time": "2021-07-01T15:08:31.847Z"
   },
   {
    "duration": 7,
    "start_time": "2021-07-01T15:09:07.728Z"
   },
   {
    "duration": 183,
    "start_time": "2021-07-01T15:09:10.076Z"
   },
   {
    "duration": 187,
    "start_time": "2021-07-01T15:10:07.697Z"
   },
   {
    "duration": 233,
    "start_time": "2021-07-01T15:10:33.695Z"
   },
   {
    "duration": 230,
    "start_time": "2021-07-01T15:11:22.977Z"
   },
   {
    "duration": 176,
    "start_time": "2021-07-01T15:11:33.694Z"
   },
   {
    "duration": 6,
    "start_time": "2021-07-01T15:12:04.818Z"
   },
   {
    "duration": 199,
    "start_time": "2021-07-01T15:12:29.102Z"
   },
   {
    "duration": 3,
    "start_time": "2021-07-01T15:13:08.507Z"
   },
   {
    "duration": 241,
    "start_time": "2021-07-01T15:13:38.187Z"
   },
   {
    "duration": 1122,
    "start_time": "2021-07-01T15:13:56.899Z"
   },
   {
    "duration": 28,
    "start_time": "2021-07-01T15:13:58.022Z"
   },
   {
    "duration": 7,
    "start_time": "2021-07-01T15:13:58.052Z"
   },
   {
    "duration": 11,
    "start_time": "2021-07-01T15:13:58.060Z"
   },
   {
    "duration": 17,
    "start_time": "2021-07-01T15:13:58.073Z"
   },
   {
    "duration": 5,
    "start_time": "2021-07-01T15:13:58.091Z"
   },
   {
    "duration": 13,
    "start_time": "2021-07-01T15:13:58.098Z"
   },
   {
    "duration": 3,
    "start_time": "2021-07-01T15:13:58.113Z"
   },
   {
    "duration": 9,
    "start_time": "2021-07-01T15:13:58.118Z"
   },
   {
    "duration": 8,
    "start_time": "2021-07-01T15:13:58.128Z"
   },
   {
    "duration": 49,
    "start_time": "2021-07-01T15:13:58.137Z"
   },
   {
    "duration": 16,
    "start_time": "2021-07-01T15:13:58.187Z"
   },
   {
    "duration": 9,
    "start_time": "2021-07-01T15:13:58.205Z"
   },
   {
    "duration": 5,
    "start_time": "2021-07-01T15:13:58.216Z"
   },
   {
    "duration": 279,
    "start_time": "2021-07-01T15:13:58.223Z"
   },
   {
    "duration": 1036,
    "start_time": "2021-07-01T15:13:58.503Z"
   },
   {
    "duration": 6,
    "start_time": "2021-07-01T15:13:59.540Z"
   },
   {
    "duration": 15,
    "start_time": "2021-07-01T15:13:59.547Z"
   },
   {
    "duration": 24,
    "start_time": "2021-07-01T15:13:59.564Z"
   },
   {
    "duration": 5,
    "start_time": "2021-07-01T15:13:59.590Z"
   },
   {
    "duration": 98,
    "start_time": "2021-07-01T15:13:59.597Z"
   },
   {
    "duration": 6,
    "start_time": "2021-07-01T15:13:59.697Z"
   },
   {
    "duration": 295,
    "start_time": "2021-07-01T15:13:59.706Z"
   },
   {
    "duration": 9,
    "start_time": "2021-07-01T15:14:00.003Z"
   },
   {
    "duration": 1493,
    "start_time": "2021-07-01T15:14:00.014Z"
   },
   {
    "duration": 7,
    "start_time": "2021-07-01T15:14:01.509Z"
   },
   {
    "duration": 387,
    "start_time": "2021-07-01T15:14:01.518Z"
   },
   {
    "duration": 7,
    "start_time": "2021-07-01T15:14:01.907Z"
   },
   {
    "duration": 8,
    "start_time": "2021-07-01T15:14:01.915Z"
   },
   {
    "duration": 9,
    "start_time": "2021-07-01T15:14:06.607Z"
   },
   {
    "duration": 3,
    "start_time": "2021-07-01T15:16:15.433Z"
   },
   {
    "duration": 4,
    "start_time": "2021-07-01T15:19:52.799Z"
   },
   {
    "duration": 3,
    "start_time": "2021-07-01T15:20:11.255Z"
   },
   {
    "duration": 4,
    "start_time": "2021-07-01T15:20:45.820Z"
   },
   {
    "duration": 4,
    "start_time": "2021-07-01T15:21:01.668Z"
   },
   {
    "duration": 5,
    "start_time": "2021-07-01T15:21:07.815Z"
   },
   {
    "duration": 4,
    "start_time": "2021-07-01T15:21:51.416Z"
   },
   {
    "duration": 3,
    "start_time": "2021-07-01T15:25:48.141Z"
   },
   {
    "duration": 30,
    "start_time": "2021-07-01T15:25:48.151Z"
   },
   {
    "duration": 8,
    "start_time": "2021-07-01T15:25:48.183Z"
   },
   {
    "duration": 10,
    "start_time": "2021-07-01T15:25:48.193Z"
   },
   {
    "duration": 11,
    "start_time": "2021-07-01T15:25:48.205Z"
   },
   {
    "duration": 8,
    "start_time": "2021-07-01T15:25:48.217Z"
   },
   {
    "duration": 12,
    "start_time": "2021-07-01T15:25:48.228Z"
   },
   {
    "duration": 44,
    "start_time": "2021-07-01T15:25:48.242Z"
   },
   {
    "duration": 11,
    "start_time": "2021-07-01T15:25:48.289Z"
   },
   {
    "duration": 5,
    "start_time": "2021-07-01T15:25:48.302Z"
   },
   {
    "duration": 22,
    "start_time": "2021-07-01T15:25:48.309Z"
   },
   {
    "duration": 18,
    "start_time": "2021-07-01T15:25:48.332Z"
   },
   {
    "duration": 11,
    "start_time": "2021-07-01T15:25:48.384Z"
   },
   {
    "duration": 6,
    "start_time": "2021-07-01T15:25:48.397Z"
   },
   {
    "duration": 277,
    "start_time": "2021-07-01T15:25:48.406Z"
   },
   {
    "duration": 963,
    "start_time": "2021-07-01T15:25:48.685Z"
   },
   {
    "duration": 6,
    "start_time": "2021-07-01T15:25:49.650Z"
   },
   {
    "duration": 28,
    "start_time": "2021-07-01T15:25:49.657Z"
   },
   {
    "duration": 10,
    "start_time": "2021-07-01T15:25:49.687Z"
   },
   {
    "duration": 5,
    "start_time": "2021-07-01T15:25:49.699Z"
   },
   {
    "duration": 98,
    "start_time": "2021-07-01T15:25:49.706Z"
   },
   {
    "duration": 5,
    "start_time": "2021-07-01T15:25:49.806Z"
   },
   {
    "duration": 291,
    "start_time": "2021-07-01T15:25:49.813Z"
   },
   {
    "duration": 8,
    "start_time": "2021-07-01T15:25:50.106Z"
   },
   {
    "duration": 1561,
    "start_time": "2021-07-01T15:25:50.115Z"
   },
   {
    "duration": 10,
    "start_time": "2021-07-01T15:25:51.677Z"
   },
   {
    "duration": 360,
    "start_time": "2021-07-01T15:25:51.689Z"
   },
   {
    "duration": 6,
    "start_time": "2021-07-01T15:25:52.050Z"
   },
   {
    "duration": 6,
    "start_time": "2021-07-01T15:25:52.058Z"
   },
   {
    "duration": 21,
    "start_time": "2021-07-01T15:25:52.065Z"
   },
   {
    "duration": 4,
    "start_time": "2021-07-01T15:25:56.344Z"
   },
   {
    "duration": 5,
    "start_time": "2021-07-01T15:27:58.999Z"
   },
   {
    "duration": 5,
    "start_time": "2021-07-01T15:30:06.186Z"
   },
   {
    "duration": 17,
    "start_time": "2021-07-01T15:34:41.733Z"
   },
   {
    "duration": 4,
    "start_time": "2021-07-01T15:43:16.963Z"
   },
   {
    "duration": 1126,
    "start_time": "2021-07-01T15:59:01.882Z"
   },
   {
    "duration": 29,
    "start_time": "2021-07-01T15:59:03.010Z"
   },
   {
    "duration": 8,
    "start_time": "2021-07-01T15:59:03.042Z"
   },
   {
    "duration": 13,
    "start_time": "2021-07-01T15:59:03.052Z"
   },
   {
    "duration": 26,
    "start_time": "2021-07-01T15:59:03.067Z"
   },
   {
    "duration": 8,
    "start_time": "2021-07-01T15:59:03.095Z"
   },
   {
    "duration": 12,
    "start_time": "2021-07-01T15:59:03.104Z"
   },
   {
    "duration": 4,
    "start_time": "2021-07-01T15:59:03.118Z"
   },
   {
    "duration": 9,
    "start_time": "2021-07-01T15:59:03.124Z"
   },
   {
    "duration": 10,
    "start_time": "2021-07-01T15:59:03.135Z"
   },
   {
    "duration": 50,
    "start_time": "2021-07-01T15:59:03.146Z"
   },
   {
    "duration": 16,
    "start_time": "2021-07-01T15:59:03.197Z"
   },
   {
    "duration": 9,
    "start_time": "2021-07-01T15:59:03.214Z"
   },
   {
    "duration": 5,
    "start_time": "2021-07-01T15:59:03.225Z"
   },
   {
    "duration": 290,
    "start_time": "2021-07-01T15:59:03.232Z"
   },
   {
    "duration": 1042,
    "start_time": "2021-07-01T15:59:03.523Z"
   },
   {
    "duration": 6,
    "start_time": "2021-07-01T15:59:04.567Z"
   },
   {
    "duration": 22,
    "start_time": "2021-07-01T15:59:04.574Z"
   },
   {
    "duration": 9,
    "start_time": "2021-07-01T15:59:04.597Z"
   },
   {
    "duration": 8,
    "start_time": "2021-07-01T15:59:04.607Z"
   },
   {
    "duration": 99,
    "start_time": "2021-07-01T15:59:04.616Z"
   },
   {
    "duration": 5,
    "start_time": "2021-07-01T15:59:04.717Z"
   },
   {
    "duration": 283,
    "start_time": "2021-07-01T15:59:04.725Z"
   },
   {
    "duration": 7,
    "start_time": "2021-07-01T15:59:05.010Z"
   },
   {
    "duration": 1472,
    "start_time": "2021-07-01T15:59:05.019Z"
   },
   {
    "duration": 7,
    "start_time": "2021-07-01T15:59:06.492Z"
   },
   {
    "duration": 367,
    "start_time": "2021-07-01T15:59:06.500Z"
   },
   {
    "duration": 7,
    "start_time": "2021-07-01T15:59:06.868Z"
   },
   {
    "duration": 4,
    "start_time": "2021-07-01T15:59:06.884Z"
   },
   {
    "duration": 9,
    "start_time": "2021-07-01T15:59:06.889Z"
   },
   {
    "duration": 5,
    "start_time": "2021-07-01T15:59:06.900Z"
   },
   {
    "duration": 8,
    "start_time": "2021-07-01T15:59:06.907Z"
   },
   {
    "duration": 1156,
    "start_time": "2021-07-01T16:02:41.967Z"
   },
   {
    "duration": 28,
    "start_time": "2021-07-01T16:02:43.125Z"
   },
   {
    "duration": 7,
    "start_time": "2021-07-01T16:02:43.155Z"
   },
   {
    "duration": 14,
    "start_time": "2021-07-01T16:02:43.164Z"
   },
   {
    "duration": 13,
    "start_time": "2021-07-01T16:02:43.180Z"
   },
   {
    "duration": 6,
    "start_time": "2021-07-01T16:02:43.195Z"
   },
   {
    "duration": 12,
    "start_time": "2021-07-01T16:02:43.202Z"
   },
   {
    "duration": 4,
    "start_time": "2021-07-01T16:02:43.216Z"
   },
   {
    "duration": 11,
    "start_time": "2021-07-01T16:02:43.222Z"
   },
   {
    "duration": 8,
    "start_time": "2021-07-01T16:02:43.234Z"
   },
   {
    "duration": 53,
    "start_time": "2021-07-01T16:02:43.244Z"
   },
   {
    "duration": 16,
    "start_time": "2021-07-01T16:02:43.299Z"
   },
   {
    "duration": 10,
    "start_time": "2021-07-01T16:02:43.316Z"
   },
   {
    "duration": 6,
    "start_time": "2021-07-01T16:02:43.327Z"
   },
   {
    "duration": 287,
    "start_time": "2021-07-01T16:02:43.334Z"
   },
   {
    "duration": 1088,
    "start_time": "2021-07-01T16:02:43.623Z"
   },
   {
    "duration": 5,
    "start_time": "2021-07-01T16:02:44.713Z"
   },
   {
    "duration": 24,
    "start_time": "2021-07-01T16:02:44.720Z"
   },
   {
    "duration": 10,
    "start_time": "2021-07-01T16:02:44.745Z"
   },
   {
    "duration": 7,
    "start_time": "2021-07-01T16:02:44.756Z"
   },
   {
    "duration": 95,
    "start_time": "2021-07-01T16:02:44.764Z"
   },
   {
    "duration": 6,
    "start_time": "2021-07-01T16:02:44.861Z"
   },
   {
    "duration": 303,
    "start_time": "2021-07-01T16:02:44.869Z"
   },
   {
    "duration": 16,
    "start_time": "2021-07-01T16:02:45.174Z"
   },
   {
    "duration": 1540,
    "start_time": "2021-07-01T16:02:45.192Z"
   },
   {
    "duration": 7,
    "start_time": "2021-07-01T16:02:46.733Z"
   },
   {
    "duration": 394,
    "start_time": "2021-07-01T16:02:46.742Z"
   },
   {
    "duration": 6,
    "start_time": "2021-07-01T16:02:47.138Z"
   },
   {
    "duration": 7,
    "start_time": "2021-07-01T16:02:47.146Z"
   },
   {
    "duration": 7,
    "start_time": "2021-07-01T16:02:47.155Z"
   },
   {
    "duration": 22,
    "start_time": "2021-07-01T16:02:47.164Z"
   },
   {
    "duration": 16,
    "start_time": "2021-07-01T16:02:47.188Z"
   },
   {
    "duration": 314,
    "start_time": "2021-07-01T16:04:59.910Z"
   },
   {
    "duration": 17,
    "start_time": "2021-07-01T16:07:15.075Z"
   },
   {
    "duration": 1669,
    "start_time": "2021-07-01T19:00:39.437Z"
   },
   {
    "duration": 41,
    "start_time": "2021-07-01T19:00:41.109Z"
   },
   {
    "duration": 13,
    "start_time": "2021-07-01T19:00:41.154Z"
   },
   {
    "duration": 16,
    "start_time": "2021-07-01T19:00:41.170Z"
   },
   {
    "duration": 52,
    "start_time": "2021-07-01T19:00:41.189Z"
   },
   {
    "duration": 13,
    "start_time": "2021-07-01T19:00:41.246Z"
   },
   {
    "duration": 29,
    "start_time": "2021-07-01T19:00:41.264Z"
   },
   {
    "duration": 34,
    "start_time": "2021-07-01T19:00:41.298Z"
   },
   {
    "duration": 17,
    "start_time": "2021-07-01T19:00:41.337Z"
   },
   {
    "duration": 14,
    "start_time": "2021-07-01T19:00:41.358Z"
   },
   {
    "duration": 58,
    "start_time": "2021-07-01T19:00:41.374Z"
   },
   {
    "duration": 46,
    "start_time": "2021-07-01T19:00:41.442Z"
   },
   {
    "duration": 43,
    "start_time": "2021-07-01T19:00:41.492Z"
   },
   {
    "duration": 14,
    "start_time": "2021-07-01T19:00:41.538Z"
   },
   {
    "duration": 471,
    "start_time": "2021-07-01T19:00:41.555Z"
   },
   {
    "duration": 1955,
    "start_time": "2021-07-01T19:00:42.029Z"
   },
   {
    "duration": 7,
    "start_time": "2021-07-01T19:00:43.987Z"
   },
   {
    "duration": 52,
    "start_time": "2021-07-01T19:00:43.997Z"
   },
   {
    "duration": 16,
    "start_time": "2021-07-01T19:00:44.052Z"
   },
   {
    "duration": 13,
    "start_time": "2021-07-01T19:00:44.071Z"
   },
   {
    "duration": 187,
    "start_time": "2021-07-01T19:00:44.088Z"
   },
   {
    "duration": 8,
    "start_time": "2021-07-01T19:00:44.278Z"
   },
   {
    "duration": 694,
    "start_time": "2021-07-01T19:00:44.291Z"
   },
   {
    "duration": 43,
    "start_time": "2021-07-01T19:00:44.991Z"
   },
   {
    "duration": 3674,
    "start_time": "2021-07-01T19:00:45.041Z"
   },
   {
    "duration": 22,
    "start_time": "2021-07-01T19:00:48.717Z"
   },
   {
    "duration": 691,
    "start_time": "2021-07-01T19:00:48.742Z"
   },
   {
    "duration": 11,
    "start_time": "2021-07-01T19:00:49.435Z"
   },
   {
    "duration": 11,
    "start_time": "2021-07-01T19:00:49.448Z"
   },
   {
    "duration": 18,
    "start_time": "2021-07-01T19:00:49.462Z"
   },
   {
    "duration": 15,
    "start_time": "2021-07-01T19:00:49.482Z"
   },
   {
    "duration": 7,
    "start_time": "2021-07-01T19:00:49.525Z"
   },
   {
    "duration": 19,
    "start_time": "2021-07-01T19:01:14.477Z"
   },
   {
    "duration": 443,
    "start_time": "2021-07-01T19:02:25.069Z"
   },
   {
    "duration": 15,
    "start_time": "2021-07-01T19:04:46.894Z"
   },
   {
    "duration": 28,
    "start_time": "2021-07-01T19:04:54.096Z"
   },
   {
    "duration": 447,
    "start_time": "2021-07-01T19:05:16.030Z"
   },
   {
    "duration": 15,
    "start_time": "2021-07-01T19:45:50.223Z"
   },
   {
    "duration": 8,
    "start_time": "2021-07-01T19:46:08.885Z"
   },
   {
    "duration": 6,
    "start_time": "2021-07-01T19:48:56.576Z"
   },
   {
    "duration": 1606,
    "start_time": "2021-07-01T20:16:29.596Z"
   },
   {
    "duration": 40,
    "start_time": "2021-07-01T20:16:31.205Z"
   },
   {
    "duration": 13,
    "start_time": "2021-07-01T20:16:31.248Z"
   },
   {
    "duration": 26,
    "start_time": "2021-07-01T20:16:31.264Z"
   },
   {
    "duration": 39,
    "start_time": "2021-07-01T20:16:31.293Z"
   },
   {
    "duration": 31,
    "start_time": "2021-07-01T20:16:31.335Z"
   },
   {
    "duration": 17,
    "start_time": "2021-07-01T20:16:31.369Z"
   },
   {
    "duration": 6,
    "start_time": "2021-07-01T20:16:31.390Z"
   },
   {
    "duration": 37,
    "start_time": "2021-07-01T20:16:31.399Z"
   },
   {
    "duration": 33,
    "start_time": "2021-07-01T20:16:31.438Z"
   },
   {
    "duration": 36,
    "start_time": "2021-07-01T20:16:31.474Z"
   },
   {
    "duration": 30,
    "start_time": "2021-07-01T20:16:31.512Z"
   },
   {
    "duration": 18,
    "start_time": "2021-07-01T20:16:31.545Z"
   },
   {
    "duration": 16,
    "start_time": "2021-07-01T20:16:31.565Z"
   },
   {
    "duration": 474,
    "start_time": "2021-07-01T20:16:31.584Z"
   },
   {
    "duration": 1821,
    "start_time": "2021-07-01T20:16:32.062Z"
   },
   {
    "duration": 10,
    "start_time": "2021-07-01T20:16:33.886Z"
   },
   {
    "duration": 63,
    "start_time": "2021-07-01T20:16:33.898Z"
   },
   {
    "duration": 14,
    "start_time": "2021-07-01T20:16:33.964Z"
   },
   {
    "duration": 15,
    "start_time": "2021-07-01T20:16:33.981Z"
   },
   {
    "duration": 165,
    "start_time": "2021-07-01T20:16:33.998Z"
   },
   {
    "duration": 8,
    "start_time": "2021-07-01T20:16:34.165Z"
   },
   {
    "duration": 488,
    "start_time": "2021-07-01T20:16:34.178Z"
   },
   {
    "duration": 10,
    "start_time": "2021-07-01T20:16:34.670Z"
   },
   {
    "duration": 2769,
    "start_time": "2021-07-01T20:16:34.682Z"
   },
   {
    "duration": 10,
    "start_time": "2021-07-01T20:16:37.453Z"
   },
   {
    "duration": 650,
    "start_time": "2021-07-01T20:16:37.465Z"
   },
   {
    "duration": 15,
    "start_time": "2021-07-01T20:16:38.117Z"
   },
   {
    "duration": 9,
    "start_time": "2021-07-01T20:16:38.136Z"
   },
   {
    "duration": 9,
    "start_time": "2021-07-01T20:16:38.152Z"
   },
   {
    "duration": 23,
    "start_time": "2021-07-01T20:16:38.163Z"
   },
   {
    "duration": 12,
    "start_time": "2021-07-01T20:16:38.188Z"
   },
   {
    "duration": 1542,
    "start_time": "2021-07-01T20:28:53.618Z"
   },
   {
    "duration": 34,
    "start_time": "2021-07-01T20:28:55.163Z"
   },
   {
    "duration": 10,
    "start_time": "2021-07-01T20:28:55.199Z"
   },
   {
    "duration": 20,
    "start_time": "2021-07-01T20:28:55.212Z"
   },
   {
    "duration": 15,
    "start_time": "2021-07-01T20:28:55.240Z"
   },
   {
    "duration": 9,
    "start_time": "2021-07-01T20:28:55.257Z"
   },
   {
    "duration": 18,
    "start_time": "2021-07-01T20:28:55.269Z"
   },
   {
    "duration": 5,
    "start_time": "2021-07-01T20:28:55.291Z"
   },
   {
    "duration": 22,
    "start_time": "2021-07-01T20:28:55.299Z"
   },
   {
    "duration": 20,
    "start_time": "2021-07-01T20:28:55.323Z"
   },
   {
    "duration": 33,
    "start_time": "2021-07-01T20:28:55.346Z"
   },
   {
    "duration": 24,
    "start_time": "2021-07-01T20:28:55.382Z"
   },
   {
    "duration": 15,
    "start_time": "2021-07-01T20:28:55.408Z"
   },
   {
    "duration": 8,
    "start_time": "2021-07-01T20:28:55.432Z"
   },
   {
    "duration": 584,
    "start_time": "2021-07-01T20:28:55.442Z"
   },
   {
    "duration": 1779,
    "start_time": "2021-07-01T20:28:56.029Z"
   },
   {
    "duration": 17,
    "start_time": "2021-07-01T20:28:57.810Z"
   },
   {
    "duration": 26,
    "start_time": "2021-07-01T20:28:57.832Z"
   },
   {
    "duration": 14,
    "start_time": "2021-07-01T20:28:57.860Z"
   },
   {
    "duration": 18,
    "start_time": "2021-07-01T20:28:57.876Z"
   },
   {
    "duration": 161,
    "start_time": "2021-07-01T20:28:57.897Z"
   },
   {
    "duration": 8,
    "start_time": "2021-07-01T20:28:58.060Z"
   },
   {
    "duration": 470,
    "start_time": "2021-07-01T20:28:58.075Z"
   },
   {
    "duration": 12,
    "start_time": "2021-07-01T20:28:58.549Z"
   },
   {
    "duration": 2595,
    "start_time": "2021-07-01T20:28:58.564Z"
   },
   {
    "duration": 9,
    "start_time": "2021-07-01T20:29:01.161Z"
   },
   {
    "duration": 632,
    "start_time": "2021-07-01T20:29:01.173Z"
   },
   {
    "duration": 27,
    "start_time": "2021-07-01T20:29:01.807Z"
   },
   {
    "duration": 13,
    "start_time": "2021-07-01T20:29:01.837Z"
   },
   {
    "duration": 22,
    "start_time": "2021-07-01T20:29:01.853Z"
   },
   {
    "duration": 26,
    "start_time": "2021-07-01T20:29:01.877Z"
   },
   {
    "duration": 32,
    "start_time": "2021-07-01T20:29:01.905Z"
   },
   {
    "duration": 1508,
    "start_time": "2021-07-02T09:04:37.070Z"
   },
   {
    "duration": 33,
    "start_time": "2021-07-02T09:04:38.582Z"
   },
   {
    "duration": 19,
    "start_time": "2021-07-02T09:04:38.619Z"
   },
   {
    "duration": 15,
    "start_time": "2021-07-02T09:04:38.641Z"
   },
   {
    "duration": 15,
    "start_time": "2021-07-02T09:04:38.658Z"
   },
   {
    "duration": 12,
    "start_time": "2021-07-02T09:04:38.676Z"
   },
   {
    "duration": 19,
    "start_time": "2021-07-02T09:04:38.725Z"
   },
   {
    "duration": 5,
    "start_time": "2021-07-02T09:04:38.748Z"
   },
   {
    "duration": 13,
    "start_time": "2021-07-02T09:04:38.756Z"
   },
   {
    "duration": 11,
    "start_time": "2021-07-02T09:04:38.771Z"
   },
   {
    "duration": 67,
    "start_time": "2021-07-02T09:04:38.784Z"
   },
   {
    "duration": 29,
    "start_time": "2021-07-02T09:04:38.853Z"
   },
   {
    "duration": 43,
    "start_time": "2021-07-02T09:04:38.884Z"
   },
   {
    "duration": 10,
    "start_time": "2021-07-02T09:04:38.930Z"
   },
   {
    "duration": 449,
    "start_time": "2021-07-02T09:04:38.943Z"
   },
   {
    "duration": 1859,
    "start_time": "2021-07-02T09:04:39.394Z"
   },
   {
    "duration": 6,
    "start_time": "2021-07-02T09:04:41.256Z"
   },
   {
    "duration": 29,
    "start_time": "2021-07-02T09:04:41.265Z"
   },
   {
    "duration": 28,
    "start_time": "2021-07-02T09:04:41.297Z"
   },
   {
    "duration": 5,
    "start_time": "2021-07-02T09:04:41.327Z"
   },
   {
    "duration": 137,
    "start_time": "2021-07-02T09:04:41.334Z"
   },
   {
    "duration": 8,
    "start_time": "2021-07-02T09:04:41.474Z"
   },
   {
    "duration": 460,
    "start_time": "2021-07-02T09:04:41.487Z"
   },
   {
    "duration": 11,
    "start_time": "2021-07-02T09:04:41.949Z"
   },
   {
    "duration": 2615,
    "start_time": "2021-07-02T09:04:41.963Z"
   },
   {
    "duration": 10,
    "start_time": "2021-07-02T09:04:44.580Z"
   },
   {
    "duration": 605,
    "start_time": "2021-07-02T09:04:44.592Z"
   },
   {
    "duration": 9,
    "start_time": "2021-07-02T09:04:45.199Z"
   },
   {
    "duration": 17,
    "start_time": "2021-07-02T09:04:45.211Z"
   },
   {
    "duration": 24,
    "start_time": "2021-07-02T09:04:45.230Z"
   },
   {
    "duration": 30,
    "start_time": "2021-07-02T09:04:45.256Z"
   },
   {
    "duration": 19,
    "start_time": "2021-07-02T09:04:45.289Z"
   },
   {
    "duration": 31,
    "start_time": "2021-07-02T09:18:10.272Z"
   },
   {
    "duration": 1388,
    "start_time": "2021-07-02T09:32:26.498Z"
   },
   {
    "duration": 32,
    "start_time": "2021-07-02T09:32:28.110Z"
   },
   {
    "duration": 11,
    "start_time": "2021-07-02T09:32:30.294Z"
   },
   {
    "duration": 15,
    "start_time": "2021-07-02T09:32:32.790Z"
   },
   {
    "duration": 14,
    "start_time": "2021-07-02T09:32:36.233Z"
   },
   {
    "duration": 9,
    "start_time": "2021-07-02T09:32:41.955Z"
   },
   {
    "duration": 17,
    "start_time": "2021-07-02T09:32:44.254Z"
   },
   {
    "duration": 6,
    "start_time": "2021-07-02T09:32:44.839Z"
   },
   {
    "duration": 12,
    "start_time": "2021-07-02T09:32:47.962Z"
   },
   {
    "duration": 10,
    "start_time": "2021-07-02T09:32:49.126Z"
   },
   {
    "duration": 33,
    "start_time": "2021-07-02T09:32:52.022Z"
   },
   {
    "duration": 25,
    "start_time": "2021-07-02T09:32:56.569Z"
   },
   {
    "duration": 14,
    "start_time": "2021-07-02T09:33:15.790Z"
   },
   {
    "duration": 9,
    "start_time": "2021-07-02T09:33:17.392Z"
   },
   {
    "duration": 389,
    "start_time": "2021-07-02T09:33:22.094Z"
   },
   {
    "duration": 1616,
    "start_time": "2021-07-02T09:33:24.238Z"
   },
   {
    "duration": 28,
    "start_time": "2021-07-02T09:35:32.793Z"
   },
   {
    "duration": 35,
    "start_time": "2021-07-02T09:37:30.765Z"
   },
   {
    "duration": 29,
    "start_time": "2021-07-02T09:37:59.387Z"
   },
   {
    "duration": 38,
    "start_time": "2021-07-02T09:40:17.255Z"
   },
   {
    "duration": 41,
    "start_time": "2021-07-02T09:40:34.147Z"
   },
   {
    "duration": 38,
    "start_time": "2021-07-02T09:40:41.287Z"
   },
   {
    "duration": 11,
    "start_time": "2021-07-02T09:46:19.561Z"
   },
   {
    "duration": 10,
    "start_time": "2021-07-02T09:46:30.944Z"
   },
   {
    "duration": 28,
    "start_time": "2021-07-02T09:46:51.066Z"
   },
   {
    "duration": 28,
    "start_time": "2021-07-02T09:47:23.131Z"
   },
   {
    "duration": 3,
    "start_time": "2021-07-02T09:49:47.418Z"
   },
   {
    "duration": 42,
    "start_time": "2021-07-02T09:49:47.427Z"
   },
   {
    "duration": 10,
    "start_time": "2021-07-02T09:49:47.472Z"
   },
   {
    "duration": 18,
    "start_time": "2021-07-02T09:49:47.484Z"
   },
   {
    "duration": 13,
    "start_time": "2021-07-02T09:49:47.504Z"
   },
   {
    "duration": 43,
    "start_time": "2021-07-02T09:49:47.520Z"
   },
   {
    "duration": 19,
    "start_time": "2021-07-02T09:49:47.565Z"
   },
   {
    "duration": 5,
    "start_time": "2021-07-02T09:49:47.587Z"
   },
   {
    "duration": 21,
    "start_time": "2021-07-02T09:49:47.595Z"
   },
   {
    "duration": 35,
    "start_time": "2021-07-02T09:49:47.619Z"
   },
   {
    "duration": 31,
    "start_time": "2021-07-02T09:49:47.657Z"
   },
   {
    "duration": 26,
    "start_time": "2021-07-02T09:49:47.691Z"
   },
   {
    "duration": 44,
    "start_time": "2021-07-02T09:49:47.720Z"
   },
   {
    "duration": 12,
    "start_time": "2021-07-02T09:49:47.766Z"
   },
   {
    "duration": 417,
    "start_time": "2021-07-02T09:49:47.780Z"
   },
   {
    "duration": 1570,
    "start_time": "2021-07-02T09:49:48.199Z"
   },
   {
    "duration": 29,
    "start_time": "2021-07-02T09:49:49.772Z"
   },
   {
    "duration": 382,
    "start_time": "2021-07-02T09:52:45.771Z"
   },
   {
    "duration": 19,
    "start_time": "2021-07-02T09:52:48.053Z"
   },
   {
    "duration": 10,
    "start_time": "2021-07-02T09:52:54.028Z"
   },
   {
    "duration": 7,
    "start_time": "2021-07-02T09:53:21.792Z"
   },
   {
    "duration": 6106,
    "start_time": "2021-07-02T09:54:34.407Z"
   },
   {
    "duration": 1748,
    "start_time": "2021-07-02T09:54:54.568Z"
   },
   {
    "duration": 6624,
    "start_time": "2021-07-02T09:55:07.623Z"
   },
   {
    "duration": 11433,
    "start_time": "2021-07-02T09:55:49.433Z"
   },
   {
    "duration": 1826,
    "start_time": "2021-07-02T09:56:41.862Z"
   },
   {
    "duration": 6761,
    "start_time": "2021-07-02T09:56:52.975Z"
   },
   {
    "duration": 1750,
    "start_time": "2021-07-02T09:58:41.883Z"
   },
   {
    "duration": 44,
    "start_time": "2021-07-02T09:59:12.264Z"
   },
   {
    "duration": 16,
    "start_time": "2021-07-02T10:00:40.505Z"
   },
   {
    "duration": 41,
    "start_time": "2021-07-02T10:01:02.051Z"
   },
   {
    "duration": 7,
    "start_time": "2021-07-02T10:02:58.052Z"
   },
   {
    "duration": 19,
    "start_time": "2021-07-02T10:04:38.277Z"
   },
   {
    "duration": 21,
    "start_time": "2021-07-02T10:04:57.033Z"
   },
   {
    "duration": 138,
    "start_time": "2021-07-02T10:06:36.948Z"
   },
   {
    "duration": 9,
    "start_time": "2021-07-02T10:06:48.538Z"
   },
   {
    "duration": 450,
    "start_time": "2021-07-02T10:14:49.504Z"
   },
   {
    "duration": 3759,
    "start_time": "2021-07-02T10:17:18.205Z"
   },
   {
    "duration": 2441,
    "start_time": "2021-07-02T10:17:46.516Z"
   },
   {
    "duration": 13,
    "start_time": "2021-07-02T10:17:59.443Z"
   },
   {
    "duration": 363,
    "start_time": "2021-07-02T10:19:18.509Z"
   },
   {
    "duration": 273,
    "start_time": "2021-07-02T10:19:30.410Z"
   },
   {
    "duration": 271,
    "start_time": "2021-07-02T10:20:04.314Z"
   },
   {
    "duration": 661,
    "start_time": "2021-07-02T10:21:33.179Z"
   },
   {
    "duration": 579,
    "start_time": "2021-07-02T10:22:16.087Z"
   },
   {
    "duration": 386,
    "start_time": "2021-07-02T10:57:52.895Z"
   },
   {
    "duration": 605,
    "start_time": "2021-07-02T10:58:07.657Z"
   },
   {
    "duration": 315,
    "start_time": "2021-07-02T11:02:01.498Z"
   },
   {
    "duration": 295,
    "start_time": "2021-07-02T11:02:13.500Z"
   },
   {
    "duration": 610,
    "start_time": "2021-07-02T11:03:39.337Z"
   },
   {
    "duration": 650,
    "start_time": "2021-07-02T11:04:16.055Z"
   },
   {
    "duration": 602,
    "start_time": "2021-07-02T11:05:00.055Z"
   },
   {
    "duration": 700,
    "start_time": "2021-07-02T11:05:57.928Z"
   },
   {
    "duration": 4,
    "start_time": "2021-07-02T11:06:04.861Z"
   },
   {
    "duration": 586,
    "start_time": "2021-07-02T11:06:05.917Z"
   },
   {
    "duration": 714,
    "start_time": "2021-07-02T11:06:58.867Z"
   },
   {
    "duration": 593,
    "start_time": "2021-07-02T11:07:08.733Z"
   },
   {
    "duration": 585,
    "start_time": "2021-07-02T11:07:20.238Z"
   },
   {
    "duration": 702,
    "start_time": "2021-07-02T11:08:02.498Z"
   },
   {
    "duration": 283,
    "start_time": "2021-07-02T11:08:15.430Z"
   },
   {
    "duration": 603,
    "start_time": "2021-07-02T11:08:31.590Z"
   },
   {
    "duration": 596,
    "start_time": "2021-07-02T11:09:13.603Z"
   },
   {
    "duration": 21,
    "start_time": "2021-07-02T11:41:31.844Z"
   },
   {
    "duration": 281,
    "start_time": "2021-07-02T11:43:50.758Z"
   },
   {
    "duration": 28,
    "start_time": "2021-07-02T11:44:06.426Z"
   },
   {
    "duration": 739,
    "start_time": "2021-07-02T12:27:35.535Z"
   },
   {
    "duration": 1623,
    "start_time": "2021-07-02T12:50:58.401Z"
   },
   {
    "duration": 36,
    "start_time": "2021-07-02T12:51:00.026Z"
   },
   {
    "duration": 11,
    "start_time": "2021-07-02T12:51:00.065Z"
   },
   {
    "duration": 26,
    "start_time": "2021-07-02T12:51:00.079Z"
   },
   {
    "duration": 15,
    "start_time": "2021-07-02T12:51:00.108Z"
   },
   {
    "duration": 32,
    "start_time": "2021-07-02T12:51:00.125Z"
   },
   {
    "duration": 41,
    "start_time": "2021-07-02T12:51:00.160Z"
   },
   {
    "duration": 8,
    "start_time": "2021-07-02T12:51:00.207Z"
   },
   {
    "duration": 40,
    "start_time": "2021-07-02T12:51:00.219Z"
   },
   {
    "duration": 18,
    "start_time": "2021-07-02T12:51:00.262Z"
   },
   {
    "duration": 53,
    "start_time": "2021-07-02T12:51:00.283Z"
   },
   {
    "duration": 25,
    "start_time": "2021-07-02T12:51:00.338Z"
   },
   {
    "duration": 16,
    "start_time": "2021-07-02T12:51:00.367Z"
   },
   {
    "duration": 14,
    "start_time": "2021-07-02T12:51:00.386Z"
   },
   {
    "duration": 513,
    "start_time": "2021-07-02T12:51:00.402Z"
   },
   {
    "duration": 1769,
    "start_time": "2021-07-02T12:51:00.918Z"
   },
   {
    "duration": 29,
    "start_time": "2021-07-02T12:51:02.690Z"
   },
   {
    "duration": 33,
    "start_time": "2021-07-02T12:51:02.722Z"
   },
   {
    "duration": 32,
    "start_time": "2021-07-02T12:51:02.758Z"
   },
   {
    "duration": 7,
    "start_time": "2021-07-02T12:51:02.793Z"
   },
   {
    "duration": 55,
    "start_time": "2021-07-02T12:51:02.802Z"
   },
   {
    "duration": 151,
    "start_time": "2021-07-02T12:51:02.860Z"
   },
   {
    "duration": 7,
    "start_time": "2021-07-02T12:51:03.016Z"
   },
   {
    "duration": 497,
    "start_time": "2021-07-02T12:51:03.026Z"
   },
   {
    "duration": 2764,
    "start_time": "2021-07-02T12:51:03.526Z"
   },
   {
    "duration": 248,
    "start_time": "2021-07-02T12:51:06.292Z"
   },
   {
    "duration": 39,
    "start_time": "2021-07-02T12:51:06.542Z"
   },
   {
    "duration": 640,
    "start_time": "2021-07-02T12:51:06.584Z"
   },
   {
    "duration": 647,
    "start_time": "2021-07-02T12:51:07.227Z"
   },
   {
    "duration": 9,
    "start_time": "2021-07-02T12:51:07.877Z"
   },
   {
    "duration": 20,
    "start_time": "2021-07-02T12:51:07.889Z"
   },
   {
    "duration": 17,
    "start_time": "2021-07-02T12:51:07.911Z"
   },
   {
    "duration": 26,
    "start_time": "2021-07-02T12:51:07.930Z"
   },
   {
    "duration": 27,
    "start_time": "2021-07-02T12:51:07.959Z"
   },
   {
    "duration": 1533,
    "start_time": "2021-07-02T18:03:21.546Z"
   },
   {
    "duration": 34,
    "start_time": "2021-07-02T18:03:23.082Z"
   },
   {
    "duration": 11,
    "start_time": "2021-07-02T18:03:23.119Z"
   },
   {
    "duration": 31,
    "start_time": "2021-07-02T18:03:23.133Z"
   },
   {
    "duration": 13,
    "start_time": "2021-07-02T18:03:23.166Z"
   },
   {
    "duration": 11,
    "start_time": "2021-07-02T18:03:23.182Z"
   },
   {
    "duration": 22,
    "start_time": "2021-07-02T18:03:23.195Z"
   },
   {
    "duration": 34,
    "start_time": "2021-07-02T18:03:23.221Z"
   },
   {
    "duration": 21,
    "start_time": "2021-07-02T18:03:23.258Z"
   },
   {
    "duration": 14,
    "start_time": "2021-07-02T18:03:23.282Z"
   },
   {
    "duration": 35,
    "start_time": "2021-07-02T18:03:23.299Z"
   },
   {
    "duration": 36,
    "start_time": "2021-07-02T18:03:23.336Z"
   },
   {
    "duration": 14,
    "start_time": "2021-07-02T18:03:23.375Z"
   },
   {
    "duration": 9,
    "start_time": "2021-07-02T18:03:23.391Z"
   },
   {
    "duration": 539,
    "start_time": "2021-07-02T18:03:23.402Z"
   },
   {
    "duration": 1750,
    "start_time": "2021-07-02T18:03:23.943Z"
   },
   {
    "duration": 30,
    "start_time": "2021-07-02T18:03:25.695Z"
   },
   {
    "duration": 34,
    "start_time": "2021-07-02T18:03:25.727Z"
   },
   {
    "duration": 31,
    "start_time": "2021-07-02T18:03:25.763Z"
   },
   {
    "duration": 6,
    "start_time": "2021-07-02T18:03:25.797Z"
   },
   {
    "duration": 50,
    "start_time": "2021-07-02T18:03:25.806Z"
   },
   {
    "duration": 138,
    "start_time": "2021-07-02T18:03:25.860Z"
   },
   {
    "duration": 7,
    "start_time": "2021-07-02T18:03:26.003Z"
   },
   {
    "duration": 466,
    "start_time": "2021-07-02T18:03:26.012Z"
   },
   {
    "duration": 2492,
    "start_time": "2021-07-02T18:03:26.480Z"
   },
   {
    "duration": 235,
    "start_time": "2021-07-02T18:03:28.974Z"
   },
   {
    "duration": 24,
    "start_time": "2021-07-02T18:03:29.211Z"
   },
   {
    "duration": 591,
    "start_time": "2021-07-02T18:03:29.325Z"
   },
   {
    "duration": 6,
    "start_time": "2021-07-02T18:04:39.005Z"
   },
   {
    "duration": 5,
    "start_time": "2021-07-02T18:04:50.086Z"
   },
   {
    "duration": 595,
    "start_time": "2021-07-02T18:05:47.359Z"
   },
   {
    "duration": 705,
    "start_time": "2021-07-02T18:05:59.911Z"
   },
   {
    "duration": 492,
    "start_time": "2021-07-02T20:03:12.736Z"
   },
   {
    "duration": 1479,
    "start_time": "2021-07-02T20:41:06.377Z"
   },
   {
    "duration": 34,
    "start_time": "2021-07-02T20:41:07.859Z"
   },
   {
    "duration": 10,
    "start_time": "2021-07-02T20:41:07.896Z"
   },
   {
    "duration": 21,
    "start_time": "2021-07-02T20:41:07.909Z"
   },
   {
    "duration": 26,
    "start_time": "2021-07-02T20:41:07.932Z"
   },
   {
    "duration": 14,
    "start_time": "2021-07-02T20:41:07.961Z"
   },
   {
    "duration": 18,
    "start_time": "2021-07-02T20:41:07.977Z"
   },
   {
    "duration": 5,
    "start_time": "2021-07-02T20:41:07.999Z"
   },
   {
    "duration": 46,
    "start_time": "2021-07-02T20:41:08.010Z"
   },
   {
    "duration": 22,
    "start_time": "2021-07-02T20:41:08.058Z"
   },
   {
    "duration": 35,
    "start_time": "2021-07-02T20:41:08.083Z"
   },
   {
    "duration": 34,
    "start_time": "2021-07-02T20:41:08.120Z"
   },
   {
    "duration": 15,
    "start_time": "2021-07-02T20:41:08.156Z"
   },
   {
    "duration": 10,
    "start_time": "2021-07-02T20:41:08.174Z"
   },
   {
    "duration": 438,
    "start_time": "2021-07-02T20:41:08.187Z"
   },
   {
    "duration": 2161,
    "start_time": "2021-07-02T20:41:08.628Z"
   },
   {
    "duration": 28,
    "start_time": "2021-07-02T20:41:10.791Z"
   },
   {
    "duration": 10,
    "start_time": "2021-07-02T20:41:10.822Z"
   },
   {
    "duration": 28,
    "start_time": "2021-07-02T20:41:10.854Z"
   },
   {
    "duration": 6,
    "start_time": "2021-07-02T20:41:10.884Z"
   },
   {
    "duration": 62,
    "start_time": "2021-07-02T20:41:10.892Z"
   },
   {
    "duration": 146,
    "start_time": "2021-07-02T20:41:10.957Z"
   },
   {
    "duration": 8,
    "start_time": "2021-07-02T20:41:11.108Z"
   },
   {
    "duration": 578,
    "start_time": "2021-07-02T20:41:11.118Z"
   },
   {
    "duration": 561,
    "start_time": "2021-07-02T20:41:11.698Z"
   },
   {
    "duration": 2881,
    "start_time": "2021-07-02T20:41:12.262Z"
   },
   {
    "duration": 274,
    "start_time": "2021-07-02T20:41:15.146Z"
   },
   {
    "duration": 52,
    "start_time": "2021-07-02T20:41:15.423Z"
   },
   {
    "duration": 865,
    "start_time": "2021-07-02T20:41:15.478Z"
   },
   {
    "duration": 719,
    "start_time": "2021-07-02T20:41:16.345Z"
   },
   {
    "duration": 9,
    "start_time": "2021-07-02T20:41:17.067Z"
   },
   {
    "duration": 15,
    "start_time": "2021-07-02T20:41:17.080Z"
   },
   {
    "duration": 13,
    "start_time": "2021-07-02T20:41:17.098Z"
   },
   {
    "duration": 24,
    "start_time": "2021-07-02T20:41:17.114Z"
   },
   {
    "duration": 24,
    "start_time": "2021-07-02T20:41:17.140Z"
   },
   {
    "duration": 1207,
    "start_time": "2021-07-29T14:42:46.320Z"
   },
   {
    "duration": 338,
    "start_time": "2021-07-29T14:44:51.661Z"
   },
   {
    "duration": 265,
    "start_time": "2021-07-29T14:45:00.458Z"
   },
   {
    "duration": 27,
    "start_time": "2021-07-29T14:45:05.641Z"
   },
   {
    "duration": 396,
    "start_time": "2021-07-29T14:45:06.805Z"
   },
   {
    "duration": 363,
    "start_time": "2021-07-29T14:45:47.762Z"
   },
   {
    "duration": 1175,
    "start_time": "2021-07-29T15:02:54.652Z"
   },
   {
    "duration": 26,
    "start_time": "2021-07-29T15:02:55.829Z"
   },
   {
    "duration": 7,
    "start_time": "2021-07-29T15:02:55.857Z"
   },
   {
    "duration": 15,
    "start_time": "2021-07-29T15:02:55.865Z"
   },
   {
    "duration": 14,
    "start_time": "2021-07-29T15:02:55.881Z"
   },
   {
    "duration": 7,
    "start_time": "2021-07-29T15:02:55.896Z"
   },
   {
    "duration": 13,
    "start_time": "2021-07-29T15:02:55.905Z"
   },
   {
    "duration": 7,
    "start_time": "2021-07-29T15:02:55.921Z"
   },
   {
    "duration": 14,
    "start_time": "2021-07-29T15:02:55.929Z"
   },
   {
    "duration": 7,
    "start_time": "2021-07-29T15:02:55.945Z"
   },
   {
    "duration": 23,
    "start_time": "2021-07-29T15:02:55.954Z"
   },
   {
    "duration": 15,
    "start_time": "2021-07-29T15:02:55.991Z"
   },
   {
    "duration": 9,
    "start_time": "2021-07-29T15:02:56.008Z"
   },
   {
    "duration": 5,
    "start_time": "2021-07-29T15:02:56.019Z"
   },
   {
    "duration": 252,
    "start_time": "2021-07-29T15:02:56.025Z"
   },
   {
    "duration": 972,
    "start_time": "2021-07-29T15:02:56.280Z"
   },
   {
    "duration": 19,
    "start_time": "2021-07-29T15:02:57.254Z"
   },
   {
    "duration": 20,
    "start_time": "2021-07-29T15:02:57.274Z"
   },
   {
    "duration": 18,
    "start_time": "2021-07-29T15:02:57.296Z"
   },
   {
    "duration": 5,
    "start_time": "2021-07-29T15:02:57.315Z"
   },
   {
    "duration": 21,
    "start_time": "2021-07-29T15:02:57.321Z"
   },
   {
    "duration": 103,
    "start_time": "2021-07-29T15:02:57.343Z"
   },
   {
    "duration": 5,
    "start_time": "2021-07-29T15:02:57.449Z"
   },
   {
    "duration": 325,
    "start_time": "2021-07-29T15:02:57.456Z"
   },
   {
    "duration": 290,
    "start_time": "2021-07-29T15:02:57.783Z"
   },
   {
    "duration": 1710,
    "start_time": "2021-07-29T15:02:58.075Z"
   },
   {
    "duration": 161,
    "start_time": "2021-07-29T15:02:59.790Z"
   },
   {
    "duration": 14,
    "start_time": "2021-07-29T15:02:59.953Z"
   },
   {
    "duration": 343,
    "start_time": "2021-07-29T15:02:59.969Z"
   },
   {
    "duration": 440,
    "start_time": "2021-07-29T15:03:00.314Z"
   },
   {
    "duration": 8,
    "start_time": "2021-07-29T15:03:00.756Z"
   },
   {
    "duration": 26,
    "start_time": "2021-07-29T15:03:00.766Z"
   },
   {
    "duration": 28,
    "start_time": "2021-07-29T15:03:00.794Z"
   },
   {
    "duration": 23,
    "start_time": "2021-07-29T15:03:00.824Z"
   },
   {
    "duration": 16,
    "start_time": "2021-07-29T15:03:00.849Z"
   }
  ],
  "kernelspec": {
   "display_name": "Python 3",
   "language": "python",
   "name": "python3"
  },
  "language_info": {
   "codemirror_mode": {
    "name": "ipython",
    "version": 3
   },
   "file_extension": ".py",
   "mimetype": "text/x-python",
   "name": "python",
   "nbconvert_exporter": "python",
   "pygments_lexer": "ipython3",
   "version": "3.7.8"
  },
  "toc": {
   "base_numbering": 1,
   "nav_menu": {},
   "number_sections": false,
   "sideBar": true,
   "skip_h1_title": true,
   "title_cell": "Table of Contents",
   "title_sidebar": "Contents",
   "toc_cell": false,
   "toc_position": {},
   "toc_section_display": true,
   "toc_window_display": false
  }
 },
 "nbformat": 4,
 "nbformat_minor": 2
}
